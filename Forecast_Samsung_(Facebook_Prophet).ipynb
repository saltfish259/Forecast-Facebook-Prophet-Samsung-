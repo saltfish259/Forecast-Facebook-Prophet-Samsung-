{
  "nbformat": 4,
  "nbformat_minor": 0,
  "metadata": {
    "colab": {
      "provenance": []
    },
    "kernelspec": {
      "name": "python3",
      "display_name": "Python 3"
    },
    "language_info": {
      "name": "python"
    }
  },
  "cells": [
    {
      "cell_type": "markdown",
      "source": [
        "**Nama**: Razif Zulvikar Hatuwe"
      ],
      "metadata": {
        "id": "Q8sRRq1cqMA6"
      }
    },
    {
      "cell_type": "markdown",
      "source": [
        "## Kaggle Download"
      ],
      "metadata": {
        "id": "CjGx_7DZ36AQ"
      }
    },
    {
      "cell_type": "markdown",
      "source": [
        "1. `import kagglehub` mengimpor modul kagglehub, yang memungkinkan pengguna untuk mengunduh dataset dari Kaggle menggunakan API\n",
        "2. `path = kagglehub.dataset_download(...)`, fungsi untuk mengunduh versi terbaru dari dataset. hasil unduhan akan di simpan pada variable path.\n",
        "3. `print(\"Path to dataset files:\", path)` berfungsi untuk melihat lokasi file dataset yang baru saja di unduh."
      ],
      "metadata": {
        "id": "vyvPGhHErRzd"
      }
    },
    {
      "cell_type": "code",
      "execution_count": null,
      "metadata": {
        "id": "M7NyQ7hN36AQ",
        "colab": {
          "base_uri": "https://localhost:8080/"
        },
        "outputId": "7bb16b97-ec7f-4997-9a37-529675230358"
      },
      "outputs": [
        {
          "output_type": "stream",
          "name": "stdout",
          "text": [
            "Downloading from https://www.kaggle.com/api/v1/datasets/download/caesarmario/samsung-electronics-stock-historical-price?dataset_version_number=759...\n"
          ]
        },
        {
          "output_type": "stream",
          "name": "stderr",
          "text": [
            "100%|██████████| 34.8k/34.8k [00:00<00:00, 17.9MB/s]"
          ]
        },
        {
          "output_type": "stream",
          "name": "stdout",
          "text": [
            "Extracting files...\n",
            "Path to dataset files: /root/.cache/kagglehub/datasets/caesarmario/samsung-electronics-stock-historical-price/versions/759\n"
          ]
        },
        {
          "output_type": "stream",
          "name": "stderr",
          "text": [
            "\n"
          ]
        }
      ],
      "source": [
        "import kagglehub\n",
        "\n",
        "# Download latest version\n",
        "path = kagglehub.dataset_download(\"caesarmario/samsung-electronics-stock-historical-price\")\n",
        "\n",
        "print(\"Path to dataset files:\", path)"
      ]
    },
    {
      "cell_type": "code",
      "source": [
        "import pandas as pd\n",
        "data = pd.read_csv('/root/.cache/kagglehub/datasets/caesarmario/samsung-electronics-stock-historical-price/versions/759/005930.KS.csv')"
      ],
      "metadata": {
        "id": "jJrL60gZ6jwu"
      },
      "execution_count": null,
      "outputs": []
    },
    {
      "cell_type": "markdown",
      "source": [
        "# EDA"
      ],
      "metadata": {
        "id": "jKVz3U7gSuZv"
      }
    },
    {
      "cell_type": "markdown",
      "source": [
        "## Library EDA"
      ],
      "metadata": {
        "id": "hFx0MiicSwbf"
      }
    },
    {
      "cell_type": "markdown",
      "source": [
        "1. `seasonal_decompose` dari `statsmodels.tsa.seasonal` digunakan untuk melakukan dekomposisi time series menjadi beberapa komponen, yaitu trend, seasonal, residual, dan observed.\n",
        "2. `matplotlib.pyplot` digunakan untuk membuat grafik sederhana.\n",
        "3. `seaborn` librari visualisasi data."
      ],
      "metadata": {
        "id": "xcEj4GnikXXJ"
      }
    },
    {
      "cell_type": "code",
      "source": [
        "from statsmodels.tsa.seasonal import seasonal_decompose\n",
        "import matplotlib.pyplot as plt\n",
        "import seaborn as sns"
      ],
      "metadata": {
        "id": "8d0A8sNdSvzf"
      },
      "execution_count": null,
      "outputs": []
    },
    {
      "cell_type": "markdown",
      "source": [
        "## Struktur Data"
      ],
      "metadata": {
        "id": "GZ4qTQBnTmDY"
      }
    },
    {
      "cell_type": "markdown",
      "source": [
        "\n",
        "`data.head()` untuk menampilkan lima baris pertapa dari data untuk memberikan gambaran awal tentang struktur data dan nilai - nilai data."
      ],
      "metadata": {
        "id": "6SgqHwVhk1F6"
      }
    },
    {
      "cell_type": "code",
      "source": [
        "data.head()"
      ],
      "metadata": {
        "colab": {
          "base_uri": "https://localhost:8080/",
          "height": 206
        },
        "id": "E9h5M1YwTpfv",
        "outputId": "c41e56b8-ed45-4177-c32d-f1c565866be9"
      },
      "execution_count": null,
      "outputs": [
        {
          "output_type": "execute_result",
          "data": {
            "text/plain": [
              "         Date     Open     High      Low    Close     Adj Close    Volume\n",
              "0  2019-01-02  39400.0  39400.0  38550.0  38750.0  33474.062500   7847664\n",
              "1  2019-01-03  38300.0  38550.0  37450.0  37600.0  32480.625000  12471493\n",
              "2  2019-01-04  37450.0  37600.0  36850.0  37450.0  32351.052734  14108958\n",
              "3  2019-01-07  38000.0  38900.0  37800.0  38750.0  33474.062500  12748997\n",
              "4  2019-01-08  38000.0  39200.0  37950.0  38100.0  32912.558594  12756554"
            ],
            "text/html": [
              "\n",
              "  <div id=\"df-fae6df90-14af-479d-907f-d8e26b34251f\" class=\"colab-df-container\">\n",
              "    <div>\n",
              "<style scoped>\n",
              "    .dataframe tbody tr th:only-of-type {\n",
              "        vertical-align: middle;\n",
              "    }\n",
              "\n",
              "    .dataframe tbody tr th {\n",
              "        vertical-align: top;\n",
              "    }\n",
              "\n",
              "    .dataframe thead th {\n",
              "        text-align: right;\n",
              "    }\n",
              "</style>\n",
              "<table border=\"1\" class=\"dataframe\">\n",
              "  <thead>\n",
              "    <tr style=\"text-align: right;\">\n",
              "      <th></th>\n",
              "      <th>Date</th>\n",
              "      <th>Open</th>\n",
              "      <th>High</th>\n",
              "      <th>Low</th>\n",
              "      <th>Close</th>\n",
              "      <th>Adj Close</th>\n",
              "      <th>Volume</th>\n",
              "    </tr>\n",
              "  </thead>\n",
              "  <tbody>\n",
              "    <tr>\n",
              "      <th>0</th>\n",
              "      <td>2019-01-02</td>\n",
              "      <td>39400.0</td>\n",
              "      <td>39400.0</td>\n",
              "      <td>38550.0</td>\n",
              "      <td>38750.0</td>\n",
              "      <td>33474.062500</td>\n",
              "      <td>7847664</td>\n",
              "    </tr>\n",
              "    <tr>\n",
              "      <th>1</th>\n",
              "      <td>2019-01-03</td>\n",
              "      <td>38300.0</td>\n",
              "      <td>38550.0</td>\n",
              "      <td>37450.0</td>\n",
              "      <td>37600.0</td>\n",
              "      <td>32480.625000</td>\n",
              "      <td>12471493</td>\n",
              "    </tr>\n",
              "    <tr>\n",
              "      <th>2</th>\n",
              "      <td>2019-01-04</td>\n",
              "      <td>37450.0</td>\n",
              "      <td>37600.0</td>\n",
              "      <td>36850.0</td>\n",
              "      <td>37450.0</td>\n",
              "      <td>32351.052734</td>\n",
              "      <td>14108958</td>\n",
              "    </tr>\n",
              "    <tr>\n",
              "      <th>3</th>\n",
              "      <td>2019-01-07</td>\n",
              "      <td>38000.0</td>\n",
              "      <td>38900.0</td>\n",
              "      <td>37800.0</td>\n",
              "      <td>38750.0</td>\n",
              "      <td>33474.062500</td>\n",
              "      <td>12748997</td>\n",
              "    </tr>\n",
              "    <tr>\n",
              "      <th>4</th>\n",
              "      <td>2019-01-08</td>\n",
              "      <td>38000.0</td>\n",
              "      <td>39200.0</td>\n",
              "      <td>37950.0</td>\n",
              "      <td>38100.0</td>\n",
              "      <td>32912.558594</td>\n",
              "      <td>12756554</td>\n",
              "    </tr>\n",
              "  </tbody>\n",
              "</table>\n",
              "</div>\n",
              "    <div class=\"colab-df-buttons\">\n",
              "\n",
              "  <div class=\"colab-df-container\">\n",
              "    <button class=\"colab-df-convert\" onclick=\"convertToInteractive('df-fae6df90-14af-479d-907f-d8e26b34251f')\"\n",
              "            title=\"Convert this dataframe to an interactive table.\"\n",
              "            style=\"display:none;\">\n",
              "\n",
              "  <svg xmlns=\"http://www.w3.org/2000/svg\" height=\"24px\" viewBox=\"0 -960 960 960\">\n",
              "    <path d=\"M120-120v-720h720v720H120Zm60-500h600v-160H180v160Zm220 220h160v-160H400v160Zm0 220h160v-160H400v160ZM180-400h160v-160H180v160Zm440 0h160v-160H620v160ZM180-180h160v-160H180v160Zm440 0h160v-160H620v160Z\"/>\n",
              "  </svg>\n",
              "    </button>\n",
              "\n",
              "  <style>\n",
              "    .colab-df-container {\n",
              "      display:flex;\n",
              "      gap: 12px;\n",
              "    }\n",
              "\n",
              "    .colab-df-convert {\n",
              "      background-color: #E8F0FE;\n",
              "      border: none;\n",
              "      border-radius: 50%;\n",
              "      cursor: pointer;\n",
              "      display: none;\n",
              "      fill: #1967D2;\n",
              "      height: 32px;\n",
              "      padding: 0 0 0 0;\n",
              "      width: 32px;\n",
              "    }\n",
              "\n",
              "    .colab-df-convert:hover {\n",
              "      background-color: #E2EBFA;\n",
              "      box-shadow: 0px 1px 2px rgba(60, 64, 67, 0.3), 0px 1px 3px 1px rgba(60, 64, 67, 0.15);\n",
              "      fill: #174EA6;\n",
              "    }\n",
              "\n",
              "    .colab-df-buttons div {\n",
              "      margin-bottom: 4px;\n",
              "    }\n",
              "\n",
              "    [theme=dark] .colab-df-convert {\n",
              "      background-color: #3B4455;\n",
              "      fill: #D2E3FC;\n",
              "    }\n",
              "\n",
              "    [theme=dark] .colab-df-convert:hover {\n",
              "      background-color: #434B5C;\n",
              "      box-shadow: 0px 1px 3px 1px rgba(0, 0, 0, 0.15);\n",
              "      filter: drop-shadow(0px 1px 2px rgba(0, 0, 0, 0.3));\n",
              "      fill: #FFFFFF;\n",
              "    }\n",
              "  </style>\n",
              "\n",
              "    <script>\n",
              "      const buttonEl =\n",
              "        document.querySelector('#df-fae6df90-14af-479d-907f-d8e26b34251f button.colab-df-convert');\n",
              "      buttonEl.style.display =\n",
              "        google.colab.kernel.accessAllowed ? 'block' : 'none';\n",
              "\n",
              "      async function convertToInteractive(key) {\n",
              "        const element = document.querySelector('#df-fae6df90-14af-479d-907f-d8e26b34251f');\n",
              "        const dataTable =\n",
              "          await google.colab.kernel.invokeFunction('convertToInteractive',\n",
              "                                                    [key], {});\n",
              "        if (!dataTable) return;\n",
              "\n",
              "        const docLinkHtml = 'Like what you see? Visit the ' +\n",
              "          '<a target=\"_blank\" href=https://colab.research.google.com/notebooks/data_table.ipynb>data table notebook</a>'\n",
              "          + ' to learn more about interactive tables.';\n",
              "        element.innerHTML = '';\n",
              "        dataTable['output_type'] = 'display_data';\n",
              "        await google.colab.output.renderOutput(dataTable, element);\n",
              "        const docLink = document.createElement('div');\n",
              "        docLink.innerHTML = docLinkHtml;\n",
              "        element.appendChild(docLink);\n",
              "      }\n",
              "    </script>\n",
              "  </div>\n",
              "\n",
              "\n",
              "<div id=\"df-ed2b78ac-4a81-45f9-b1ce-eba0e28f0146\">\n",
              "  <button class=\"colab-df-quickchart\" onclick=\"quickchart('df-ed2b78ac-4a81-45f9-b1ce-eba0e28f0146')\"\n",
              "            title=\"Suggest charts\"\n",
              "            style=\"display:none;\">\n",
              "\n",
              "<svg xmlns=\"http://www.w3.org/2000/svg\" height=\"24px\"viewBox=\"0 0 24 24\"\n",
              "     width=\"24px\">\n",
              "    <g>\n",
              "        <path d=\"M19 3H5c-1.1 0-2 .9-2 2v14c0 1.1.9 2 2 2h14c1.1 0 2-.9 2-2V5c0-1.1-.9-2-2-2zM9 17H7v-7h2v7zm4 0h-2V7h2v10zm4 0h-2v-4h2v4z\"/>\n",
              "    </g>\n",
              "</svg>\n",
              "  </button>\n",
              "\n",
              "<style>\n",
              "  .colab-df-quickchart {\n",
              "      --bg-color: #E8F0FE;\n",
              "      --fill-color: #1967D2;\n",
              "      --hover-bg-color: #E2EBFA;\n",
              "      --hover-fill-color: #174EA6;\n",
              "      --disabled-fill-color: #AAA;\n",
              "      --disabled-bg-color: #DDD;\n",
              "  }\n",
              "\n",
              "  [theme=dark] .colab-df-quickchart {\n",
              "      --bg-color: #3B4455;\n",
              "      --fill-color: #D2E3FC;\n",
              "      --hover-bg-color: #434B5C;\n",
              "      --hover-fill-color: #FFFFFF;\n",
              "      --disabled-bg-color: #3B4455;\n",
              "      --disabled-fill-color: #666;\n",
              "  }\n",
              "\n",
              "  .colab-df-quickchart {\n",
              "    background-color: var(--bg-color);\n",
              "    border: none;\n",
              "    border-radius: 50%;\n",
              "    cursor: pointer;\n",
              "    display: none;\n",
              "    fill: var(--fill-color);\n",
              "    height: 32px;\n",
              "    padding: 0;\n",
              "    width: 32px;\n",
              "  }\n",
              "\n",
              "  .colab-df-quickchart:hover {\n",
              "    background-color: var(--hover-bg-color);\n",
              "    box-shadow: 0 1px 2px rgba(60, 64, 67, 0.3), 0 1px 3px 1px rgba(60, 64, 67, 0.15);\n",
              "    fill: var(--button-hover-fill-color);\n",
              "  }\n",
              "\n",
              "  .colab-df-quickchart-complete:disabled,\n",
              "  .colab-df-quickchart-complete:disabled:hover {\n",
              "    background-color: var(--disabled-bg-color);\n",
              "    fill: var(--disabled-fill-color);\n",
              "    box-shadow: none;\n",
              "  }\n",
              "\n",
              "  .colab-df-spinner {\n",
              "    border: 2px solid var(--fill-color);\n",
              "    border-color: transparent;\n",
              "    border-bottom-color: var(--fill-color);\n",
              "    animation:\n",
              "      spin 1s steps(1) infinite;\n",
              "  }\n",
              "\n",
              "  @keyframes spin {\n",
              "    0% {\n",
              "      border-color: transparent;\n",
              "      border-bottom-color: var(--fill-color);\n",
              "      border-left-color: var(--fill-color);\n",
              "    }\n",
              "    20% {\n",
              "      border-color: transparent;\n",
              "      border-left-color: var(--fill-color);\n",
              "      border-top-color: var(--fill-color);\n",
              "    }\n",
              "    30% {\n",
              "      border-color: transparent;\n",
              "      border-left-color: var(--fill-color);\n",
              "      border-top-color: var(--fill-color);\n",
              "      border-right-color: var(--fill-color);\n",
              "    }\n",
              "    40% {\n",
              "      border-color: transparent;\n",
              "      border-right-color: var(--fill-color);\n",
              "      border-top-color: var(--fill-color);\n",
              "    }\n",
              "    60% {\n",
              "      border-color: transparent;\n",
              "      border-right-color: var(--fill-color);\n",
              "    }\n",
              "    80% {\n",
              "      border-color: transparent;\n",
              "      border-right-color: var(--fill-color);\n",
              "      border-bottom-color: var(--fill-color);\n",
              "    }\n",
              "    90% {\n",
              "      border-color: transparent;\n",
              "      border-bottom-color: var(--fill-color);\n",
              "    }\n",
              "  }\n",
              "</style>\n",
              "\n",
              "  <script>\n",
              "    async function quickchart(key) {\n",
              "      const quickchartButtonEl =\n",
              "        document.querySelector('#' + key + ' button');\n",
              "      quickchartButtonEl.disabled = true;  // To prevent multiple clicks.\n",
              "      quickchartButtonEl.classList.add('colab-df-spinner');\n",
              "      try {\n",
              "        const charts = await google.colab.kernel.invokeFunction(\n",
              "            'suggestCharts', [key], {});\n",
              "      } catch (error) {\n",
              "        console.error('Error during call to suggestCharts:', error);\n",
              "      }\n",
              "      quickchartButtonEl.classList.remove('colab-df-spinner');\n",
              "      quickchartButtonEl.classList.add('colab-df-quickchart-complete');\n",
              "    }\n",
              "    (() => {\n",
              "      let quickchartButtonEl =\n",
              "        document.querySelector('#df-ed2b78ac-4a81-45f9-b1ce-eba0e28f0146 button');\n",
              "      quickchartButtonEl.style.display =\n",
              "        google.colab.kernel.accessAllowed ? 'block' : 'none';\n",
              "    })();\n",
              "  </script>\n",
              "</div>\n",
              "\n",
              "    </div>\n",
              "  </div>\n"
            ],
            "application/vnd.google.colaboratory.intrinsic+json": {
              "type": "dataframe",
              "variable_name": "data",
              "summary": "{\n  \"name\": \"data\",\n  \"rows\": 1430,\n  \"fields\": [\n    {\n      \"column\": \"Date\",\n      \"properties\": {\n        \"dtype\": \"object\",\n        \"num_unique_values\": 1430,\n        \"samples\": [\n          \"2019-07-03\",\n          \"2023-11-01\",\n          \"2020-11-16\"\n        ],\n        \"semantic_type\": \"\",\n        \"description\": \"\"\n      }\n    },\n    {\n      \"column\": \"Open\",\n      \"properties\": {\n        \"dtype\": \"number\",\n        \"std\": 12387.201669203563,\n        \"min\": 37450.0,\n        \"max\": 90300.0,\n        \"num_unique_values\": 483,\n        \"samples\": [\n          62300.0,\n          87600.0,\n          47450.0\n        ],\n        \"semantic_type\": \"\",\n        \"description\": \"\"\n      }\n    },\n    {\n      \"column\": \"High\",\n      \"properties\": {\n        \"dtype\": \"number\",\n        \"std\": 12452.598758245262,\n        \"min\": 37600.0,\n        \"max\": 96800.0,\n        \"num_unique_values\": 476,\n        \"samples\": [\n          86100.0,\n          47450.0,\n          52900.0\n        ],\n        \"semantic_type\": \"\",\n        \"description\": \"\"\n      }\n    },\n    {\n      \"column\": \"Low\",\n      \"properties\": {\n        \"dtype\": \"number\",\n        \"std\": 12293.933759529093,\n        \"min\": 36850.0,\n        \"max\": 89500.0,\n        \"num_unique_values\": 466,\n        \"samples\": [\n          45000.0,\n          40850.0,\n          45100.0\n        ],\n        \"semantic_type\": \"\",\n        \"description\": \"\"\n      }\n    },\n    {\n      \"column\": \"Close\",\n      \"properties\": {\n        \"dtype\": \"number\",\n        \"std\": 12350.320485960558,\n        \"min\": 37450.0,\n        \"max\": 91000.0,\n        \"num_unique_values\": 485,\n        \"samples\": [\n          59400.0,\n          78400.0,\n          55900.0\n        ],\n        \"semantic_type\": \"\",\n        \"description\": \"\"\n      }\n    },\n    {\n      \"column\": \"Adj Close\",\n      \"properties\": {\n        \"dtype\": \"number\",\n        \"std\": 13329.534308306054,\n        \"min\": 32351.052734375,\n        \"max\": 87800.0,\n        \"num_unique_values\": 1036,\n        \"samples\": [\n          57805.9375,\n          40406.08984375,\n          58542.66015625\n        ],\n        \"semantic_type\": \"\",\n        \"description\": \"\"\n      }\n    },\n    {\n      \"column\": \"Volume\",\n      \"properties\": {\n        \"dtype\": \"number\",\n        \"std\": 8595132,\n        \"min\": 0,\n        \"max\": 90306177,\n        \"num_unique_values\": 1418,\n        \"samples\": [\n          9846242,\n          21510415,\n          18122084\n        ],\n        \"semantic_type\": \"\",\n        \"description\": \"\"\n      }\n    }\n  ]\n}"
            }
          },
          "metadata": {},
          "execution_count": 5
        }
      ]
    },
    {
      "cell_type": "markdown",
      "source": [
        "`data['Date'] = pd.to_datetime(data['Date'])` Mengonversi kolom `Date` menjadi format datetime, sehingga dapat diolah sebagai data waktu dalam analisis time series."
      ],
      "metadata": {
        "id": "9Fww_AxEk-MJ"
      }
    },
    {
      "cell_type": "code",
      "source": [
        "data['Date'] = pd.to_datetime(data['Date'])"
      ],
      "metadata": {
        "id": "cLrF95HiUxTw"
      },
      "execution_count": null,
      "outputs": []
    },
    {
      "cell_type": "markdown",
      "source": [
        "`data.info() `Memberikan informasi detail dentang data, termasuk jumlah nilai non-null, tipe data setiap kolom, dan ukuran dataset."
      ],
      "metadata": {
        "id": "PfzOb_H4lFNZ"
      }
    },
    {
      "cell_type": "code",
      "source": [
        "data.info()"
      ],
      "metadata": {
        "colab": {
          "base_uri": "https://localhost:8080/"
        },
        "id": "nRoRxEU4ToKI",
        "outputId": "16f64dd1-a658-40f0-dd41-aef79a476170"
      },
      "execution_count": null,
      "outputs": [
        {
          "output_type": "stream",
          "name": "stdout",
          "text": [
            "<class 'pandas.core.frame.DataFrame'>\n",
            "RangeIndex: 1430 entries, 0 to 1429\n",
            "Data columns (total 7 columns):\n",
            " #   Column     Non-Null Count  Dtype         \n",
            "---  ------     --------------  -----         \n",
            " 0   Date       1430 non-null   datetime64[ns]\n",
            " 1   Open       1430 non-null   float64       \n",
            " 2   High       1430 non-null   float64       \n",
            " 3   Low        1430 non-null   float64       \n",
            " 4   Close      1430 non-null   float64       \n",
            " 5   Adj Close  1430 non-null   float64       \n",
            " 6   Volume     1430 non-null   int64         \n",
            "dtypes: datetime64[ns](1), float64(5), int64(1)\n",
            "memory usage: 78.3 KB\n"
          ]
        }
      ]
    },
    {
      "cell_type": "markdown",
      "source": [
        "`data.tail()` Menampilkan 5 baris terakhir dari data, berguna untuk melihat data terakhir atau memeriksa nilai terbaru dalam time series."
      ],
      "metadata": {
        "id": "ALDA13_QlM1x"
      }
    },
    {
      "cell_type": "code",
      "source": [
        "data.tail()"
      ],
      "metadata": {
        "colab": {
          "base_uri": "https://localhost:8080/",
          "height": 206
        },
        "id": "z51JKcqfU-PQ",
        "outputId": "56b273e8-d2c4-484f-df24-79d7d24b955a"
      },
      "execution_count": null,
      "outputs": [
        {
          "output_type": "execute_result",
          "data": {
            "text/plain": [
              "           Date     Open     High      Low    Close  Adj Close    Volume\n",
              "1425 2024-10-21  59000.0  59600.0  58500.0  59000.0    59000.0  18514905\n",
              "1426 2024-10-22  58800.0  58900.0  57700.0  57700.0    57700.0  27582527\n",
              "1427 2024-10-23  57500.0  60000.0  57100.0  59100.0    59100.0  27300780\n",
              "1428 2024-10-24  58200.0  58500.0  56600.0  56600.0    56600.0  31499922\n",
              "1429 2024-10-25  56000.0  56900.0  55800.0  55900.0    55900.0  25829315"
            ],
            "text/html": [
              "\n",
              "  <div id=\"df-a34c7044-0569-4e97-a817-99c0225b48fb\" class=\"colab-df-container\">\n",
              "    <div>\n",
              "<style scoped>\n",
              "    .dataframe tbody tr th:only-of-type {\n",
              "        vertical-align: middle;\n",
              "    }\n",
              "\n",
              "    .dataframe tbody tr th {\n",
              "        vertical-align: top;\n",
              "    }\n",
              "\n",
              "    .dataframe thead th {\n",
              "        text-align: right;\n",
              "    }\n",
              "</style>\n",
              "<table border=\"1\" class=\"dataframe\">\n",
              "  <thead>\n",
              "    <tr style=\"text-align: right;\">\n",
              "      <th></th>\n",
              "      <th>Date</th>\n",
              "      <th>Open</th>\n",
              "      <th>High</th>\n",
              "      <th>Low</th>\n",
              "      <th>Close</th>\n",
              "      <th>Adj Close</th>\n",
              "      <th>Volume</th>\n",
              "    </tr>\n",
              "  </thead>\n",
              "  <tbody>\n",
              "    <tr>\n",
              "      <th>1425</th>\n",
              "      <td>2024-10-21</td>\n",
              "      <td>59000.0</td>\n",
              "      <td>59600.0</td>\n",
              "      <td>58500.0</td>\n",
              "      <td>59000.0</td>\n",
              "      <td>59000.0</td>\n",
              "      <td>18514905</td>\n",
              "    </tr>\n",
              "    <tr>\n",
              "      <th>1426</th>\n",
              "      <td>2024-10-22</td>\n",
              "      <td>58800.0</td>\n",
              "      <td>58900.0</td>\n",
              "      <td>57700.0</td>\n",
              "      <td>57700.0</td>\n",
              "      <td>57700.0</td>\n",
              "      <td>27582527</td>\n",
              "    </tr>\n",
              "    <tr>\n",
              "      <th>1427</th>\n",
              "      <td>2024-10-23</td>\n",
              "      <td>57500.0</td>\n",
              "      <td>60000.0</td>\n",
              "      <td>57100.0</td>\n",
              "      <td>59100.0</td>\n",
              "      <td>59100.0</td>\n",
              "      <td>27300780</td>\n",
              "    </tr>\n",
              "    <tr>\n",
              "      <th>1428</th>\n",
              "      <td>2024-10-24</td>\n",
              "      <td>58200.0</td>\n",
              "      <td>58500.0</td>\n",
              "      <td>56600.0</td>\n",
              "      <td>56600.0</td>\n",
              "      <td>56600.0</td>\n",
              "      <td>31499922</td>\n",
              "    </tr>\n",
              "    <tr>\n",
              "      <th>1429</th>\n",
              "      <td>2024-10-25</td>\n",
              "      <td>56000.0</td>\n",
              "      <td>56900.0</td>\n",
              "      <td>55800.0</td>\n",
              "      <td>55900.0</td>\n",
              "      <td>55900.0</td>\n",
              "      <td>25829315</td>\n",
              "    </tr>\n",
              "  </tbody>\n",
              "</table>\n",
              "</div>\n",
              "    <div class=\"colab-df-buttons\">\n",
              "\n",
              "  <div class=\"colab-df-container\">\n",
              "    <button class=\"colab-df-convert\" onclick=\"convertToInteractive('df-a34c7044-0569-4e97-a817-99c0225b48fb')\"\n",
              "            title=\"Convert this dataframe to an interactive table.\"\n",
              "            style=\"display:none;\">\n",
              "\n",
              "  <svg xmlns=\"http://www.w3.org/2000/svg\" height=\"24px\" viewBox=\"0 -960 960 960\">\n",
              "    <path d=\"M120-120v-720h720v720H120Zm60-500h600v-160H180v160Zm220 220h160v-160H400v160Zm0 220h160v-160H400v160ZM180-400h160v-160H180v160Zm440 0h160v-160H620v160ZM180-180h160v-160H180v160Zm440 0h160v-160H620v160Z\"/>\n",
              "  </svg>\n",
              "    </button>\n",
              "\n",
              "  <style>\n",
              "    .colab-df-container {\n",
              "      display:flex;\n",
              "      gap: 12px;\n",
              "    }\n",
              "\n",
              "    .colab-df-convert {\n",
              "      background-color: #E8F0FE;\n",
              "      border: none;\n",
              "      border-radius: 50%;\n",
              "      cursor: pointer;\n",
              "      display: none;\n",
              "      fill: #1967D2;\n",
              "      height: 32px;\n",
              "      padding: 0 0 0 0;\n",
              "      width: 32px;\n",
              "    }\n",
              "\n",
              "    .colab-df-convert:hover {\n",
              "      background-color: #E2EBFA;\n",
              "      box-shadow: 0px 1px 2px rgba(60, 64, 67, 0.3), 0px 1px 3px 1px rgba(60, 64, 67, 0.15);\n",
              "      fill: #174EA6;\n",
              "    }\n",
              "\n",
              "    .colab-df-buttons div {\n",
              "      margin-bottom: 4px;\n",
              "    }\n",
              "\n",
              "    [theme=dark] .colab-df-convert {\n",
              "      background-color: #3B4455;\n",
              "      fill: #D2E3FC;\n",
              "    }\n",
              "\n",
              "    [theme=dark] .colab-df-convert:hover {\n",
              "      background-color: #434B5C;\n",
              "      box-shadow: 0px 1px 3px 1px rgba(0, 0, 0, 0.15);\n",
              "      filter: drop-shadow(0px 1px 2px rgba(0, 0, 0, 0.3));\n",
              "      fill: #FFFFFF;\n",
              "    }\n",
              "  </style>\n",
              "\n",
              "    <script>\n",
              "      const buttonEl =\n",
              "        document.querySelector('#df-a34c7044-0569-4e97-a817-99c0225b48fb button.colab-df-convert');\n",
              "      buttonEl.style.display =\n",
              "        google.colab.kernel.accessAllowed ? 'block' : 'none';\n",
              "\n",
              "      async function convertToInteractive(key) {\n",
              "        const element = document.querySelector('#df-a34c7044-0569-4e97-a817-99c0225b48fb');\n",
              "        const dataTable =\n",
              "          await google.colab.kernel.invokeFunction('convertToInteractive',\n",
              "                                                    [key], {});\n",
              "        if (!dataTable) return;\n",
              "\n",
              "        const docLinkHtml = 'Like what you see? Visit the ' +\n",
              "          '<a target=\"_blank\" href=https://colab.research.google.com/notebooks/data_table.ipynb>data table notebook</a>'\n",
              "          + ' to learn more about interactive tables.';\n",
              "        element.innerHTML = '';\n",
              "        dataTable['output_type'] = 'display_data';\n",
              "        await google.colab.output.renderOutput(dataTable, element);\n",
              "        const docLink = document.createElement('div');\n",
              "        docLink.innerHTML = docLinkHtml;\n",
              "        element.appendChild(docLink);\n",
              "      }\n",
              "    </script>\n",
              "  </div>\n",
              "\n",
              "\n",
              "<div id=\"df-8616ee03-8062-4804-9bad-bf426f599180\">\n",
              "  <button class=\"colab-df-quickchart\" onclick=\"quickchart('df-8616ee03-8062-4804-9bad-bf426f599180')\"\n",
              "            title=\"Suggest charts\"\n",
              "            style=\"display:none;\">\n",
              "\n",
              "<svg xmlns=\"http://www.w3.org/2000/svg\" height=\"24px\"viewBox=\"0 0 24 24\"\n",
              "     width=\"24px\">\n",
              "    <g>\n",
              "        <path d=\"M19 3H5c-1.1 0-2 .9-2 2v14c0 1.1.9 2 2 2h14c1.1 0 2-.9 2-2V5c0-1.1-.9-2-2-2zM9 17H7v-7h2v7zm4 0h-2V7h2v10zm4 0h-2v-4h2v4z\"/>\n",
              "    </g>\n",
              "</svg>\n",
              "  </button>\n",
              "\n",
              "<style>\n",
              "  .colab-df-quickchart {\n",
              "      --bg-color: #E8F0FE;\n",
              "      --fill-color: #1967D2;\n",
              "      --hover-bg-color: #E2EBFA;\n",
              "      --hover-fill-color: #174EA6;\n",
              "      --disabled-fill-color: #AAA;\n",
              "      --disabled-bg-color: #DDD;\n",
              "  }\n",
              "\n",
              "  [theme=dark] .colab-df-quickchart {\n",
              "      --bg-color: #3B4455;\n",
              "      --fill-color: #D2E3FC;\n",
              "      --hover-bg-color: #434B5C;\n",
              "      --hover-fill-color: #FFFFFF;\n",
              "      --disabled-bg-color: #3B4455;\n",
              "      --disabled-fill-color: #666;\n",
              "  }\n",
              "\n",
              "  .colab-df-quickchart {\n",
              "    background-color: var(--bg-color);\n",
              "    border: none;\n",
              "    border-radius: 50%;\n",
              "    cursor: pointer;\n",
              "    display: none;\n",
              "    fill: var(--fill-color);\n",
              "    height: 32px;\n",
              "    padding: 0;\n",
              "    width: 32px;\n",
              "  }\n",
              "\n",
              "  .colab-df-quickchart:hover {\n",
              "    background-color: var(--hover-bg-color);\n",
              "    box-shadow: 0 1px 2px rgba(60, 64, 67, 0.3), 0 1px 3px 1px rgba(60, 64, 67, 0.15);\n",
              "    fill: var(--button-hover-fill-color);\n",
              "  }\n",
              "\n",
              "  .colab-df-quickchart-complete:disabled,\n",
              "  .colab-df-quickchart-complete:disabled:hover {\n",
              "    background-color: var(--disabled-bg-color);\n",
              "    fill: var(--disabled-fill-color);\n",
              "    box-shadow: none;\n",
              "  }\n",
              "\n",
              "  .colab-df-spinner {\n",
              "    border: 2px solid var(--fill-color);\n",
              "    border-color: transparent;\n",
              "    border-bottom-color: var(--fill-color);\n",
              "    animation:\n",
              "      spin 1s steps(1) infinite;\n",
              "  }\n",
              "\n",
              "  @keyframes spin {\n",
              "    0% {\n",
              "      border-color: transparent;\n",
              "      border-bottom-color: var(--fill-color);\n",
              "      border-left-color: var(--fill-color);\n",
              "    }\n",
              "    20% {\n",
              "      border-color: transparent;\n",
              "      border-left-color: var(--fill-color);\n",
              "      border-top-color: var(--fill-color);\n",
              "    }\n",
              "    30% {\n",
              "      border-color: transparent;\n",
              "      border-left-color: var(--fill-color);\n",
              "      border-top-color: var(--fill-color);\n",
              "      border-right-color: var(--fill-color);\n",
              "    }\n",
              "    40% {\n",
              "      border-color: transparent;\n",
              "      border-right-color: var(--fill-color);\n",
              "      border-top-color: var(--fill-color);\n",
              "    }\n",
              "    60% {\n",
              "      border-color: transparent;\n",
              "      border-right-color: var(--fill-color);\n",
              "    }\n",
              "    80% {\n",
              "      border-color: transparent;\n",
              "      border-right-color: var(--fill-color);\n",
              "      border-bottom-color: var(--fill-color);\n",
              "    }\n",
              "    90% {\n",
              "      border-color: transparent;\n",
              "      border-bottom-color: var(--fill-color);\n",
              "    }\n",
              "  }\n",
              "</style>\n",
              "\n",
              "  <script>\n",
              "    async function quickchart(key) {\n",
              "      const quickchartButtonEl =\n",
              "        document.querySelector('#' + key + ' button');\n",
              "      quickchartButtonEl.disabled = true;  // To prevent multiple clicks.\n",
              "      quickchartButtonEl.classList.add('colab-df-spinner');\n",
              "      try {\n",
              "        const charts = await google.colab.kernel.invokeFunction(\n",
              "            'suggestCharts', [key], {});\n",
              "      } catch (error) {\n",
              "        console.error('Error during call to suggestCharts:', error);\n",
              "      }\n",
              "      quickchartButtonEl.classList.remove('colab-df-spinner');\n",
              "      quickchartButtonEl.classList.add('colab-df-quickchart-complete');\n",
              "    }\n",
              "    (() => {\n",
              "      let quickchartButtonEl =\n",
              "        document.querySelector('#df-8616ee03-8062-4804-9bad-bf426f599180 button');\n",
              "      quickchartButtonEl.style.display =\n",
              "        google.colab.kernel.accessAllowed ? 'block' : 'none';\n",
              "    })();\n",
              "  </script>\n",
              "</div>\n",
              "\n",
              "    </div>\n",
              "  </div>\n"
            ],
            "application/vnd.google.colaboratory.intrinsic+json": {
              "type": "dataframe",
              "summary": "{\n  \"name\": \"data\",\n  \"rows\": 5,\n  \"fields\": [\n    {\n      \"column\": \"Date\",\n      \"properties\": {\n        \"dtype\": \"date\",\n        \"min\": \"2024-10-21 00:00:00\",\n        \"max\": \"2024-10-25 00:00:00\",\n        \"num_unique_values\": 5,\n        \"samples\": [\n          \"2024-10-22 00:00:00\",\n          \"2024-10-25 00:00:00\",\n          \"2024-10-23 00:00:00\"\n        ],\n        \"semantic_type\": \"\",\n        \"description\": \"\"\n      }\n    },\n    {\n      \"column\": \"Open\",\n      \"properties\": {\n        \"dtype\": \"number\",\n        \"std\": 1212.4355652982142,\n        \"min\": 56000.0,\n        \"max\": 59000.0,\n        \"num_unique_values\": 5,\n        \"samples\": [\n          58800.0,\n          56000.0,\n          57500.0\n        ],\n        \"semantic_type\": \"\",\n        \"description\": \"\"\n      }\n    },\n    {\n      \"column\": \"High\",\n      \"properties\": {\n        \"dtype\": \"number\",\n        \"std\": 1202.9131306956458,\n        \"min\": 56900.0,\n        \"max\": 60000.0,\n        \"num_unique_values\": 5,\n        \"samples\": [\n          58900.0,\n          56900.0,\n          60000.0\n        ],\n        \"semantic_type\": \"\",\n        \"description\": \"\"\n      }\n    },\n    {\n      \"column\": \"Low\",\n      \"properties\": {\n        \"dtype\": \"number\",\n        \"std\": 1031.0189135025603,\n        \"min\": 55800.0,\n        \"max\": 58500.0,\n        \"num_unique_values\": 5,\n        \"samples\": [\n          57700.0,\n          55800.0,\n          57100.0\n        ],\n        \"semantic_type\": \"\",\n        \"description\": \"\"\n      }\n    },\n    {\n      \"column\": \"Close\",\n      \"properties\": {\n        \"dtype\": \"number\",\n        \"std\": 1422.3220451079285,\n        \"min\": 55900.0,\n        \"max\": 59100.0,\n        \"num_unique_values\": 5,\n        \"samples\": [\n          57700.0,\n          55900.0,\n          59100.0\n        ],\n        \"semantic_type\": \"\",\n        \"description\": \"\"\n      }\n    },\n    {\n      \"column\": \"Adj Close\",\n      \"properties\": {\n        \"dtype\": \"number\",\n        \"std\": 1422.3220451079285,\n        \"min\": 55900.0,\n        \"max\": 59100.0,\n        \"num_unique_values\": 5,\n        \"samples\": [\n          57700.0,\n          55900.0,\n          59100.0\n        ],\n        \"semantic_type\": \"\",\n        \"description\": \"\"\n      }\n    },\n    {\n      \"column\": \"Volume\",\n      \"properties\": {\n        \"dtype\": \"number\",\n        \"std\": 4753827,\n        \"min\": 18514905,\n        \"max\": 31499922,\n        \"num_unique_values\": 5,\n        \"samples\": [\n          27582527,\n          25829315,\n          27300780\n        ],\n        \"semantic_type\": \"\",\n        \"description\": \"\"\n      }\n    }\n  ]\n}"
            }
          },
          "metadata": {},
          "execution_count": 8
        }
      ]
    },
    {
      "cell_type": "markdown",
      "source": [
        "`data.describe() ` Memberikan statistik ringkas (Mean, std, min, max, dan kuarting) untuk kolom numerik, membantu memahami distribusi data."
      ],
      "metadata": {
        "id": "VgEkI8RelSpj"
      }
    },
    {
      "cell_type": "code",
      "source": [
        "data.describe()"
      ],
      "metadata": {
        "colab": {
          "base_uri": "https://localhost:8080/",
          "height": 425
        },
        "id": "dW5F5sMuTt4H",
        "outputId": "64e28c54-8e17-4b47-ff51-1279bd8ac9a9"
      },
      "execution_count": null,
      "outputs": [
        {
          "output_type": "execute_result",
          "data": {
            "text/plain": [
              "                                Date          Open          High  \\\n",
              "count                           1430   1430.000000   1430.000000   \n",
              "mean   2021-11-25 05:16:11.748251904  64643.076923  65207.412587   \n",
              "min              2019-01-02 00:00:00  37450.000000  37600.000000   \n",
              "25%              2020-06-15 06:00:00  55700.000000  56325.000000   \n",
              "50%              2021-11-23 12:00:00  65350.000000  65800.000000   \n",
              "75%              2023-05-08 18:00:00  74300.000000  75000.000000   \n",
              "max              2024-10-25 00:00:00  90300.000000  96800.000000   \n",
              "std                              NaN  12387.201669  12452.598758   \n",
              "\n",
              "                Low         Close     Adj Close        Volume  \n",
              "count   1430.000000   1430.000000   1430.000000  1.430000e+03  \n",
              "mean   64033.776224  64588.461538  60951.235466  1.631507e+07  \n",
              "min    36850.000000  37450.000000  32351.052734  0.000000e+00  \n",
              "25%    55100.000000  55500.000000  50255.757812  1.110583e+07  \n",
              "50%    64800.000000  65300.000000  63037.132812  1.449861e+07  \n",
              "75%    73675.000000  74300.000000  72148.867188  1.949304e+07  \n",
              "max    89500.000000  91000.000000  87800.000000  9.030618e+07  \n",
              "std    12293.933760  12350.320486  13329.534308  8.595133e+06  "
            ],
            "text/html": [
              "\n",
              "  <div id=\"df-bf749cd2-3093-4395-b140-79b963417063\" class=\"colab-df-container\">\n",
              "    <div>\n",
              "<style scoped>\n",
              "    .dataframe tbody tr th:only-of-type {\n",
              "        vertical-align: middle;\n",
              "    }\n",
              "\n",
              "    .dataframe tbody tr th {\n",
              "        vertical-align: top;\n",
              "    }\n",
              "\n",
              "    .dataframe thead th {\n",
              "        text-align: right;\n",
              "    }\n",
              "</style>\n",
              "<table border=\"1\" class=\"dataframe\">\n",
              "  <thead>\n",
              "    <tr style=\"text-align: right;\">\n",
              "      <th></th>\n",
              "      <th>Date</th>\n",
              "      <th>Open</th>\n",
              "      <th>High</th>\n",
              "      <th>Low</th>\n",
              "      <th>Close</th>\n",
              "      <th>Adj Close</th>\n",
              "      <th>Volume</th>\n",
              "    </tr>\n",
              "  </thead>\n",
              "  <tbody>\n",
              "    <tr>\n",
              "      <th>count</th>\n",
              "      <td>1430</td>\n",
              "      <td>1430.000000</td>\n",
              "      <td>1430.000000</td>\n",
              "      <td>1430.000000</td>\n",
              "      <td>1430.000000</td>\n",
              "      <td>1430.000000</td>\n",
              "      <td>1.430000e+03</td>\n",
              "    </tr>\n",
              "    <tr>\n",
              "      <th>mean</th>\n",
              "      <td>2021-11-25 05:16:11.748251904</td>\n",
              "      <td>64643.076923</td>\n",
              "      <td>65207.412587</td>\n",
              "      <td>64033.776224</td>\n",
              "      <td>64588.461538</td>\n",
              "      <td>60951.235466</td>\n",
              "      <td>1.631507e+07</td>\n",
              "    </tr>\n",
              "    <tr>\n",
              "      <th>min</th>\n",
              "      <td>2019-01-02 00:00:00</td>\n",
              "      <td>37450.000000</td>\n",
              "      <td>37600.000000</td>\n",
              "      <td>36850.000000</td>\n",
              "      <td>37450.000000</td>\n",
              "      <td>32351.052734</td>\n",
              "      <td>0.000000e+00</td>\n",
              "    </tr>\n",
              "    <tr>\n",
              "      <th>25%</th>\n",
              "      <td>2020-06-15 06:00:00</td>\n",
              "      <td>55700.000000</td>\n",
              "      <td>56325.000000</td>\n",
              "      <td>55100.000000</td>\n",
              "      <td>55500.000000</td>\n",
              "      <td>50255.757812</td>\n",
              "      <td>1.110583e+07</td>\n",
              "    </tr>\n",
              "    <tr>\n",
              "      <th>50%</th>\n",
              "      <td>2021-11-23 12:00:00</td>\n",
              "      <td>65350.000000</td>\n",
              "      <td>65800.000000</td>\n",
              "      <td>64800.000000</td>\n",
              "      <td>65300.000000</td>\n",
              "      <td>63037.132812</td>\n",
              "      <td>1.449861e+07</td>\n",
              "    </tr>\n",
              "    <tr>\n",
              "      <th>75%</th>\n",
              "      <td>2023-05-08 18:00:00</td>\n",
              "      <td>74300.000000</td>\n",
              "      <td>75000.000000</td>\n",
              "      <td>73675.000000</td>\n",
              "      <td>74300.000000</td>\n",
              "      <td>72148.867188</td>\n",
              "      <td>1.949304e+07</td>\n",
              "    </tr>\n",
              "    <tr>\n",
              "      <th>max</th>\n",
              "      <td>2024-10-25 00:00:00</td>\n",
              "      <td>90300.000000</td>\n",
              "      <td>96800.000000</td>\n",
              "      <td>89500.000000</td>\n",
              "      <td>91000.000000</td>\n",
              "      <td>87800.000000</td>\n",
              "      <td>9.030618e+07</td>\n",
              "    </tr>\n",
              "    <tr>\n",
              "      <th>std</th>\n",
              "      <td>NaN</td>\n",
              "      <td>12387.201669</td>\n",
              "      <td>12452.598758</td>\n",
              "      <td>12293.933760</td>\n",
              "      <td>12350.320486</td>\n",
              "      <td>13329.534308</td>\n",
              "      <td>8.595133e+06</td>\n",
              "    </tr>\n",
              "  </tbody>\n",
              "</table>\n",
              "</div>\n",
              "    <div class=\"colab-df-buttons\">\n",
              "\n",
              "  <div class=\"colab-df-container\">\n",
              "    <button class=\"colab-df-convert\" onclick=\"convertToInteractive('df-bf749cd2-3093-4395-b140-79b963417063')\"\n",
              "            title=\"Convert this dataframe to an interactive table.\"\n",
              "            style=\"display:none;\">\n",
              "\n",
              "  <svg xmlns=\"http://www.w3.org/2000/svg\" height=\"24px\" viewBox=\"0 -960 960 960\">\n",
              "    <path d=\"M120-120v-720h720v720H120Zm60-500h600v-160H180v160Zm220 220h160v-160H400v160Zm0 220h160v-160H400v160ZM180-400h160v-160H180v160Zm440 0h160v-160H620v160ZM180-180h160v-160H180v160Zm440 0h160v-160H620v160Z\"/>\n",
              "  </svg>\n",
              "    </button>\n",
              "\n",
              "  <style>\n",
              "    .colab-df-container {\n",
              "      display:flex;\n",
              "      gap: 12px;\n",
              "    }\n",
              "\n",
              "    .colab-df-convert {\n",
              "      background-color: #E8F0FE;\n",
              "      border: none;\n",
              "      border-radius: 50%;\n",
              "      cursor: pointer;\n",
              "      display: none;\n",
              "      fill: #1967D2;\n",
              "      height: 32px;\n",
              "      padding: 0 0 0 0;\n",
              "      width: 32px;\n",
              "    }\n",
              "\n",
              "    .colab-df-convert:hover {\n",
              "      background-color: #E2EBFA;\n",
              "      box-shadow: 0px 1px 2px rgba(60, 64, 67, 0.3), 0px 1px 3px 1px rgba(60, 64, 67, 0.15);\n",
              "      fill: #174EA6;\n",
              "    }\n",
              "\n",
              "    .colab-df-buttons div {\n",
              "      margin-bottom: 4px;\n",
              "    }\n",
              "\n",
              "    [theme=dark] .colab-df-convert {\n",
              "      background-color: #3B4455;\n",
              "      fill: #D2E3FC;\n",
              "    }\n",
              "\n",
              "    [theme=dark] .colab-df-convert:hover {\n",
              "      background-color: #434B5C;\n",
              "      box-shadow: 0px 1px 3px 1px rgba(0, 0, 0, 0.15);\n",
              "      filter: drop-shadow(0px 1px 2px rgba(0, 0, 0, 0.3));\n",
              "      fill: #FFFFFF;\n",
              "    }\n",
              "  </style>\n",
              "\n",
              "    <script>\n",
              "      const buttonEl =\n",
              "        document.querySelector('#df-bf749cd2-3093-4395-b140-79b963417063 button.colab-df-convert');\n",
              "      buttonEl.style.display =\n",
              "        google.colab.kernel.accessAllowed ? 'block' : 'none';\n",
              "\n",
              "      async function convertToInteractive(key) {\n",
              "        const element = document.querySelector('#df-bf749cd2-3093-4395-b140-79b963417063');\n",
              "        const dataTable =\n",
              "          await google.colab.kernel.invokeFunction('convertToInteractive',\n",
              "                                                    [key], {});\n",
              "        if (!dataTable) return;\n",
              "\n",
              "        const docLinkHtml = 'Like what you see? Visit the ' +\n",
              "          '<a target=\"_blank\" href=https://colab.research.google.com/notebooks/data_table.ipynb>data table notebook</a>'\n",
              "          + ' to learn more about interactive tables.';\n",
              "        element.innerHTML = '';\n",
              "        dataTable['output_type'] = 'display_data';\n",
              "        await google.colab.output.renderOutput(dataTable, element);\n",
              "        const docLink = document.createElement('div');\n",
              "        docLink.innerHTML = docLinkHtml;\n",
              "        element.appendChild(docLink);\n",
              "      }\n",
              "    </script>\n",
              "  </div>\n",
              "\n",
              "\n",
              "<div id=\"df-253d5743-74cb-44d1-96c0-083fbf365f23\">\n",
              "  <button class=\"colab-df-quickchart\" onclick=\"quickchart('df-253d5743-74cb-44d1-96c0-083fbf365f23')\"\n",
              "            title=\"Suggest charts\"\n",
              "            style=\"display:none;\">\n",
              "\n",
              "<svg xmlns=\"http://www.w3.org/2000/svg\" height=\"24px\"viewBox=\"0 0 24 24\"\n",
              "     width=\"24px\">\n",
              "    <g>\n",
              "        <path d=\"M19 3H5c-1.1 0-2 .9-2 2v14c0 1.1.9 2 2 2h14c1.1 0 2-.9 2-2V5c0-1.1-.9-2-2-2zM9 17H7v-7h2v7zm4 0h-2V7h2v10zm4 0h-2v-4h2v4z\"/>\n",
              "    </g>\n",
              "</svg>\n",
              "  </button>\n",
              "\n",
              "<style>\n",
              "  .colab-df-quickchart {\n",
              "      --bg-color: #E8F0FE;\n",
              "      --fill-color: #1967D2;\n",
              "      --hover-bg-color: #E2EBFA;\n",
              "      --hover-fill-color: #174EA6;\n",
              "      --disabled-fill-color: #AAA;\n",
              "      --disabled-bg-color: #DDD;\n",
              "  }\n",
              "\n",
              "  [theme=dark] .colab-df-quickchart {\n",
              "      --bg-color: #3B4455;\n",
              "      --fill-color: #D2E3FC;\n",
              "      --hover-bg-color: #434B5C;\n",
              "      --hover-fill-color: #FFFFFF;\n",
              "      --disabled-bg-color: #3B4455;\n",
              "      --disabled-fill-color: #666;\n",
              "  }\n",
              "\n",
              "  .colab-df-quickchart {\n",
              "    background-color: var(--bg-color);\n",
              "    border: none;\n",
              "    border-radius: 50%;\n",
              "    cursor: pointer;\n",
              "    display: none;\n",
              "    fill: var(--fill-color);\n",
              "    height: 32px;\n",
              "    padding: 0;\n",
              "    width: 32px;\n",
              "  }\n",
              "\n",
              "  .colab-df-quickchart:hover {\n",
              "    background-color: var(--hover-bg-color);\n",
              "    box-shadow: 0 1px 2px rgba(60, 64, 67, 0.3), 0 1px 3px 1px rgba(60, 64, 67, 0.15);\n",
              "    fill: var(--button-hover-fill-color);\n",
              "  }\n",
              "\n",
              "  .colab-df-quickchart-complete:disabled,\n",
              "  .colab-df-quickchart-complete:disabled:hover {\n",
              "    background-color: var(--disabled-bg-color);\n",
              "    fill: var(--disabled-fill-color);\n",
              "    box-shadow: none;\n",
              "  }\n",
              "\n",
              "  .colab-df-spinner {\n",
              "    border: 2px solid var(--fill-color);\n",
              "    border-color: transparent;\n",
              "    border-bottom-color: var(--fill-color);\n",
              "    animation:\n",
              "      spin 1s steps(1) infinite;\n",
              "  }\n",
              "\n",
              "  @keyframes spin {\n",
              "    0% {\n",
              "      border-color: transparent;\n",
              "      border-bottom-color: var(--fill-color);\n",
              "      border-left-color: var(--fill-color);\n",
              "    }\n",
              "    20% {\n",
              "      border-color: transparent;\n",
              "      border-left-color: var(--fill-color);\n",
              "      border-top-color: var(--fill-color);\n",
              "    }\n",
              "    30% {\n",
              "      border-color: transparent;\n",
              "      border-left-color: var(--fill-color);\n",
              "      border-top-color: var(--fill-color);\n",
              "      border-right-color: var(--fill-color);\n",
              "    }\n",
              "    40% {\n",
              "      border-color: transparent;\n",
              "      border-right-color: var(--fill-color);\n",
              "      border-top-color: var(--fill-color);\n",
              "    }\n",
              "    60% {\n",
              "      border-color: transparent;\n",
              "      border-right-color: var(--fill-color);\n",
              "    }\n",
              "    80% {\n",
              "      border-color: transparent;\n",
              "      border-right-color: var(--fill-color);\n",
              "      border-bottom-color: var(--fill-color);\n",
              "    }\n",
              "    90% {\n",
              "      border-color: transparent;\n",
              "      border-bottom-color: var(--fill-color);\n",
              "    }\n",
              "  }\n",
              "</style>\n",
              "\n",
              "  <script>\n",
              "    async function quickchart(key) {\n",
              "      const quickchartButtonEl =\n",
              "        document.querySelector('#' + key + ' button');\n",
              "      quickchartButtonEl.disabled = true;  // To prevent multiple clicks.\n",
              "      quickchartButtonEl.classList.add('colab-df-spinner');\n",
              "      try {\n",
              "        const charts = await google.colab.kernel.invokeFunction(\n",
              "            'suggestCharts', [key], {});\n",
              "      } catch (error) {\n",
              "        console.error('Error during call to suggestCharts:', error);\n",
              "      }\n",
              "      quickchartButtonEl.classList.remove('colab-df-spinner');\n",
              "      quickchartButtonEl.classList.add('colab-df-quickchart-complete');\n",
              "    }\n",
              "    (() => {\n",
              "      let quickchartButtonEl =\n",
              "        document.querySelector('#df-253d5743-74cb-44d1-96c0-083fbf365f23 button');\n",
              "      quickchartButtonEl.style.display =\n",
              "        google.colab.kernel.accessAllowed ? 'block' : 'none';\n",
              "    })();\n",
              "  </script>\n",
              "</div>\n",
              "\n",
              "    </div>\n",
              "  </div>\n"
            ],
            "application/vnd.google.colaboratory.intrinsic+json": {
              "type": "dataframe",
              "summary": "{\n  \"name\": \"data\",\n  \"rows\": 8,\n  \"fields\": [\n    {\n      \"column\": \"Date\",\n      \"properties\": {\n        \"dtype\": \"date\",\n        \"min\": \"1970-01-01 00:00:00.000001430\",\n        \"max\": \"2024-10-25 00:00:00\",\n        \"num_unique_values\": 7,\n        \"samples\": [\n          \"1430\",\n          \"2021-11-25 05:16:11.748251904\",\n          \"2023-05-08 18:00:00\"\n        ],\n        \"semantic_type\": \"\",\n        \"description\": \"\"\n      }\n    },\n    {\n      \"column\": \"Open\",\n      \"properties\": {\n        \"dtype\": \"number\",\n        \"std\": 30771.224710729854,\n        \"min\": 1430.0,\n        \"max\": 90300.0,\n        \"num_unique_values\": 8,\n        \"samples\": [\n          64643.07692307692,\n          74300.0,\n          1430.0\n        ],\n        \"semantic_type\": \"\",\n        \"description\": \"\"\n      }\n    },\n    {\n      \"column\": \"High\",\n      \"properties\": {\n        \"dtype\": \"number\",\n        \"std\": 32170.701964852527,\n        \"min\": 1430.0,\n        \"max\": 96800.0,\n        \"num_unique_values\": 8,\n        \"samples\": [\n          65207.41258741259,\n          75000.0,\n          1430.0\n        ],\n        \"semantic_type\": \"\",\n        \"description\": \"\"\n      }\n    },\n    {\n      \"column\": \"Low\",\n      \"properties\": {\n        \"dtype\": \"number\",\n        \"std\": 30509.4741779433,\n        \"min\": 1430.0,\n        \"max\": 89500.0,\n        \"num_unique_values\": 8,\n        \"samples\": [\n          64033.77622377622,\n          73675.0,\n          1430.0\n        ],\n        \"semantic_type\": \"\",\n        \"description\": \"\"\n      }\n    },\n    {\n      \"column\": \"Close\",\n      \"properties\": {\n        \"dtype\": \"number\",\n        \"std\": 30896.691367042375,\n        \"min\": 1430.0,\n        \"max\": 91000.0,\n        \"num_unique_values\": 8,\n        \"samples\": [\n          64588.46153846154,\n          74300.0,\n          1430.0\n        ],\n        \"semantic_type\": \"\",\n        \"description\": \"\"\n      }\n    },\n    {\n      \"column\": \"Adj Close\",\n      \"properties\": {\n        \"dtype\": \"number\",\n        \"std\": 29715.154623256163,\n        \"min\": 1430.0,\n        \"max\": 87800.0,\n        \"num_unique_values\": 8,\n        \"samples\": [\n          60951.235466291524,\n          72148.8671875,\n          1430.0\n        ],\n        \"semantic_type\": \"\",\n        \"description\": \"\"\n      }\n    },\n    {\n      \"column\": \"Volume\",\n      \"properties\": {\n        \"dtype\": \"number\",\n        \"std\": 29267649.26264698,\n        \"min\": 0.0,\n        \"max\": 90306177.0,\n        \"num_unique_values\": 8,\n        \"samples\": [\n          16315071.916783217,\n          19493039.5,\n          1430.0\n        ],\n        \"semantic_type\": \"\",\n        \"description\": \"\"\n      }\n    }\n  ]\n}"
            }
          },
          "metadata": {},
          "execution_count": 9
        }
      ]
    },
    {
      "cell_type": "markdown",
      "source": [
        "## Data Hilang Atau Null"
      ],
      "metadata": {
        "id": "QmBatVNVTwfR"
      }
    },
    {
      "cell_type": "markdown",
      "source": [
        "`data.isnull().sum()` Untuk menghitung jumlai nilai yang hilang (null) disetiap kolom data. Hasilnya adalah jumlah total nilai kosong untuk setiap kolom, yang berguna untuk mengidentifikasi missing values dalam dataseat."
      ],
      "metadata": {
        "id": "4neLF6Utlczp"
      }
    },
    {
      "cell_type": "code",
      "source": [
        "data.isnull().sum()"
      ],
      "metadata": {
        "colab": {
          "base_uri": "https://localhost:8080/",
          "height": 304
        },
        "id": "L9tS2N-CT0Uo",
        "outputId": "ef2db187-407e-4dae-daeb-4262ba16f974"
      },
      "execution_count": null,
      "outputs": [
        {
          "output_type": "execute_result",
          "data": {
            "text/plain": [
              "Date         0\n",
              "Open         0\n",
              "High         0\n",
              "Low          0\n",
              "Close        0\n",
              "Adj Close    0\n",
              "Volume       0\n",
              "dtype: int64"
            ],
            "text/html": [
              "<div>\n",
              "<style scoped>\n",
              "    .dataframe tbody tr th:only-of-type {\n",
              "        vertical-align: middle;\n",
              "    }\n",
              "\n",
              "    .dataframe tbody tr th {\n",
              "        vertical-align: top;\n",
              "    }\n",
              "\n",
              "    .dataframe thead th {\n",
              "        text-align: right;\n",
              "    }\n",
              "</style>\n",
              "<table border=\"1\" class=\"dataframe\">\n",
              "  <thead>\n",
              "    <tr style=\"text-align: right;\">\n",
              "      <th></th>\n",
              "      <th>0</th>\n",
              "    </tr>\n",
              "  </thead>\n",
              "  <tbody>\n",
              "    <tr>\n",
              "      <th>Date</th>\n",
              "      <td>0</td>\n",
              "    </tr>\n",
              "    <tr>\n",
              "      <th>Open</th>\n",
              "      <td>0</td>\n",
              "    </tr>\n",
              "    <tr>\n",
              "      <th>High</th>\n",
              "      <td>0</td>\n",
              "    </tr>\n",
              "    <tr>\n",
              "      <th>Low</th>\n",
              "      <td>0</td>\n",
              "    </tr>\n",
              "    <tr>\n",
              "      <th>Close</th>\n",
              "      <td>0</td>\n",
              "    </tr>\n",
              "    <tr>\n",
              "      <th>Adj Close</th>\n",
              "      <td>0</td>\n",
              "    </tr>\n",
              "    <tr>\n",
              "      <th>Volume</th>\n",
              "      <td>0</td>\n",
              "    </tr>\n",
              "  </tbody>\n",
              "</table>\n",
              "</div><br><label><b>dtype:</b> int64</label>"
            ]
          },
          "metadata": {},
          "execution_count": 10
        }
      ]
    },
    {
      "cell_type": "code",
      "source": [
        "duplicates = data[data.duplicated()]\n",
        "print(\"Jumlah duplikat data:\", duplicates.shape[0])\n",
        "print(duplicates)"
      ],
      "metadata": {
        "colab": {
          "base_uri": "https://localhost:8080/"
        },
        "id": "s7vNwYXdFOLZ",
        "outputId": "0de6f202-a46e-493e-9891-c481eaf1c7e7"
      },
      "execution_count": null,
      "outputs": [
        {
          "output_type": "stream",
          "name": "stdout",
          "text": [
            "Jumlah duplikat data: 0\n",
            "Empty DataFrame\n",
            "Columns: [Date, Open, High, Low, Close, Adj Close, Volume]\n",
            "Index: []\n"
          ]
        }
      ]
    },
    {
      "cell_type": "code",
      "source": [
        "numerical_cols = ['Open', 'High', 'Low', 'Close', 'Adj Close', 'Volume']\n",
        "outliers = {}\n",
        "\n",
        "for col in numerical_cols:\n",
        "    Q1 = data[col].quantile(0.25)\n",
        "    Q3 = data[col].quantile(0.75)\n",
        "    IQR = Q3 - Q1\n",
        "    lower_bound = Q1 - 1.5 * IQR\n",
        "    upper_bound = Q3 + 1.5 * IQR\n",
        "    outliers[col] = data[(data[col] < lower_bound) | (data[col] > upper_bound)]\n",
        "    print(f\"Jumlah outlier di kolom {col}: {outliers[col].shape[0]}\")\n",
        "\n",
        "outliers['Volume']"
      ],
      "metadata": {
        "colab": {
          "base_uri": "https://localhost:8080/",
          "height": 528
        },
        "id": "A604aXIDFTzY",
        "outputId": "6fc4cb4a-ebfa-4e1d-f978-cec647d05008"
      },
      "execution_count": null,
      "outputs": [
        {
          "output_type": "stream",
          "name": "stdout",
          "text": [
            "Jumlah outlier di kolom Open: 0\n",
            "Jumlah outlier di kolom High: 0\n",
            "Jumlah outlier di kolom Low: 0\n",
            "Jumlah outlier di kolom Close: 0\n",
            "Jumlah outlier di kolom Adj Close: 0\n",
            "Jumlah outlier di kolom Volume: 66\n"
          ]
        },
        {
          "output_type": "execute_result",
          "data": {
            "text/plain": [
              "           Date     Open     High      Low    Close     Adj Close    Volume\n",
              "292  2020-03-10  53800.0  54900.0  53700.0  54600.0  48565.742188  32106554\n",
              "293  2020-03-11  54300.0  54400.0  52000.0  52100.0  46342.027344  45707281\n",
              "295  2020-03-13  47450.0  51600.0  46850.0  49950.0  44429.648438  59462933\n",
              "296  2020-03-16  50100.0  50900.0  48800.0  48900.0  43495.695312  33339821\n",
              "297  2020-03-17  46900.0  49650.0  46700.0  47300.0  42072.519531  51218151\n",
              "...         ...      ...      ...      ...      ...           ...       ...\n",
              "1407 2024-09-20  63800.0  64700.0  63000.0  63000.0  63000.000000  32746056\n",
              "1411 2024-09-26  63900.0  64900.0  63700.0  64700.0  64700.000000  37566015\n",
              "1413 2024-09-30  64200.0  64300.0  61500.0  61500.0  61500.000000  32694163\n",
              "1416 2024-10-07  60200.0  61900.0  59500.0  61000.0  61000.000000  35066533\n",
              "1418 2024-10-10  60100.0  60200.0  58900.0  58900.0  58900.000000  45262214\n",
              "\n",
              "[66 rows x 7 columns]"
            ],
            "text/html": [
              "\n",
              "  <div id=\"df-3d64c113-930a-4945-b51f-246581d6b652\" class=\"colab-df-container\">\n",
              "    <div>\n",
              "<style scoped>\n",
              "    .dataframe tbody tr th:only-of-type {\n",
              "        vertical-align: middle;\n",
              "    }\n",
              "\n",
              "    .dataframe tbody tr th {\n",
              "        vertical-align: top;\n",
              "    }\n",
              "\n",
              "    .dataframe thead th {\n",
              "        text-align: right;\n",
              "    }\n",
              "</style>\n",
              "<table border=\"1\" class=\"dataframe\">\n",
              "  <thead>\n",
              "    <tr style=\"text-align: right;\">\n",
              "      <th></th>\n",
              "      <th>Date</th>\n",
              "      <th>Open</th>\n",
              "      <th>High</th>\n",
              "      <th>Low</th>\n",
              "      <th>Close</th>\n",
              "      <th>Adj Close</th>\n",
              "      <th>Volume</th>\n",
              "    </tr>\n",
              "  </thead>\n",
              "  <tbody>\n",
              "    <tr>\n",
              "      <th>292</th>\n",
              "      <td>2020-03-10</td>\n",
              "      <td>53800.0</td>\n",
              "      <td>54900.0</td>\n",
              "      <td>53700.0</td>\n",
              "      <td>54600.0</td>\n",
              "      <td>48565.742188</td>\n",
              "      <td>32106554</td>\n",
              "    </tr>\n",
              "    <tr>\n",
              "      <th>293</th>\n",
              "      <td>2020-03-11</td>\n",
              "      <td>54300.0</td>\n",
              "      <td>54400.0</td>\n",
              "      <td>52000.0</td>\n",
              "      <td>52100.0</td>\n",
              "      <td>46342.027344</td>\n",
              "      <td>45707281</td>\n",
              "    </tr>\n",
              "    <tr>\n",
              "      <th>295</th>\n",
              "      <td>2020-03-13</td>\n",
              "      <td>47450.0</td>\n",
              "      <td>51600.0</td>\n",
              "      <td>46850.0</td>\n",
              "      <td>49950.0</td>\n",
              "      <td>44429.648438</td>\n",
              "      <td>59462933</td>\n",
              "    </tr>\n",
              "    <tr>\n",
              "      <th>296</th>\n",
              "      <td>2020-03-16</td>\n",
              "      <td>50100.0</td>\n",
              "      <td>50900.0</td>\n",
              "      <td>48800.0</td>\n",
              "      <td>48900.0</td>\n",
              "      <td>43495.695312</td>\n",
              "      <td>33339821</td>\n",
              "    </tr>\n",
              "    <tr>\n",
              "      <th>297</th>\n",
              "      <td>2020-03-17</td>\n",
              "      <td>46900.0</td>\n",
              "      <td>49650.0</td>\n",
              "      <td>46700.0</td>\n",
              "      <td>47300.0</td>\n",
              "      <td>42072.519531</td>\n",
              "      <td>51218151</td>\n",
              "    </tr>\n",
              "    <tr>\n",
              "      <th>...</th>\n",
              "      <td>...</td>\n",
              "      <td>...</td>\n",
              "      <td>...</td>\n",
              "      <td>...</td>\n",
              "      <td>...</td>\n",
              "      <td>...</td>\n",
              "      <td>...</td>\n",
              "    </tr>\n",
              "    <tr>\n",
              "      <th>1407</th>\n",
              "      <td>2024-09-20</td>\n",
              "      <td>63800.0</td>\n",
              "      <td>64700.0</td>\n",
              "      <td>63000.0</td>\n",
              "      <td>63000.0</td>\n",
              "      <td>63000.000000</td>\n",
              "      <td>32746056</td>\n",
              "    </tr>\n",
              "    <tr>\n",
              "      <th>1411</th>\n",
              "      <td>2024-09-26</td>\n",
              "      <td>63900.0</td>\n",
              "      <td>64900.0</td>\n",
              "      <td>63700.0</td>\n",
              "      <td>64700.0</td>\n",
              "      <td>64700.000000</td>\n",
              "      <td>37566015</td>\n",
              "    </tr>\n",
              "    <tr>\n",
              "      <th>1413</th>\n",
              "      <td>2024-09-30</td>\n",
              "      <td>64200.0</td>\n",
              "      <td>64300.0</td>\n",
              "      <td>61500.0</td>\n",
              "      <td>61500.0</td>\n",
              "      <td>61500.000000</td>\n",
              "      <td>32694163</td>\n",
              "    </tr>\n",
              "    <tr>\n",
              "      <th>1416</th>\n",
              "      <td>2024-10-07</td>\n",
              "      <td>60200.0</td>\n",
              "      <td>61900.0</td>\n",
              "      <td>59500.0</td>\n",
              "      <td>61000.0</td>\n",
              "      <td>61000.000000</td>\n",
              "      <td>35066533</td>\n",
              "    </tr>\n",
              "    <tr>\n",
              "      <th>1418</th>\n",
              "      <td>2024-10-10</td>\n",
              "      <td>60100.0</td>\n",
              "      <td>60200.0</td>\n",
              "      <td>58900.0</td>\n",
              "      <td>58900.0</td>\n",
              "      <td>58900.000000</td>\n",
              "      <td>45262214</td>\n",
              "    </tr>\n",
              "  </tbody>\n",
              "</table>\n",
              "<p>66 rows × 7 columns</p>\n",
              "</div>\n",
              "    <div class=\"colab-df-buttons\">\n",
              "\n",
              "  <div class=\"colab-df-container\">\n",
              "    <button class=\"colab-df-convert\" onclick=\"convertToInteractive('df-3d64c113-930a-4945-b51f-246581d6b652')\"\n",
              "            title=\"Convert this dataframe to an interactive table.\"\n",
              "            style=\"display:none;\">\n",
              "\n",
              "  <svg xmlns=\"http://www.w3.org/2000/svg\" height=\"24px\" viewBox=\"0 -960 960 960\">\n",
              "    <path d=\"M120-120v-720h720v720H120Zm60-500h600v-160H180v160Zm220 220h160v-160H400v160Zm0 220h160v-160H400v160ZM180-400h160v-160H180v160Zm440 0h160v-160H620v160ZM180-180h160v-160H180v160Zm440 0h160v-160H620v160Z\"/>\n",
              "  </svg>\n",
              "    </button>\n",
              "\n",
              "  <style>\n",
              "    .colab-df-container {\n",
              "      display:flex;\n",
              "      gap: 12px;\n",
              "    }\n",
              "\n",
              "    .colab-df-convert {\n",
              "      background-color: #E8F0FE;\n",
              "      border: none;\n",
              "      border-radius: 50%;\n",
              "      cursor: pointer;\n",
              "      display: none;\n",
              "      fill: #1967D2;\n",
              "      height: 32px;\n",
              "      padding: 0 0 0 0;\n",
              "      width: 32px;\n",
              "    }\n",
              "\n",
              "    .colab-df-convert:hover {\n",
              "      background-color: #E2EBFA;\n",
              "      box-shadow: 0px 1px 2px rgba(60, 64, 67, 0.3), 0px 1px 3px 1px rgba(60, 64, 67, 0.15);\n",
              "      fill: #174EA6;\n",
              "    }\n",
              "\n",
              "    .colab-df-buttons div {\n",
              "      margin-bottom: 4px;\n",
              "    }\n",
              "\n",
              "    [theme=dark] .colab-df-convert {\n",
              "      background-color: #3B4455;\n",
              "      fill: #D2E3FC;\n",
              "    }\n",
              "\n",
              "    [theme=dark] .colab-df-convert:hover {\n",
              "      background-color: #434B5C;\n",
              "      box-shadow: 0px 1px 3px 1px rgba(0, 0, 0, 0.15);\n",
              "      filter: drop-shadow(0px 1px 2px rgba(0, 0, 0, 0.3));\n",
              "      fill: #FFFFFF;\n",
              "    }\n",
              "  </style>\n",
              "\n",
              "    <script>\n",
              "      const buttonEl =\n",
              "        document.querySelector('#df-3d64c113-930a-4945-b51f-246581d6b652 button.colab-df-convert');\n",
              "      buttonEl.style.display =\n",
              "        google.colab.kernel.accessAllowed ? 'block' : 'none';\n",
              "\n",
              "      async function convertToInteractive(key) {\n",
              "        const element = document.querySelector('#df-3d64c113-930a-4945-b51f-246581d6b652');\n",
              "        const dataTable =\n",
              "          await google.colab.kernel.invokeFunction('convertToInteractive',\n",
              "                                                    [key], {});\n",
              "        if (!dataTable) return;\n",
              "\n",
              "        const docLinkHtml = 'Like what you see? Visit the ' +\n",
              "          '<a target=\"_blank\" href=https://colab.research.google.com/notebooks/data_table.ipynb>data table notebook</a>'\n",
              "          + ' to learn more about interactive tables.';\n",
              "        element.innerHTML = '';\n",
              "        dataTable['output_type'] = 'display_data';\n",
              "        await google.colab.output.renderOutput(dataTable, element);\n",
              "        const docLink = document.createElement('div');\n",
              "        docLink.innerHTML = docLinkHtml;\n",
              "        element.appendChild(docLink);\n",
              "      }\n",
              "    </script>\n",
              "  </div>\n",
              "\n",
              "\n",
              "<div id=\"df-022d45c2-a523-4163-b62d-a860d6727082\">\n",
              "  <button class=\"colab-df-quickchart\" onclick=\"quickchart('df-022d45c2-a523-4163-b62d-a860d6727082')\"\n",
              "            title=\"Suggest charts\"\n",
              "            style=\"display:none;\">\n",
              "\n",
              "<svg xmlns=\"http://www.w3.org/2000/svg\" height=\"24px\"viewBox=\"0 0 24 24\"\n",
              "     width=\"24px\">\n",
              "    <g>\n",
              "        <path d=\"M19 3H5c-1.1 0-2 .9-2 2v14c0 1.1.9 2 2 2h14c1.1 0 2-.9 2-2V5c0-1.1-.9-2-2-2zM9 17H7v-7h2v7zm4 0h-2V7h2v10zm4 0h-2v-4h2v4z\"/>\n",
              "    </g>\n",
              "</svg>\n",
              "  </button>\n",
              "\n",
              "<style>\n",
              "  .colab-df-quickchart {\n",
              "      --bg-color: #E8F0FE;\n",
              "      --fill-color: #1967D2;\n",
              "      --hover-bg-color: #E2EBFA;\n",
              "      --hover-fill-color: #174EA6;\n",
              "      --disabled-fill-color: #AAA;\n",
              "      --disabled-bg-color: #DDD;\n",
              "  }\n",
              "\n",
              "  [theme=dark] .colab-df-quickchart {\n",
              "      --bg-color: #3B4455;\n",
              "      --fill-color: #D2E3FC;\n",
              "      --hover-bg-color: #434B5C;\n",
              "      --hover-fill-color: #FFFFFF;\n",
              "      --disabled-bg-color: #3B4455;\n",
              "      --disabled-fill-color: #666;\n",
              "  }\n",
              "\n",
              "  .colab-df-quickchart {\n",
              "    background-color: var(--bg-color);\n",
              "    border: none;\n",
              "    border-radius: 50%;\n",
              "    cursor: pointer;\n",
              "    display: none;\n",
              "    fill: var(--fill-color);\n",
              "    height: 32px;\n",
              "    padding: 0;\n",
              "    width: 32px;\n",
              "  }\n",
              "\n",
              "  .colab-df-quickchart:hover {\n",
              "    background-color: var(--hover-bg-color);\n",
              "    box-shadow: 0 1px 2px rgba(60, 64, 67, 0.3), 0 1px 3px 1px rgba(60, 64, 67, 0.15);\n",
              "    fill: var(--button-hover-fill-color);\n",
              "  }\n",
              "\n",
              "  .colab-df-quickchart-complete:disabled,\n",
              "  .colab-df-quickchart-complete:disabled:hover {\n",
              "    background-color: var(--disabled-bg-color);\n",
              "    fill: var(--disabled-fill-color);\n",
              "    box-shadow: none;\n",
              "  }\n",
              "\n",
              "  .colab-df-spinner {\n",
              "    border: 2px solid var(--fill-color);\n",
              "    border-color: transparent;\n",
              "    border-bottom-color: var(--fill-color);\n",
              "    animation:\n",
              "      spin 1s steps(1) infinite;\n",
              "  }\n",
              "\n",
              "  @keyframes spin {\n",
              "    0% {\n",
              "      border-color: transparent;\n",
              "      border-bottom-color: var(--fill-color);\n",
              "      border-left-color: var(--fill-color);\n",
              "    }\n",
              "    20% {\n",
              "      border-color: transparent;\n",
              "      border-left-color: var(--fill-color);\n",
              "      border-top-color: var(--fill-color);\n",
              "    }\n",
              "    30% {\n",
              "      border-color: transparent;\n",
              "      border-left-color: var(--fill-color);\n",
              "      border-top-color: var(--fill-color);\n",
              "      border-right-color: var(--fill-color);\n",
              "    }\n",
              "    40% {\n",
              "      border-color: transparent;\n",
              "      border-right-color: var(--fill-color);\n",
              "      border-top-color: var(--fill-color);\n",
              "    }\n",
              "    60% {\n",
              "      border-color: transparent;\n",
              "      border-right-color: var(--fill-color);\n",
              "    }\n",
              "    80% {\n",
              "      border-color: transparent;\n",
              "      border-right-color: var(--fill-color);\n",
              "      border-bottom-color: var(--fill-color);\n",
              "    }\n",
              "    90% {\n",
              "      border-color: transparent;\n",
              "      border-bottom-color: var(--fill-color);\n",
              "    }\n",
              "  }\n",
              "</style>\n",
              "\n",
              "  <script>\n",
              "    async function quickchart(key) {\n",
              "      const quickchartButtonEl =\n",
              "        document.querySelector('#' + key + ' button');\n",
              "      quickchartButtonEl.disabled = true;  // To prevent multiple clicks.\n",
              "      quickchartButtonEl.classList.add('colab-df-spinner');\n",
              "      try {\n",
              "        const charts = await google.colab.kernel.invokeFunction(\n",
              "            'suggestCharts', [key], {});\n",
              "      } catch (error) {\n",
              "        console.error('Error during call to suggestCharts:', error);\n",
              "      }\n",
              "      quickchartButtonEl.classList.remove('colab-df-spinner');\n",
              "      quickchartButtonEl.classList.add('colab-df-quickchart-complete');\n",
              "    }\n",
              "    (() => {\n",
              "      let quickchartButtonEl =\n",
              "        document.querySelector('#df-022d45c2-a523-4163-b62d-a860d6727082 button');\n",
              "      quickchartButtonEl.style.display =\n",
              "        google.colab.kernel.accessAllowed ? 'block' : 'none';\n",
              "    })();\n",
              "  </script>\n",
              "</div>\n",
              "\n",
              "    </div>\n",
              "  </div>\n"
            ],
            "application/vnd.google.colaboratory.intrinsic+json": {
              "type": "dataframe",
              "summary": "{\n  \"name\": \"outliers['Volume']\",\n  \"rows\": 66,\n  \"fields\": [\n    {\n      \"column\": \"Date\",\n      \"properties\": {\n        \"dtype\": \"date\",\n        \"min\": \"2020-03-10 00:00:00\",\n        \"max\": \"2024-10-10 00:00:00\",\n        \"num_unique_values\": 66,\n        \"samples\": [\n          \"2024-07-05 00:00:00\",\n          \"2024-09-26 00:00:00\",\n          \"2020-03-10 00:00:00\"\n        ],\n        \"semantic_type\": \"\",\n        \"description\": \"\"\n      }\n    },\n    {\n      \"column\": \"Open\",\n      \"properties\": {\n        \"dtype\": \"number\",\n        \"std\": 14282.570780100412,\n        \"min\": 42600.0,\n        \"max\": 90300.0,\n        \"num_unique_values\": 59,\n        \"samples\": [\n          53800.0,\n          47750.0,\n          88800.0\n        ],\n        \"semantic_type\": \"\",\n        \"description\": \"\"\n      }\n    },\n    {\n      \"column\": \"High\",\n      \"properties\": {\n        \"dtype\": \"number\",\n        \"std\": 14617.392827618853,\n        \"min\": 43550.0,\n        \"max\": 96800.0,\n        \"num_unique_values\": 63,\n        \"samples\": [\n          61900.0,\n          64400.0,\n          54900.0\n        ],\n        \"semantic_type\": \"\",\n        \"description\": \"\"\n      }\n    },\n    {\n      \"column\": \"Low\",\n      \"properties\": {\n        \"dtype\": \"number\",\n        \"std\": 14349.80505134669,\n        \"min\": 42300.0,\n        \"max\": 89500.0,\n        \"num_unique_values\": 61,\n        \"samples\": [\n          53700.0,\n          45600.0,\n          82900.0\n        ],\n        \"semantic_type\": \"\",\n        \"description\": \"\"\n      }\n    },\n    {\n      \"column\": \"Close\",\n      \"properties\": {\n        \"dtype\": \"number\",\n        \"std\": 14564.500780448434,\n        \"min\": 42500.0,\n        \"max\": 91000.0,\n        \"num_unique_values\": 63,\n        \"samples\": [\n          61000.0,\n          63100.0,\n          54600.0\n        ],\n        \"semantic_type\": \"\",\n        \"description\": \"\"\n      }\n    },\n    {\n      \"column\": \"Adj Close\",\n      \"properties\": {\n        \"dtype\": \"number\",\n        \"std\": 14818.532066549798,\n        \"min\": 37802.99609375,\n        \"max\": 87100.0,\n        \"num_unique_values\": 66,\n        \"samples\": [\n          87100.0,\n          64700.0,\n          48565.7421875\n        ],\n        \"semantic_type\": \"\",\n        \"description\": \"\"\n      }\n    },\n    {\n      \"column\": \"Volume\",\n      \"properties\": {\n        \"dtype\": \"number\",\n        \"std\": 9903518,\n        \"min\": 32106554,\n        \"max\": 90306177,\n        \"num_unique_values\": 66,\n        \"samples\": [\n          45791193,\n          37566015,\n          32106554\n        ],\n        \"semantic_type\": \"\",\n        \"description\": \"\"\n      }\n    }\n  ]\n}"
            }
          },
          "metadata": {},
          "execution_count": 15
        }
      ]
    },
    {
      "cell_type": "markdown",
      "source": [
        "## Time Series Decomposition"
      ],
      "metadata": {
        "id": "4Qfe16V8T3Ue"
      }
    },
    {
      "cell_type": "markdown",
      "source": [
        "Code ini membantu dalam menganalisis pola musiman, tren, dan sisa error dari data.\n",
        "1. `seasonal_decompose`, memisahkan data time series menjadi komponen **trend**, **seasonal**(musiman), dan **residual**.\n",
        "2. `result.plot()`, memvisualisasikan hasil dekomposisi, menampilkan grafik terpisah untuk setiap komponen.\n",
        "3. `plt.show()`, menampilkan plot dekomposisi secara lengkap."
      ],
      "metadata": {
        "id": "_9HqqciGlpHR"
      }
    },
    {
      "cell_type": "code",
      "source": [
        "result = seasonal_decompose(data['Adj Close'], model='multiplicative', period=30)\n",
        "result.plot()\n",
        "plt.show()"
      ],
      "metadata": {
        "colab": {
          "base_uri": "https://localhost:8080/",
          "height": 485
        },
        "id": "XoJBoj3IT1bH",
        "outputId": "d8d0ff1b-e443-4b95-f98c-9ed966b60d70"
      },
      "execution_count": null,
      "outputs": [
        {
          "output_type": "display_data",
          "data": {
            "text/plain": [
              "<Figure size 640x480 with 4 Axes>"
            ],
            "image/png": "[encoded data removed]"
          },
          "metadata": {}
        }
      ]
    },
    {
      "cell_type": "markdown",
      "source": [
        "## Visualisasi Data"
      ],
      "metadata": {
        "id": "tswoIQhJUFPW"
      }
    },
    {
      "cell_type": "markdown",
      "source": [
        "Grafik ini untuk melihat trend harga Adj Close seiring waktu.\n",
        "1. `data['Adj Close'].plot(...)`: Memplot harga `Adj Close` untuk melihat perubahan harga dari waktu ke waktu, dengan ukuran gambar yang diatur menjadi 10x6 inci.\n",
        "2. `title='Adjusted Close Price Over Time'`: Menambahkan judul pada grafik.\n",
        "3. `plt.xlabel('Date')` dan` plt.ylabel('Adj Close Price')`: Menambahkan label sumbu-x dan sumbu-y untuk konteks yang jelas.\n",
        "4. `plt.show()`: Menampilkan plot."
      ],
      "metadata": {
        "id": "lYkYqpQZmFeJ"
      }
    },
    {
      "cell_type": "code",
      "source": [
        "data['Adj Close'].plot(title='Adjusted Close Price Over Time', figsize=(10, 6))\n",
        "plt.xlabel('Date')\n",
        "plt.ylabel('Adj Close Price')\n",
        "plt.show()"
      ],
      "metadata": {
        "colab": {
          "base_uri": "https://localhost:8080/",
          "height": 412
        },
        "id": "xD-gEIHXUDDQ",
        "outputId": "c974021f-3d49-42a7-c3b4-99f10ff464f6"
      },
      "execution_count": null,
      "outputs": [
        {
          "output_type": "display_data",
          "data": {
            "text/plain": [
              "<Figure size 1000x600 with 1 Axes>"
            ],
            "image/png": "[encoded data removed]"
          },
          "metadata": {}
        }
      ]
    },
    {
      "cell_type": "markdown",
      "source": [
        "Grafik ini berguna untuk menganalisis tren dan pola dalam volume perdagangan sepanjang waktu.\n",
        "1. `data['Volume'].plot(...)`: Memplot volume perdagangan untuk melihat perubahan volume dari waktu ke waktu, dengan ukuran gambar diatur menjadi 10x6 inci.\n",
        "2.` title='Trading Volume Over Time'`: Menambahkan judul pada grafik.\n",
        "3.` plt.xlabel('Date')` dan `plt.ylabel('Volume')`: Menambahkan label untuk sumbu-x (tanggal) dan sumbu-y (volume) agar lebih mudah dipahami.\n",
        "4. `plt.show()`: Menampilkan plot.\n"
      ],
      "metadata": {
        "id": "AuYfbUg_mU-S"
      }
    },
    {
      "cell_type": "code",
      "source": [
        "data['Volume'].plot(title='Trading Volume Over Time', figsize=(10, 6))\n",
        "plt.xlabel('Date')\n",
        "plt.ylabel('Volume')\n",
        "plt.show()"
      ],
      "metadata": {
        "colab": {
          "base_uri": "https://localhost:8080/",
          "height": 429
        },
        "id": "RJWH30vrUH8e",
        "outputId": "6a656da2-4ea8-4797-cbd8-5c148ffaa088"
      },
      "execution_count": null,
      "outputs": [
        {
          "output_type": "display_data",
          "data": {
            "text/plain": [
              "<Figure size 1000x600 with 1 Axes>"
            ],
            "image/png": "[encoded data removed]"
          },
          "metadata": {}
        }
      ]
    },
    {
      "cell_type": "markdown",
      "source": [
        "## Korelasi Antar Kolom"
      ],
      "metadata": {
        "id": "fx8C2GtyUU5H"
      }
    },
    {
      "cell_type": "markdown",
      "source": [
        "Visualisasi ini membantu untuk memahami hubungan antara variabel dalam dataset, mengidentifikasi variabel yang memiliki korelasi tinggi atau rendah.\n",
        "1. `plt.figure(figsize = (10, 8))`: Menetapkan ukuran gambar untuk grafik menjadi 10x8 inci.\n",
        "2. `sns.heatmap(data.corr(), annot=True, cmap='coolwarm')`: Membuat heatmap untuk matriks korelasi dari dataset menggunakan seaborn. Parameter:\n",
        "    - `data.corr()`: Menghitung matriks korelasi antar kolom.\n",
        "    - `annot=True`: Menampilkan nilai korelasi di atas setiap sel dalam heatmap.\n",
        "    - `cmap='coolwarm'`: Menentukan skema warna untuk heatmap, dengan warna yang bergradasi dari dingin ke hangat.\n",
        "3. `plt.title('Correlation Matrix')`: Menambahkan judul pada heatmap.\n",
        "4. `plt.show()`: Menampilkan heatmap."
      ],
      "metadata": {
        "id": "rrNRFza9mr0g"
      }
    },
    {
      "cell_type": "code",
      "source": [
        "plt.figure(figsize = (10, 8))\n",
        "sns.heatmap(data.corr(), annot=True, cmap='coolwarm')\n",
        "plt.title('Correlation Matrix')\n",
        "plt.show()"
      ],
      "metadata": {
        "colab": {
          "base_uri": "https://localhost:8080/",
          "height": 577
        },
        "id": "bV7OsSrYUW4G",
        "outputId": "168cd524-a43d-4154-f1a7-e61dfe5e4ead"
      },
      "execution_count": null,
      "outputs": [
        {
          "output_type": "display_data",
          "data": {
            "text/plain": [
              "<Figure size 1000x800 with 2 Axes>"
            ],
            "image/png": "[encoded data removed]"
          },
          "metadata": {}
        }
      ]
    },
    {
      "cell_type": "markdown",
      "source": [
        "# Facebook Prophet Forecasting"
      ],
      "metadata": {
        "id": "Qx0VzyAtWnVw"
      }
    },
    {
      "cell_type": "markdown",
      "source": [
        "## Library Forecast"
      ],
      "metadata": {
        "id": "7rzWUaAbYiHv"
      }
    },
    {
      "cell_type": "markdown",
      "source": [
        "1. `import pandas as pd`: Mengimpor library Pandas, yang digunakan untuk manipulasi dan analisis data, khususnya untuk bekerja dengan DataFrame.\n",
        "2. `from prophet import Prophet`: Mengimpor model Prophet dari library prophet, yang digunakan untuk melakukan peramalan time series dengan pendekatan yang berbasis pada komponen musiman dan tren.\n",
        "3. `from sklearn.metrics import mean_absolute_error, mean_squared_error`: Mengimpor metrik dari sklearn untuk mengevaluasi model prediksi.\n",
        "  - `mean_absolute_error`: Menghitung rata-rata kesalahan absolut antara nilai yang diprediksi dan nilai aktual.\n",
        "  - `mean_squared_error`: Menghitung rata-rata kesalahan kuadrat antara nilai yang diprediksi dan nilai aktual.\n",
        "4. `import plotly.express as px`: Mengimpor Plotly Express, library untuk visualisasi data interaktif yang memudahkan pembuatan berbagai jenis grafik.\n",
        "5. `import numpy as np`: Mengimpor NumPy, library untuk operasi numerik dan manipulasi array, sering digunakan dalam analisis data dan pemrosesan matematis.\n",
        "6. `import joblib`: Mengimpor Joblib, yang digunakan untuk menyimpan dan memuat model machine learning atau objek Python lainnya, sehingga memudahkan dalam melakukan penyimpanan dan pemulihan model.\n"
      ],
      "metadata": {
        "id": "v61wgD0ynD5o"
      }
    },
    {
      "cell_type": "code",
      "source": [
        "import pandas as pd\n",
        "from prophet import Prophet\n",
        "from sklearn.metrics import mean_absolute_error, mean_squared_error\n",
        "import plotly.express as px\n",
        "import numpy as np\n",
        "import joblib"
      ],
      "metadata": {
        "id": "oQPxcsSmWpRX"
      },
      "execution_count": null,
      "outputs": []
    },
    {
      "cell_type": "markdown",
      "source": [
        "## Data Prep"
      ],
      "metadata": {
        "id": "qZqPE3L7YvcH"
      }
    },
    {
      "cell_type": "markdown",
      "source": [
        "Dilakukan pembagian data untuk training dan untuk test.\n",
        "1. `train_data = data[data['Date'] < '2024-09-21']`: Membuat subset train_data yang berisi semua baris dari data di mana kolom Date kurang dari 21 September 2024.\n",
        "2. `test_data = data[data['Date'] >= '2024-09-21']`: Membuat subset test_data yang berisi semua baris dari data di mana kolom Date sama dengan atau lebih besar dari 21 September 2024."
      ],
      "metadata": {
        "id": "125E__rFnu0h"
      }
    },
    {
      "cell_type": "code",
      "source": [
        "train_data = data[data['Date'] < '2024-09-25']\n",
        "test_data = data[data['Date'] >= '2024-09-25']"
      ],
      "metadata": {
        "id": "4BwqDWMlYw8v"
      },
      "execution_count": null,
      "outputs": []
    },
    {
      "cell_type": "markdown",
      "source": [
        "Penggantian nama kolom agar model prophet dapat mengenali kolom yang berisi tanggal dan nilai yang akan di prediksi.\n",
        "1. ` train_data = train_data.rename(columns={'Date': 'ds', 'Adj Close': 'y'})`: Mengganti nama kolom `Date` menjadi `ds` dan kolom `Adj Close` menjadi `y` pada dataset pelatihan, sesuai dengan format input yang diperlukan oleh model Prophet.\n",
        "2. `test_data = test_data.rename(columns={'Date': 'ds', 'Adj Close': 'y'})`: Melakukan hal yang sama untuk dataset pengujian.\n"
      ],
      "metadata": {
        "id": "F0809sBtnfZy"
      }
    },
    {
      "cell_type": "code",
      "source": [
        "train_data = train_data.rename(columns={'Date': 'ds', 'Adj Close': 'y'})\n",
        "test_data = test_data.rename(columns={'Date': 'ds', 'Adj Close': 'y'})"
      ],
      "metadata": {
        "id": "u0DS3BqPbZMW"
      },
      "execution_count": null,
      "outputs": []
    },
    {
      "cell_type": "markdown",
      "source": [
        "## Model Prophet"
      ],
      "metadata": {
        "id": "Fugm75XOZUkH"
      }
    },
    {
      "cell_type": "markdown",
      "source": [
        "Langkah ini mempersiapkan model untuk melakukan prediksi berdasarkan data historis dan variable yang mempengaruhi harganya.\n",
        "1. `model = Prophet(...)`: Membuat objek model Prophet dengan parameter yang ditentukan:\n",
        "  - `yearly_seasonality=True`: Mengaktifkan komponen musiman tahunan.\n",
        "  - `weekly_seasonality=True`: Mengaktifkan komponen musiman mingguan.\n",
        "  - `daily_seasonality=True`: Mengaktifkan komponen musiman harian.\n",
        "  - `seasonality_mode='multiplicative'`: Menggunakan model musiman multiplikatif.\n",
        "  - `changepoint_prior_scale=0.5`: Menentukan kekuatan penyesuaian perubahan tren.\n",
        "  - `seasonality_prior_scale=0.01`: Menentukan kekuatan penyesuaian komponen musiman.\n",
        "  - `n_changepoints=30` : Menetapkan hingga 30 titik perubahan untuk menangkap perubahan tren dalam data.\n",
        "2. `model.add_regressor('Open')`, `model.add_regressor('High')`, `model.add_regressor('Low')`, `model.add_regressor('Close')`: Menambahkan kolom `Open`, `High`, `Low`, dan `Close` sebagai regresor untuk membantu model dalam membuat prediksi lebih akurat berdasarkan variabel-variabel tersebut.\n",
        "3.` model.fit(train_data[['ds', 'y', 'Open', 'High', 'Low', 'Close']])`: Melatih model menggunakan data pelatihan yang berisi kolom `ds` (tanggal), `y` (nilai yang diprediksi), dan regresor yang telah ditambahkan."
      ],
      "metadata": {
        "id": "Yap2InKtn82o"
      }
    },
    {
      "cell_type": "code",
      "source": [
        "model = Prophet(\n",
        "    yearly_seasonality=True,\n",
        "    weekly_seasonality=True,\n",
        "    daily_seasonality=True,\n",
        "    seasonality_mode='multiplicative',\n",
        "    changepoint_prior_scale=0.5,\n",
        "    seasonality_prior_scale=0.01,\n",
        "    n_changepoints=30\n",
        ")\n",
        "\n",
        "model.add_regressor('Open')\n",
        "model.add_regressor('High')\n",
        "model.add_regressor('Low')\n",
        "model.add_regressor('Close')\n",
        "model.fit(train_data[['ds', 'y', 'Open', 'High', 'Low', 'Close']])"
      ],
      "metadata": {
        "colab": {
          "base_uri": "https://localhost:8080/"
        },
        "id": "7L4cn5EhZeFH",
        "outputId": "a1dcec20-a30e-48af-a42f-e9618986dab5"
      },
      "execution_count": null,
      "outputs": [
        {
          "output_type": "stream",
          "name": "stderr",
          "text": [
            "DEBUG:cmdstanpy:input tempfile: /tmp/tmps9msxwt8/87x2g6t0.json\n",
            "DEBUG:cmdstanpy:input tempfile: /tmp/tmps9msxwt8/hmxbz5jq.json\n",
            "DEBUG:cmdstanpy:idx 0\n",
            "DEBUG:cmdstanpy:running CmdStan, num_threads: None\n",
            "DEBUG:cmdstanpy:CmdStan args: ['/usr/local/lib/python3.10/dist-packages/prophet/stan_model/prophet_model.bin', 'random', 'seed=67417', 'data', 'file=/tmp/tmps9msxwt8/87x2g6t0.json', 'init=/tmp/tmps9msxwt8/hmxbz5jq.json', 'output', 'file=/tmp/tmps9msxwt8/prophet_modelb6_78u84/prophet_model-20241026115114.csv', 'method=optimize', 'algorithm=lbfgs', 'iter=10000']\n",
            "11:51:14 - cmdstanpy - INFO - Chain [1] start processing\n",
            "INFO:cmdstanpy:Chain [1] start processing\n",
            "11:51:16 - cmdstanpy - INFO - Chain [1] done processing\n",
            "INFO:cmdstanpy:Chain [1] done processing\n"
          ]
        },
        {
          "output_type": "execute_result",
          "data": {
            "text/plain": [
              "<prophet.forecaster.Prophet at 0x7cf4f190ab60>"
            ]
          },
          "metadata": {},
          "execution_count": 54
        }
      ]
    },
    {
      "cell_type": "markdown",
      "source": [
        "Langkah ini memungkikan model untuk menghasilkan prediksi harga berdasarkan data historis dan faktor - faktor yang mempengaruhi harga.\n",
        "1. `future = model.make_future_dataframe(periods=len(test_data))`: Membuat DataFrame future yang berisi tanggal masa depan berdasarkan jumlah baris dalam `test_data`. Ini menambahkan periode waktu yang diperlukan untuk prediksi ke model.\n",
        "2. `future = pd.concat([future,data[['Open', 'High', 'Low', 'Close']]], axis=1)`: Menggabungkan DataFrame future dengan kolom `Open`, `High`, `Low`, dan `Close` dari dataset asli. Ini memastikan bahwa semua variabel regresor yang diperlukan untuk prediksi tersedia dalam DataFrame masa depan.\n",
        "3. `forecast = model.predict(future)`: Menggunakan model Prophet untuk memprediksi nilai masa depan berdasarkan DataFrame `future`, yang sekarang berisi tanggal dan regresor. Hasil prediksi disimpan dalam variabel `forecast`.\n"
      ],
      "metadata": {
        "id": "z5qHSEb5og8_"
      }
    },
    {
      "cell_type": "code",
      "source": [
        "future = model.make_future_dataframe(periods=len(test_data))\n",
        "future = pd.concat([future,data[['Open', 'High', 'Low', 'Close']]], axis=1)\n",
        "forecast = model.predict(future)"
      ],
      "metadata": {
        "id": "sHAqMJMnZ28u"
      },
      "execution_count": null,
      "outputs": []
    },
    {
      "cell_type": "markdown",
      "source": [
        "Dengan langkah ini, `forecast_test` siap digunakan untuk membandingkan prediksi dengan nilai aktual dalam data pengujian, sehingga evaluasi model dapat dilakukan.\n",
        "1. `forecast_test = forecast[-len(test_data):]`: Mengambil bagian akhir dari DataFrame forecast yang sesuai dengan panjang dataset pengujian (`test_data`). Ini memastikan bahwa hanya prediksi yang relevan untuk periode pengujian yang diambil.\n",
        "2. `forecast_test['ds'] = test_data['ds']`: Menambahkan kolom `ds` (tanggal) dari `test_data` ke `forecast_test`. Hal ini memastikan bahwa DataFrame `forecast_test` sekarang mencakup tanggal yang sesuai untuk setiap prediksi.\n",
        "\n"
      ],
      "metadata": {
        "id": "P4AlluGoo1W3"
      }
    },
    {
      "cell_type": "code",
      "source": [
        "forecast_test = forecast[-len(test_data):]\n",
        "forecast_test['ds'] = test_data['ds']"
      ],
      "metadata": {
        "colab": {
          "base_uri": "https://localhost:8080/"
        },
        "id": "BJpoJCcTdkXy",
        "outputId": "564ce363-0b3f-469e-acd5-bf394b6d2c7b"
      },
      "execution_count": null,
      "outputs": [
        {
          "output_type": "stream",
          "name": "stderr",
          "text": [
            "<ipython-input-56-f5b9271afe73>:2: SettingWithCopyWarning:\n",
            "\n",
            "\n",
            "A value is trying to be set on a copy of a slice from a DataFrame.\n",
            "Try using .loc[row_indexer,col_indexer] = value instead\n",
            "\n",
            "See the caveats in the documentation: https://pandas.pydata.org/pandas-docs/stable/user_guide/indexing.html#returning-a-view-versus-a-copy\n",
            "\n"
          ]
        }
      ]
    },
    {
      "cell_type": "markdown",
      "source": [
        "## Hasil MAE, RMSE, dan Visual"
      ],
      "metadata": {
        "id": "CmWO5atvbCm3"
      }
    },
    {
      "cell_type": "markdown",
      "source": [
        "Langkah ini penting untuk mengevaluasi seberapa baik model dalam memprediksi nilai di dataset pengujian.\n",
        "1. `mae = mean_absolute_error(test_data['y'], forecast_test['yhat'])`: Menghitung Mean Absolute Error (MAE) antara nilai aktual (`y` dari `test_data`) dan nilai yang diprediksi (`yhat` dari `forecast_test`). MAE memberikan ukuran rata-rata kesalahan absolut dari prediksi.\n",
        "2.` rmse = np.sqrt(mean_squared_error(test_data['y'], forecast_test['yhat']))`: Menghitung Root Mean Squared Error (RMSE) dengan mengambil akar kuadrat dari Mean Squared Error (MSE) antara nilai aktual dan prediksi. RMSE memberikan ukuran kesalahan kuadrat yang lebih sensitif terhadap outlier.\n",
        "3. `print(f'Prophet with Best Regression and Parameters - MAE: {mae}, RMSE: {rmse}')`: Mencetak hasil MAE dan RMSE, memberikan informasi tentang kinerja model Prophet dengan regresor dan parameter terbaik yang digunakan."
      ],
      "metadata": {
        "id": "CBNbySCFpHAY"
      }
    },
    {
      "cell_type": "code",
      "source": [
        "mae = mean_absolute_error(test_data['y'], forecast_test['yhat'])\n",
        "rmse = np.sqrt(mean_squared_error(test_data['y'], forecast_test['yhat']))\n",
        "print(f'Prophet Regression and Parameters - MAE: {mae}, RMSE: {rmse}')"
      ],
      "metadata": {
        "colab": {
          "base_uri": "https://localhost:8080/"
        },
        "id": "rD9HJYRYdygW",
        "outputId": "d466e2e1-8c44-4ba1-9ddc-6369f302ad71"
      },
      "execution_count": null,
      "outputs": [
        {
          "output_type": "stream",
          "name": "stdout",
          "text": [
            "Prophet Regression and Parameters - MAE: 141.11641310206033, RMSE: 157.87338297610893\n"
          ]
        }
      ]
    },
    {
      "cell_type": "markdown",
      "source": [
        "Visualisasi ini memungkikan perbandingan langsung antara hasil prediksi dan nilai aktual, memberikan gambaran yang jelas tenang kinerja model.\n",
        "1. `fig = px.line()`: Membuat objek figure baru untuk plot garis.\n",
        "2. `fig.add_scatter(...)`:\n",
        "  - Menambahkan garis untuk prediksi (`yhat`) dengan tanggal dari `forecast_test`, diwarnai biru dan diberi label 'Forecast'.\n",
        "  - Menambahkan garis untuk nilai aktual (`y`) dengan tanggal dari `test_data`, diwarnai hijau dan diberi label 'Actual'.\n",
        "3. `fig.update_layout(...)`: Mengatur tata letak plot dengan:\n",
        "  - `title`: Judul plot.\n",
        "  - `xaxis_title` dan `yaxis_title`: Label untuk sumbu-x (Tanggal) dan sumbu-y (Harga Penutupan yang Disesuaikan).\n",
        "  - `xaxis_range`: Menentukan rentang sumbu-x dari 21 September 2024 hingga 21 Oktober 2024.\n",
        "  - `hovermode='x unified'`: Mengatur mode hover untuk menampilkan nilai secara bersamaan saat kursor berada di atas sumbu-x.\n",
        "4. `fig.show()`: Menampilkan plot interaktif."
      ],
      "metadata": {
        "id": "rHyEvrO6peeH"
      }
    },
    {
      "cell_type": "code",
      "source": [
        "fig = px.line()\n",
        "fig.add_scatter(x=forecast_test['ds'], y=forecast_test['yhat'], mode='lines', name='Forecast', line=dict(color='blue'))\n",
        "fig.add_scatter(x=test_data['ds'], y=test_data['y'], mode='lines', name='Actual', line=dict(color='green'))\n",
        "fig.update_layout(title='Prophet with Best Regression and Parameters Forecast vs Actual',\n",
        "                  xaxis_title='Date',\n",
        "                  yaxis_title='Adjusted Close Price',\n",
        "                  xaxis_range=['2024-09-21', '2024-10-21'],\n",
        "                  hovermode='x unified')\n",
        "fig.show()"
      ],
      "metadata": {
        "colab": {
          "base_uri": "https://localhost:8080/",
          "height": 542
        },
        "id": "hY3sgHE_d0oO",
        "outputId": "4e3a7e9c-d546-457e-85b8-c570b4ceeb9a"
      },
      "execution_count": null,
      "outputs": [
        {
          "output_type": "display_data",
          "data": {
            "text/html": [
              "<html>\n",
              "<head><meta charset=\"utf-8\" /></head>\n",
              "<body>\n",
              "    <div>            <script src=\"https://cdnjs.cloudflare.com/ajax/libs/mathjax/2.7.5/MathJax.js?config=TeX-AMS-MML_SVG\"></script><script type=\"text/javascript\">if (window.MathJax && window.MathJax.Hub && window.MathJax.Hub.Config) {window.MathJax.Hub.Config({SVG: {font: \"STIX-Web\"}});}</script>                <script type=\"text/javascript\">window.PlotlyConfig = {MathJaxConfig: 'local'};</script>\n",
              "        <script charset=\"utf-8\" src=\"https://cdn.plot.ly/plotly-2.35.2.min.js\"></script>                <div id=\"5a1033f0-6ebd-4c26-a52e-428d19ddd757\" class=\"plotly-graph-div\" style=\"height:525px; width:100%;\"></div>            <script type=\"text/javascript\">                                    window.PLOTLYENV=window.PLOTLYENV || {};                                    if (document.getElementById(\"5a1033f0-6ebd-4c26-a52e-428d19ddd757\")) {                    Plotly.newPlot(                        \"5a1033f0-6ebd-4c26-a52e-428d19ddd757\",                        [{\"hovertemplate\":\"\\u003cextra\\u003e\\u003c\\u002fextra\\u003e\",\"legendgroup\":\"\",\"line\":{\"color\":\"#636efa\",\"dash\":\"solid\"},\"marker\":{\"symbol\":\"circle\"},\"mode\":\"lines\",\"name\":\"\",\"orientation\":\"v\",\"showlegend\":false,\"xaxis\":\"x\",\"yaxis\":\"y\",\"type\":\"scatter\"},{\"line\":{\"color\":\"blue\"},\"mode\":\"lines\",\"name\":\"Forecast\",\"x\":[\"2024-09-25T00:00:00\",\"2024-09-26T00:00:00\",\"2024-09-27T00:00:00\",\"2024-09-30T00:00:00\",\"2024-10-02T00:00:00\",\"2024-10-04T00:00:00\",\"2024-10-07T00:00:00\",\"2024-10-08T00:00:00\",\"2024-10-10T00:00:00\",\"2024-10-11T00:00:00\",\"2024-10-14T00:00:00\",\"2024-10-15T00:00:00\",\"2024-10-16T00:00:00\",\"2024-10-17T00:00:00\",\"2024-10-18T00:00:00\",\"2024-10-21T00:00:00\",\"2024-10-22T00:00:00\",\"2024-10-23T00:00:00\",\"2024-10-24T00:00:00\",\"2024-10-25T00:00:00\"],\"y\":[62270.1999076431,64777.5460779158,64303.70867094126,61501.000231338214,61285.2779967446,60713.657521859895,61162.931306059945,60449.32174632459,59055.43079745384,59474.25545549557,59388.92687610167,61071.37151513341,59695.91650015092,59916.73143548882,59428.487814567976,59237.38597667122,57937.80477933101,59266.265264084905,56725.58902833076,56131.07535389289],\"type\":\"scatter\"},{\"line\":{\"color\":\"green\"},\"mode\":\"lines\",\"name\":\"Actual\",\"x\":[\"2024-09-25T00:00:00\",\"2024-09-26T00:00:00\",\"2024-09-27T00:00:00\",\"2024-09-30T00:00:00\",\"2024-10-02T00:00:00\",\"2024-10-04T00:00:00\",\"2024-10-07T00:00:00\",\"2024-10-08T00:00:00\",\"2024-10-10T00:00:00\",\"2024-10-11T00:00:00\",\"2024-10-14T00:00:00\",\"2024-10-15T00:00:00\",\"2024-10-16T00:00:00\",\"2024-10-17T00:00:00\",\"2024-10-18T00:00:00\",\"2024-10-21T00:00:00\",\"2024-10-22T00:00:00\",\"2024-10-23T00:00:00\",\"2024-10-24T00:00:00\",\"2024-10-25T00:00:00\"],\"y\":[62200.0,64700.0,64200.0,61500.0,61300.0,60600.0,61000.0,60300.0,58900.0,59300.0,59300.0,61000.0,59500.0,59700.0,59200.0,59000.0,57700.0,59100.0,56600.0,55900.0],\"type\":\"scatter\"}],                        {\"template\":{\"data\":{\"histogram2dcontour\":[{\"type\":\"histogram2dcontour\",\"colorbar\":{\"outlinewidth\":0,\"ticks\":\"\"},\"colorscale\":[[0.0,\"#0d0887\"],[0.1111111111111111,\"#46039f\"],[0.2222222222222222,\"#7201a8\"],[0.3333333333333333,\"#9c179e\"],[0.4444444444444444,\"#bd3786\"],[0.5555555555555556,\"#d8576b\"],[0.6666666666666666,\"#ed7953\"],[0.7777777777777778,\"#fb9f3a\"],[0.8888888888888888,\"#fdca26\"],[1.0,\"#f0f921\"]]}],\"choropleth\":[{\"type\":\"choropleth\",\"colorbar\":{\"outlinewidth\":0,\"ticks\":\"\"}}],\"histogram2d\":[{\"type\":\"histogram2d\",\"colorbar\":{\"outlinewidth\":0,\"ticks\":\"\"},\"colorscale\":[[0.0,\"#0d0887\"],[0.1111111111111111,\"#46039f\"],[0.2222222222222222,\"#7201a8\"],[0.3333333333333333,\"#9c179e\"],[0.4444444444444444,\"#bd3786\"],[0.5555555555555556,\"#d8576b\"],[0.6666666666666666,\"#ed7953\"],[0.7777777777777778,\"#fb9f3a\"],[0.8888888888888888,\"#fdca26\"],[1.0,\"#f0f921\"]]}],\"heatmap\":[{\"type\":\"heatmap\",\"colorbar\":{\"outlinewidth\":0,\"ticks\":\"\"},\"colorscale\":[[0.0,\"#0d0887\"],[0.1111111111111111,\"#46039f\"],[0.2222222222222222,\"#7201a8\"],[0.3333333333333333,\"#9c179e\"],[0.4444444444444444,\"#bd3786\"],[0.5555555555555556,\"#d8576b\"],[0.6666666666666666,\"#ed7953\"],[0.7777777777777778,\"#fb9f3a\"],[0.8888888888888888,\"#fdca26\"],[1.0,\"#f0f921\"]]}],\"heatmapgl\":[{\"type\":\"heatmapgl\",\"colorbar\":{\"outlinewidth\":0,\"ticks\":\"\"},\"colorscale\":[[0.0,\"#0d0887\"],[0.1111111111111111,\"#46039f\"],[0.2222222222222222,\"#7201a8\"],[0.3333333333333333,\"#9c179e\"],[0.4444444444444444,\"#bd3786\"],[0.5555555555555556,\"#d8576b\"],[0.6666666666666666,\"#ed7953\"],[0.7777777777777778,\"#fb9f3a\"],[0.8888888888888888,\"#fdca26\"],[1.0,\"#f0f921\"]]}],\"contourcarpet\":[{\"type\":\"contourcarpet\",\"colorbar\":{\"outlinewidth\":0,\"ticks\":\"\"}}],\"contour\":[{\"type\":\"contour\",\"colorbar\":{\"outlinewidth\":0,\"ticks\":\"\"},\"colorscale\":[[0.0,\"#0d0887\"],[0.1111111111111111,\"#46039f\"],[0.2222222222222222,\"#7201a8\"],[0.3333333333333333,\"#9c179e\"],[0.4444444444444444,\"#bd3786\"],[0.5555555555555556,\"#d8576b\"],[0.6666666666666666,\"#ed7953\"],[0.7777777777777778,\"#fb9f3a\"],[0.8888888888888888,\"#fdca26\"],[1.0,\"#f0f921\"]]}],\"surface\":[{\"type\":\"surface\",\"colorbar\":{\"outlinewidth\":0,\"ticks\":\"\"},\"colorscale\":[[0.0,\"#0d0887\"],[0.1111111111111111,\"#46039f\"],[0.2222222222222222,\"#7201a8\"],[0.3333333333333333,\"#9c179e\"],[0.4444444444444444,\"#bd3786\"],[0.5555555555555556,\"#d8576b\"],[0.6666666666666666,\"#ed7953\"],[0.7777777777777778,\"#fb9f3a\"],[0.8888888888888888,\"#fdca26\"],[1.0,\"#f0f921\"]]}],\"mesh3d\":[{\"type\":\"mesh3d\",\"colorbar\":{\"outlinewidth\":0,\"ticks\":\"\"}}],\"scatter\":[{\"fillpattern\":{\"fillmode\":\"overlay\",\"size\":10,\"solidity\":0.2},\"type\":\"scatter\"}],\"parcoords\":[{\"type\":\"parcoords\",\"line\":{\"colorbar\":{\"outlinewidth\":0,\"ticks\":\"\"}}}],\"scatterpolargl\":[{\"type\":\"scatterpolargl\",\"marker\":{\"colorbar\":{\"outlinewidth\":0,\"ticks\":\"\"}}}],\"bar\":[{\"error_x\":{\"color\":\"#2a3f5f\"},\"error_y\":{\"color\":\"#2a3f5f\"},\"marker\":{\"line\":{\"color\":\"#E5ECF6\",\"width\":0.5},\"pattern\":{\"fillmode\":\"overlay\",\"size\":10,\"solidity\":0.2}},\"type\":\"bar\"}],\"scattergeo\":[{\"type\":\"scattergeo\",\"marker\":{\"colorbar\":{\"outlinewidth\":0,\"ticks\":\"\"}}}],\"scatterpolar\":[{\"type\":\"scatterpolar\",\"marker\":{\"colorbar\":{\"outlinewidth\":0,\"ticks\":\"\"}}}],\"histogram\":[{\"marker\":{\"pattern\":{\"fillmode\":\"overlay\",\"size\":10,\"solidity\":0.2}},\"type\":\"histogram\"}],\"scattergl\":[{\"type\":\"scattergl\",\"marker\":{\"colorbar\":{\"outlinewidth\":0,\"ticks\":\"\"}}}],\"scatter3d\":[{\"type\":\"scatter3d\",\"line\":{\"colorbar\":{\"outlinewidth\":0,\"ticks\":\"\"}},\"marker\":{\"colorbar\":{\"outlinewidth\":0,\"ticks\":\"\"}}}],\"scattermapbox\":[{\"type\":\"scattermapbox\",\"marker\":{\"colorbar\":{\"outlinewidth\":0,\"ticks\":\"\"}}}],\"scatterternary\":[{\"type\":\"scatterternary\",\"marker\":{\"colorbar\":{\"outlinewidth\":0,\"ticks\":\"\"}}}],\"scattercarpet\":[{\"type\":\"scattercarpet\",\"marker\":{\"colorbar\":{\"outlinewidth\":0,\"ticks\":\"\"}}}],\"carpet\":[{\"aaxis\":{\"endlinecolor\":\"#2a3f5f\",\"gridcolor\":\"white\",\"linecolor\":\"white\",\"minorgridcolor\":\"white\",\"startlinecolor\":\"#2a3f5f\"},\"baxis\":{\"endlinecolor\":\"#2a3f5f\",\"gridcolor\":\"white\",\"linecolor\":\"white\",\"minorgridcolor\":\"white\",\"startlinecolor\":\"#2a3f5f\"},\"type\":\"carpet\"}],\"table\":[{\"cells\":{\"fill\":{\"color\":\"#EBF0F8\"},\"line\":{\"color\":\"white\"}},\"header\":{\"fill\":{\"color\":\"#C8D4E3\"},\"line\":{\"color\":\"white\"}},\"type\":\"table\"}],\"barpolar\":[{\"marker\":{\"line\":{\"color\":\"#E5ECF6\",\"width\":0.5},\"pattern\":{\"fillmode\":\"overlay\",\"size\":10,\"solidity\":0.2}},\"type\":\"barpolar\"}],\"pie\":[{\"automargin\":true,\"type\":\"pie\"}]},\"layout\":{\"autotypenumbers\":\"strict\",\"colorway\":[\"#636efa\",\"#EF553B\",\"#00cc96\",\"#ab63fa\",\"#FFA15A\",\"#19d3f3\",\"#FF6692\",\"#B6E880\",\"#FF97FF\",\"#FECB52\"],\"font\":{\"color\":\"#2a3f5f\"},\"hovermode\":\"closest\",\"hoverlabel\":{\"align\":\"left\"},\"paper_bgcolor\":\"white\",\"plot_bgcolor\":\"#E5ECF6\",\"polar\":{\"bgcolor\":\"#E5ECF6\",\"angularaxis\":{\"gridcolor\":\"white\",\"linecolor\":\"white\",\"ticks\":\"\"},\"radialaxis\":{\"gridcolor\":\"white\",\"linecolor\":\"white\",\"ticks\":\"\"}},\"ternary\":{\"bgcolor\":\"#E5ECF6\",\"aaxis\":{\"gridcolor\":\"white\",\"linecolor\":\"white\",\"ticks\":\"\"},\"baxis\":{\"gridcolor\":\"white\",\"linecolor\":\"white\",\"ticks\":\"\"},\"caxis\":{\"gridcolor\":\"white\",\"linecolor\":\"white\",\"ticks\":\"\"}},\"coloraxis\":{\"colorbar\":{\"outlinewidth\":0,\"ticks\":\"\"}},\"colorscale\":{\"sequential\":[[0.0,\"#0d0887\"],[0.1111111111111111,\"#46039f\"],[0.2222222222222222,\"#7201a8\"],[0.3333333333333333,\"#9c179e\"],[0.4444444444444444,\"#bd3786\"],[0.5555555555555556,\"#d8576b\"],[0.6666666666666666,\"#ed7953\"],[0.7777777777777778,\"#fb9f3a\"],[0.8888888888888888,\"#fdca26\"],[1.0,\"#f0f921\"]],\"sequentialminus\":[[0.0,\"#0d0887\"],[0.1111111111111111,\"#46039f\"],[0.2222222222222222,\"#7201a8\"],[0.3333333333333333,\"#9c179e\"],[0.4444444444444444,\"#bd3786\"],[0.5555555555555556,\"#d8576b\"],[0.6666666666666666,\"#ed7953\"],[0.7777777777777778,\"#fb9f3a\"],[0.8888888888888888,\"#fdca26\"],[1.0,\"#f0f921\"]],\"diverging\":[[0,\"#8e0152\"],[0.1,\"#c51b7d\"],[0.2,\"#de77ae\"],[0.3,\"#f1b6da\"],[0.4,\"#fde0ef\"],[0.5,\"#f7f7f7\"],[0.6,\"#e6f5d0\"],[0.7,\"#b8e186\"],[0.8,\"#7fbc41\"],[0.9,\"#4d9221\"],[1,\"#276419\"]]},\"xaxis\":{\"gridcolor\":\"white\",\"linecolor\":\"white\",\"ticks\":\"\",\"title\":{\"standoff\":15},\"zerolinecolor\":\"white\",\"automargin\":true,\"zerolinewidth\":2},\"yaxis\":{\"gridcolor\":\"white\",\"linecolor\":\"white\",\"ticks\":\"\",\"title\":{\"standoff\":15},\"zerolinecolor\":\"white\",\"automargin\":true,\"zerolinewidth\":2},\"scene\":{\"xaxis\":{\"backgroundcolor\":\"#E5ECF6\",\"gridcolor\":\"white\",\"linecolor\":\"white\",\"showbackground\":true,\"ticks\":\"\",\"zerolinecolor\":\"white\",\"gridwidth\":2},\"yaxis\":{\"backgroundcolor\":\"#E5ECF6\",\"gridcolor\":\"white\",\"linecolor\":\"white\",\"showbackground\":true,\"ticks\":\"\",\"zerolinecolor\":\"white\",\"gridwidth\":2},\"zaxis\":{\"backgroundcolor\":\"#E5ECF6\",\"gridcolor\":\"white\",\"linecolor\":\"white\",\"showbackground\":true,\"ticks\":\"\",\"zerolinecolor\":\"white\",\"gridwidth\":2}},\"shapedefaults\":{\"line\":{\"color\":\"#2a3f5f\"}},\"annotationdefaults\":{\"arrowcolor\":\"#2a3f5f\",\"arrowhead\":0,\"arrowwidth\":1},\"geo\":{\"bgcolor\":\"white\",\"landcolor\":\"#E5ECF6\",\"subunitcolor\":\"white\",\"showland\":true,\"showlakes\":true,\"lakecolor\":\"white\"},\"title\":{\"x\":0.05},\"mapbox\":{\"style\":\"light\"}}},\"xaxis\":{\"anchor\":\"y\",\"domain\":[0.0,1.0],\"title\":{\"text\":\"Date\"},\"range\":[\"2024-09-21\",\"2024-10-21\"]},\"yaxis\":{\"anchor\":\"x\",\"domain\":[0.0,1.0],\"title\":{\"text\":\"Adjusted Close Price\"}},\"legend\":{\"tracegroupgap\":0},\"margin\":{\"t\":60},\"title\":{\"text\":\"Prophet with Best Regression and Parameters Forecast vs Actual\"},\"hovermode\":\"x unified\"},                        {\"responsive\": true}                    ).then(function(){\n",
              "                            \n",
              "var gd = document.getElementById('5a1033f0-6ebd-4c26-a52e-428d19ddd757');\n",
              "var x = new MutationObserver(function (mutations, observer) {{\n",
              "        var display = window.getComputedStyle(gd).display;\n",
              "        if (!display || display === 'none') {{\n",
              "            console.log([gd, 'removed!']);\n",
              "            Plotly.purge(gd);\n",
              "            observer.disconnect();\n",
              "        }}\n",
              "}});\n",
              "\n",
              "// Listen for the removal of the full notebook cells\n",
              "var notebookContainer = gd.closest('#notebook-container');\n",
              "if (notebookContainer) {{\n",
              "    x.observe(notebookContainer, {childList: true});\n",
              "}}\n",
              "\n",
              "// Listen for the clearing of the current output cell\n",
              "var outputEl = gd.closest('.output');\n",
              "if (outputEl) {{\n",
              "    x.observe(outputEl, {childList: true});\n",
              "}}\n",
              "\n",
              "                        })                };                            </script>        </div>\n",
              "</body>\n",
              "</html>"
            ]
          },
          "metadata": {}
        }
      ]
    },
    {
      "cell_type": "markdown",
      "source": [
        "## Menyimpan Model"
      ],
      "metadata": {
        "id": "o85YnOgWa_6G"
      }
    },
    {
      "cell_type": "markdown",
      "source": [
        "Menyimpan model ini berguna untuk menghindari proses latihan yang memakan waktu dan memudahkan penggunaan model.\n",
        "1. `joblib.dump(...)`: Fungsi ini menyimpan objek Python (dalam hal ini, model) ke dalam format file yang efisien, sehingga model dapat dipulihkan (loaded) kembali di lain waktu tanpa perlu melatih ulang."
      ],
      "metadata": {
        "id": "nirzbTFXp_nY"
      }
    },
    {
      "cell_type": "code",
      "source": [
        "joblib.dump(model, 'Goto_Prophet.pkl')"
      ],
      "metadata": {
        "colab": {
          "base_uri": "https://localhost:8080/"
        },
        "id": "cYEeXYJRbHD-",
        "outputId": "698b59c5-5131-4a2e-ee41-b95a592baec0"
      },
      "execution_count": null,
      "outputs": [
        {
          "output_type": "execute_result",
          "data": {
            "text/plain": [
              "['Goto_Prophet.pkl']"
            ]
          },
          "metadata": {},
          "execution_count": 24
        }
      ]
    }
  ]
}