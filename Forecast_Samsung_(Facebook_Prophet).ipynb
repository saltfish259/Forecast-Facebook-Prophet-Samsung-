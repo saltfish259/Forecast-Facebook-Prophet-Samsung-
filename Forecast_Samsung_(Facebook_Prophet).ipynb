{
  "nbformat": 4,
  "nbformat_minor": 0,
  "metadata": {
    "colab": {
      "provenance": [],
      "authorship_tag": "ABX9TyNi0mBetVVkSC5YB7EEtu2k",
      "include_colab_link": true
    },
    "kernelspec": {
      "name": "python3",
      "display_name": "Python 3"
    },
    "language_info": {
      "name": "python"
    }
  },
  "cells": [
    {
      "cell_type": "markdown",
      "metadata": {
        "id": "view-in-github",
        "colab_type": "text"
      },
      "source": [
        "<a href=\"https://colab.research.google.com/github/saltfish259/Forecast-Facebook-Prophet-Samsung-/blob/main/Forecast_Samsung_(Facebook_Prophet).ipynb\" target=\"_parent\"><img src=\"https://colab.research.google.com/assets/colab-badge.svg\" alt=\"Open In Colab\"/></a>"
      ]
    },
    {
      "cell_type": "markdown",
      "source": [
        "**Nama**: Razif Zulvikar Hatuwe"
      ],
      "metadata": {
        "id": "Q8sRRq1cqMA6"
      }
    },
    {
      "cell_type": "markdown",
      "source": [
        "## Kaggle Download"
      ],
      "metadata": {
        "id": "CjGx_7DZ36AQ"
      }
    },
    {
      "cell_type": "markdown",
      "source": [
        "1. `import kagglehub` mengimpor modul kagglehub, yang memungkinkan pengguna untuk mengunduh dataset dari Kaggle menggunakan API\n",
        "2. `path = kagglehub.dataset_download(...)`, fungsi untuk mengunduh versi terbaru dari dataset. hasil unduhan akan di simpan pada variable path.\n",
        "3. `print(\"Path to dataset files:\", path)` berfungsi untuk melihat lokasi file dataset yang baru saja di unduh."
      ],
      "metadata": {
        "id": "vyvPGhHErRzd"
      }
    },
    {
      "cell_type": "code",
      "execution_count": 1,
      "metadata": {
        "id": "M7NyQ7hN36AQ",
        "colab": {
          "base_uri": "https://localhost:8080/"
        },
        "outputId": "bb05238d-e460-40fa-c072-4b1cf3c9d9f8"
      },
      "outputs": [
        {
          "output_type": "stream",
          "name": "stdout",
          "text": [
            "Downloading from https://www.kaggle.com/api/v1/datasets/download/caesarmario/samsung-electronics-stock-historical-price?dataset_version_number=847...\n"
          ]
        },
        {
          "output_type": "stream",
          "name": "stderr",
          "text": [
            "100%|██████████| 36.2k/36.2k [00:00<00:00, 36.2MB/s]"
          ]
        },
        {
          "output_type": "stream",
          "name": "stdout",
          "text": [
            "Extracting files...\n",
            "Path to dataset files: /root/.cache/kagglehub/datasets/caesarmario/samsung-electronics-stock-historical-price/versions/847\n"
          ]
        },
        {
          "output_type": "stream",
          "name": "stderr",
          "text": [
            "\n"
          ]
        }
      ],
      "source": [
        "import kagglehub\n",
        "\n",
        "# Download latest version\n",
        "path = kagglehub.dataset_download(\"caesarmario/samsung-electronics-stock-historical-price\")\n",
        "\n",
        "print(\"Path to dataset files:\", path)"
      ]
    },
    {
      "cell_type": "code",
      "source": [
        "import pandas as pd\n",
        "data = pd.read_csv('/root/.cache/kagglehub/datasets/caesarmario/samsung-electronics-stock-historical-price/versions/847/005930.KS.csv')"
      ],
      "metadata": {
        "id": "jJrL60gZ6jwu"
      },
      "execution_count": 3,
      "outputs": []
    },
    {
      "cell_type": "markdown",
      "source": [
        "# EDA"
      ],
      "metadata": {
        "id": "jKVz3U7gSuZv"
      }
    },
    {
      "cell_type": "markdown",
      "source": [
        "## Library EDA"
      ],
      "metadata": {
        "id": "hFx0MiicSwbf"
      }
    },
    {
      "cell_type": "markdown",
      "source": [
        "1. `seasonal_decompose` dari `statsmodels.tsa.seasonal` digunakan untuk melakukan dekomposisi time series menjadi beberapa komponen, yaitu trend, seasonal, residual, dan observed.\n",
        "2. `matplotlib.pyplot` digunakan untuk membuat grafik sederhana.\n",
        "3. `seaborn` librari visualisasi data."
      ],
      "metadata": {
        "id": "xcEj4GnikXXJ"
      }
    },
    {
      "cell_type": "code",
      "source": [
        "from statsmodels.tsa.seasonal import seasonal_decompose\n",
        "import matplotlib.pyplot as plt\n",
        "import seaborn as sns"
      ],
      "metadata": {
        "id": "8d0A8sNdSvzf"
      },
      "execution_count": 4,
      "outputs": []
    },
    {
      "cell_type": "markdown",
      "source": [
        "## Struktur Data"
      ],
      "metadata": {
        "id": "GZ4qTQBnTmDY"
      }
    },
    {
      "cell_type": "markdown",
      "source": [
        "\n",
        "`data.head()` untuk menampilkan lima baris pertapa dari data untuk memberikan gambaran awal tentang struktur data dan nilai - nilai data."
      ],
      "metadata": {
        "id": "6SgqHwVhk1F6"
      }
    },
    {
      "cell_type": "code",
      "source": [
        "data.head()"
      ],
      "metadata": {
        "colab": {
          "base_uri": "https://localhost:8080/",
          "height": 206
        },
        "id": "E9h5M1YwTpfv",
        "outputId": "4e9690fe-b188-4710-a9af-ef496091f457"
      },
      "execution_count": 5,
      "outputs": [
        {
          "output_type": "execute_result",
          "data": {
            "text/plain": [
              "         Date     Open     High      Low    Close     Adj Close    Volume\n",
              "0  2019-01-02  39400.0  39400.0  38550.0  38750.0  33287.289062   7847664\n",
              "1  2019-01-03  38300.0  38550.0  37450.0  37600.0  32299.406250  12471493\n",
              "2  2019-01-04  37450.0  37600.0  36850.0  37450.0  32170.554688  14108958\n",
              "3  2019-01-07  38000.0  38900.0  37800.0  38750.0  33287.289062  12748997\n",
              "4  2019-01-08  38000.0  39200.0  37950.0  38100.0  32728.914062  12756554"
            ],
            "text/html": [
              "\n",
              "  <div id=\"df-4cde863c-09a9-4bbc-92d8-7289dcf2ff36\" class=\"colab-df-container\">\n",
              "    <div>\n",
              "<style scoped>\n",
              "    .dataframe tbody tr th:only-of-type {\n",
              "        vertical-align: middle;\n",
              "    }\n",
              "\n",
              "    .dataframe tbody tr th {\n",
              "        vertical-align: top;\n",
              "    }\n",
              "\n",
              "    .dataframe thead th {\n",
              "        text-align: right;\n",
              "    }\n",
              "</style>\n",
              "<table border=\"1\" class=\"dataframe\">\n",
              "  <thead>\n",
              "    <tr style=\"text-align: right;\">\n",
              "      <th></th>\n",
              "      <th>Date</th>\n",
              "      <th>Open</th>\n",
              "      <th>High</th>\n",
              "      <th>Low</th>\n",
              "      <th>Close</th>\n",
              "      <th>Adj Close</th>\n",
              "      <th>Volume</th>\n",
              "    </tr>\n",
              "  </thead>\n",
              "  <tbody>\n",
              "    <tr>\n",
              "      <th>0</th>\n",
              "      <td>2019-01-02</td>\n",
              "      <td>39400.0</td>\n",
              "      <td>39400.0</td>\n",
              "      <td>38550.0</td>\n",
              "      <td>38750.0</td>\n",
              "      <td>33287.289062</td>\n",
              "      <td>7847664</td>\n",
              "    </tr>\n",
              "    <tr>\n",
              "      <th>1</th>\n",
              "      <td>2019-01-03</td>\n",
              "      <td>38300.0</td>\n",
              "      <td>38550.0</td>\n",
              "      <td>37450.0</td>\n",
              "      <td>37600.0</td>\n",
              "      <td>32299.406250</td>\n",
              "      <td>12471493</td>\n",
              "    </tr>\n",
              "    <tr>\n",
              "      <th>2</th>\n",
              "      <td>2019-01-04</td>\n",
              "      <td>37450.0</td>\n",
              "      <td>37600.0</td>\n",
              "      <td>36850.0</td>\n",
              "      <td>37450.0</td>\n",
              "      <td>32170.554688</td>\n",
              "      <td>14108958</td>\n",
              "    </tr>\n",
              "    <tr>\n",
              "      <th>3</th>\n",
              "      <td>2019-01-07</td>\n",
              "      <td>38000.0</td>\n",
              "      <td>38900.0</td>\n",
              "      <td>37800.0</td>\n",
              "      <td>38750.0</td>\n",
              "      <td>33287.289062</td>\n",
              "      <td>12748997</td>\n",
              "    </tr>\n",
              "    <tr>\n",
              "      <th>4</th>\n",
              "      <td>2019-01-08</td>\n",
              "      <td>38000.0</td>\n",
              "      <td>39200.0</td>\n",
              "      <td>37950.0</td>\n",
              "      <td>38100.0</td>\n",
              "      <td>32728.914062</td>\n",
              "      <td>12756554</td>\n",
              "    </tr>\n",
              "  </tbody>\n",
              "</table>\n",
              "</div>\n",
              "    <div class=\"colab-df-buttons\">\n",
              "\n",
              "  <div class=\"colab-df-container\">\n",
              "    <button class=\"colab-df-convert\" onclick=\"convertToInteractive('df-4cde863c-09a9-4bbc-92d8-7289dcf2ff36')\"\n",
              "            title=\"Convert this dataframe to an interactive table.\"\n",
              "            style=\"display:none;\">\n",
              "\n",
              "  <svg xmlns=\"http://www.w3.org/2000/svg\" height=\"24px\" viewBox=\"0 -960 960 960\">\n",
              "    <path d=\"M120-120v-720h720v720H120Zm60-500h600v-160H180v160Zm220 220h160v-160H400v160Zm0 220h160v-160H400v160ZM180-400h160v-160H180v160Zm440 0h160v-160H620v160ZM180-180h160v-160H180v160Zm440 0h160v-160H620v160Z\"/>\n",
              "  </svg>\n",
              "    </button>\n",
              "\n",
              "  <style>\n",
              "    .colab-df-container {\n",
              "      display:flex;\n",
              "      gap: 12px;\n",
              "    }\n",
              "\n",
              "    .colab-df-convert {\n",
              "      background-color: #E8F0FE;\n",
              "      border: none;\n",
              "      border-radius: 50%;\n",
              "      cursor: pointer;\n",
              "      display: none;\n",
              "      fill: #1967D2;\n",
              "      height: 32px;\n",
              "      padding: 0 0 0 0;\n",
              "      width: 32px;\n",
              "    }\n",
              "\n",
              "    .colab-df-convert:hover {\n",
              "      background-color: #E2EBFA;\n",
              "      box-shadow: 0px 1px 2px rgba(60, 64, 67, 0.3), 0px 1px 3px 1px rgba(60, 64, 67, 0.15);\n",
              "      fill: #174EA6;\n",
              "    }\n",
              "\n",
              "    .colab-df-buttons div {\n",
              "      margin-bottom: 4px;\n",
              "    }\n",
              "\n",
              "    [theme=dark] .colab-df-convert {\n",
              "      background-color: #3B4455;\n",
              "      fill: #D2E3FC;\n",
              "    }\n",
              "\n",
              "    [theme=dark] .colab-df-convert:hover {\n",
              "      background-color: #434B5C;\n",
              "      box-shadow: 0px 1px 3px 1px rgba(0, 0, 0, 0.15);\n",
              "      filter: drop-shadow(0px 1px 2px rgba(0, 0, 0, 0.3));\n",
              "      fill: #FFFFFF;\n",
              "    }\n",
              "  </style>\n",
              "\n",
              "    <script>\n",
              "      const buttonEl =\n",
              "        document.querySelector('#df-4cde863c-09a9-4bbc-92d8-7289dcf2ff36 button.colab-df-convert');\n",
              "      buttonEl.style.display =\n",
              "        google.colab.kernel.accessAllowed ? 'block' : 'none';\n",
              "\n",
              "      async function convertToInteractive(key) {\n",
              "        const element = document.querySelector('#df-4cde863c-09a9-4bbc-92d8-7289dcf2ff36');\n",
              "        const dataTable =\n",
              "          await google.colab.kernel.invokeFunction('convertToInteractive',\n",
              "                                                    [key], {});\n",
              "        if (!dataTable) return;\n",
              "\n",
              "        const docLinkHtml = 'Like what you see? Visit the ' +\n",
              "          '<a target=\"_blank\" href=https://colab.research.google.com/notebooks/data_table.ipynb>data table notebook</a>'\n",
              "          + ' to learn more about interactive tables.';\n",
              "        element.innerHTML = '';\n",
              "        dataTable['output_type'] = 'display_data';\n",
              "        await google.colab.output.renderOutput(dataTable, element);\n",
              "        const docLink = document.createElement('div');\n",
              "        docLink.innerHTML = docLinkHtml;\n",
              "        element.appendChild(docLink);\n",
              "      }\n",
              "    </script>\n",
              "  </div>\n",
              "\n",
              "\n",
              "<div id=\"df-2409c2b0-64ff-40a6-a654-ad1d09f807a3\">\n",
              "  <button class=\"colab-df-quickchart\" onclick=\"quickchart('df-2409c2b0-64ff-40a6-a654-ad1d09f807a3')\"\n",
              "            title=\"Suggest charts\"\n",
              "            style=\"display:none;\">\n",
              "\n",
              "<svg xmlns=\"http://www.w3.org/2000/svg\" height=\"24px\"viewBox=\"0 0 24 24\"\n",
              "     width=\"24px\">\n",
              "    <g>\n",
              "        <path d=\"M19 3H5c-1.1 0-2 .9-2 2v14c0 1.1.9 2 2 2h14c1.1 0 2-.9 2-2V5c0-1.1-.9-2-2-2zM9 17H7v-7h2v7zm4 0h-2V7h2v10zm4 0h-2v-4h2v4z\"/>\n",
              "    </g>\n",
              "</svg>\n",
              "  </button>\n",
              "\n",
              "<style>\n",
              "  .colab-df-quickchart {\n",
              "      --bg-color: #E8F0FE;\n",
              "      --fill-color: #1967D2;\n",
              "      --hover-bg-color: #E2EBFA;\n",
              "      --hover-fill-color: #174EA6;\n",
              "      --disabled-fill-color: #AAA;\n",
              "      --disabled-bg-color: #DDD;\n",
              "  }\n",
              "\n",
              "  [theme=dark] .colab-df-quickchart {\n",
              "      --bg-color: #3B4455;\n",
              "      --fill-color: #D2E3FC;\n",
              "      --hover-bg-color: #434B5C;\n",
              "      --hover-fill-color: #FFFFFF;\n",
              "      --disabled-bg-color: #3B4455;\n",
              "      --disabled-fill-color: #666;\n",
              "  }\n",
              "\n",
              "  .colab-df-quickchart {\n",
              "    background-color: var(--bg-color);\n",
              "    border: none;\n",
              "    border-radius: 50%;\n",
              "    cursor: pointer;\n",
              "    display: none;\n",
              "    fill: var(--fill-color);\n",
              "    height: 32px;\n",
              "    padding: 0;\n",
              "    width: 32px;\n",
              "  }\n",
              "\n",
              "  .colab-df-quickchart:hover {\n",
              "    background-color: var(--hover-bg-color);\n",
              "    box-shadow: 0 1px 2px rgba(60, 64, 67, 0.3), 0 1px 3px 1px rgba(60, 64, 67, 0.15);\n",
              "    fill: var(--button-hover-fill-color);\n",
              "  }\n",
              "\n",
              "  .colab-df-quickchart-complete:disabled,\n",
              "  .colab-df-quickchart-complete:disabled:hover {\n",
              "    background-color: var(--disabled-bg-color);\n",
              "    fill: var(--disabled-fill-color);\n",
              "    box-shadow: none;\n",
              "  }\n",
              "\n",
              "  .colab-df-spinner {\n",
              "    border: 2px solid var(--fill-color);\n",
              "    border-color: transparent;\n",
              "    border-bottom-color: var(--fill-color);\n",
              "    animation:\n",
              "      spin 1s steps(1) infinite;\n",
              "  }\n",
              "\n",
              "  @keyframes spin {\n",
              "    0% {\n",
              "      border-color: transparent;\n",
              "      border-bottom-color: var(--fill-color);\n",
              "      border-left-color: var(--fill-color);\n",
              "    }\n",
              "    20% {\n",
              "      border-color: transparent;\n",
              "      border-left-color: var(--fill-color);\n",
              "      border-top-color: var(--fill-color);\n",
              "    }\n",
              "    30% {\n",
              "      border-color: transparent;\n",
              "      border-left-color: var(--fill-color);\n",
              "      border-top-color: var(--fill-color);\n",
              "      border-right-color: var(--fill-color);\n",
              "    }\n",
              "    40% {\n",
              "      border-color: transparent;\n",
              "      border-right-color: var(--fill-color);\n",
              "      border-top-color: var(--fill-color);\n",
              "    }\n",
              "    60% {\n",
              "      border-color: transparent;\n",
              "      border-right-color: var(--fill-color);\n",
              "    }\n",
              "    80% {\n",
              "      border-color: transparent;\n",
              "      border-right-color: var(--fill-color);\n",
              "      border-bottom-color: var(--fill-color);\n",
              "    }\n",
              "    90% {\n",
              "      border-color: transparent;\n",
              "      border-bottom-color: var(--fill-color);\n",
              "    }\n",
              "  }\n",
              "</style>\n",
              "\n",
              "  <script>\n",
              "    async function quickchart(key) {\n",
              "      const quickchartButtonEl =\n",
              "        document.querySelector('#' + key + ' button');\n",
              "      quickchartButtonEl.disabled = true;  // To prevent multiple clicks.\n",
              "      quickchartButtonEl.classList.add('colab-df-spinner');\n",
              "      try {\n",
              "        const charts = await google.colab.kernel.invokeFunction(\n",
              "            'suggestCharts', [key], {});\n",
              "      } catch (error) {\n",
              "        console.error('Error during call to suggestCharts:', error);\n",
              "      }\n",
              "      quickchartButtonEl.classList.remove('colab-df-spinner');\n",
              "      quickchartButtonEl.classList.add('colab-df-quickchart-complete');\n",
              "    }\n",
              "    (() => {\n",
              "      let quickchartButtonEl =\n",
              "        document.querySelector('#df-2409c2b0-64ff-40a6-a654-ad1d09f807a3 button');\n",
              "      quickchartButtonEl.style.display =\n",
              "        google.colab.kernel.accessAllowed ? 'block' : 'none';\n",
              "    })();\n",
              "  </script>\n",
              "</div>\n",
              "\n",
              "    </div>\n",
              "  </div>\n"
            ],
            "application/vnd.google.colaboratory.intrinsic+json": {
              "type": "dataframe",
              "variable_name": "data",
              "summary": "{\n  \"name\": \"data\",\n  \"rows\": 1490,\n  \"fields\": [\n    {\n      \"column\": \"Date\",\n      \"properties\": {\n        \"dtype\": \"object\",\n        \"num_unique_values\": 1490,\n        \"samples\": [\n          \"2022-10-28\",\n          \"2020-03-17\",\n          \"2020-02-10\"\n        ],\n        \"semantic_type\": \"\",\n        \"description\": \"\"\n      }\n    },\n    {\n      \"column\": \"Open\",\n      \"properties\": {\n        \"dtype\": \"number\",\n        \"std\": 12288.376638851849,\n        \"min\": 37450.0,\n        \"max\": 90300.0,\n        \"num_unique_values\": 486,\n        \"samples\": [\n          52300.0,\n          81600.0,\n          64900.0\n        ],\n        \"semantic_type\": \"\",\n        \"description\": \"\"\n      }\n    },\n    {\n      \"column\": \"High\",\n      \"properties\": {\n        \"dtype\": \"number\",\n        \"std\": 12342.010268205175,\n        \"min\": 37600.0,\n        \"max\": 96800.0,\n        \"num_unique_values\": 486,\n        \"samples\": [\n          63700.0,\n          87300.0,\n          65600.0\n        ],\n        \"semantic_type\": \"\",\n        \"description\": \"\"\n      }\n    },\n    {\n      \"column\": \"Low\",\n      \"properties\": {\n        \"dtype\": \"number\",\n        \"std\": 12196.73935282876,\n        \"min\": 36850.0,\n        \"max\": 89500.0,\n        \"num_unique_values\": 469,\n        \"samples\": [\n          45000.0,\n          45600.0,\n          45100.0\n        ],\n        \"semantic_type\": \"\",\n        \"description\": \"\"\n      }\n    },\n    {\n      \"column\": \"Close\",\n      \"properties\": {\n        \"dtype\": \"number\",\n        \"std\": 12248.522282711396,\n        \"min\": 37450.0,\n        \"max\": 91000.0,\n        \"num_unique_values\": 488,\n        \"samples\": [\n          42500.0,\n          68000.0,\n          63100.0\n        ],\n        \"semantic_type\": \"\",\n        \"description\": \"\"\n      }\n    },\n    {\n      \"column\": \"Adj Close\",\n      \"properties\": {\n        \"dtype\": \"number\",\n        \"std\": 13036.499414650923,\n        \"min\": 32170.5546875,\n        \"max\": 87310.109375,\n        \"num_unique_values\": 1070,\n        \"samples\": [\n          58978.25,\n          55305.28125,\n          38310.99609375\n        ],\n        \"semantic_type\": \"\",\n        \"description\": \"\"\n      }\n    },\n    {\n      \"column\": \"Volume\",\n      \"properties\": {\n        \"dtype\": \"number\",\n        \"std\": 8718424,\n        \"min\": 0,\n        \"max\": 90306177,\n        \"num_unique_values\": 1478,\n        \"samples\": [\n          12096419,\n          18449775,\n          21625874\n        ],\n        \"semantic_type\": \"\",\n        \"description\": \"\"\n      }\n    }\n  ]\n}"
            }
          },
          "metadata": {},
          "execution_count": 5
        }
      ]
    },
    {
      "cell_type": "markdown",
      "source": [
        "`data['Date'] = pd.to_datetime(data['Date'])` Mengonversi kolom `Date` menjadi format datetime, sehingga dapat diolah sebagai data waktu dalam analisis time series."
      ],
      "metadata": {
        "id": "9Fww_AxEk-MJ"
      }
    },
    {
      "cell_type": "code",
      "source": [
        "data['Date'] = pd.to_datetime(data['Date'])"
      ],
      "metadata": {
        "id": "cLrF95HiUxTw"
      },
      "execution_count": 6,
      "outputs": []
    },
    {
      "cell_type": "markdown",
      "source": [
        "`data.info() `Memberikan informasi detail dentang data, termasuk jumlah nilai non-null, tipe data setiap kolom, dan ukuran dataset."
      ],
      "metadata": {
        "id": "PfzOb_H4lFNZ"
      }
    },
    {
      "cell_type": "code",
      "source": [
        "data.info()"
      ],
      "metadata": {
        "colab": {
          "base_uri": "https://localhost:8080/"
        },
        "id": "nRoRxEU4ToKI",
        "outputId": "8cd7b24d-9cf9-44bc-8c75-c13a239f2425"
      },
      "execution_count": 7,
      "outputs": [
        {
          "output_type": "stream",
          "name": "stdout",
          "text": [
            "<class 'pandas.core.frame.DataFrame'>\n",
            "RangeIndex: 1490 entries, 0 to 1489\n",
            "Data columns (total 7 columns):\n",
            " #   Column     Non-Null Count  Dtype         \n",
            "---  ------     --------------  -----         \n",
            " 0   Date       1490 non-null   datetime64[ns]\n",
            " 1   Open       1490 non-null   float64       \n",
            " 2   High       1490 non-null   float64       \n",
            " 3   Low        1490 non-null   float64       \n",
            " 4   Close      1490 non-null   float64       \n",
            " 5   Adj Close  1490 non-null   float64       \n",
            " 6   Volume     1490 non-null   int64         \n",
            "dtypes: datetime64[ns](1), float64(5), int64(1)\n",
            "memory usage: 81.6 KB\n"
          ]
        }
      ]
    },
    {
      "cell_type": "markdown",
      "source": [
        "`data.tail()` Menampilkan 5 baris terakhir dari data, berguna untuk melihat data terakhir atau memeriksa nilai terbaru dalam time series."
      ],
      "metadata": {
        "id": "ALDA13_QlM1x"
      }
    },
    {
      "cell_type": "code",
      "source": [
        "data.tail()"
      ],
      "metadata": {
        "colab": {
          "base_uri": "https://localhost:8080/",
          "height": 206
        },
        "id": "z51JKcqfU-PQ",
        "outputId": "1a00591b-567b-4893-c5db-cbda9050accd"
      },
      "execution_count": 8,
      "outputs": [
        {
          "output_type": "execute_result",
          "data": {
            "text/plain": [
              "           Date     Open     High      Low    Close  Adj Close    Volume\n",
              "1485 2025-01-16  54200.0  55000.0  54100.0  54300.0    54300.0  18627298\n",
              "1486 2025-01-17  53800.0  54100.0  53200.0  53700.0    53700.0  18805344\n",
              "1487 2025-01-20  53600.0  53900.0  53300.0  53400.0    53400.0  11822531\n",
              "1488 2025-01-21  53700.0  54300.0  53300.0  53500.0    53500.0  13535702\n",
              "1489 2025-01-22  53400.0  54400.0  53100.0  54300.0    54300.0  18341991"
            ],
            "text/html": [
              "\n",
              "  <div id=\"df-39be2038-ed63-4fe5-8f13-b45592c3f56e\" class=\"colab-df-container\">\n",
              "    <div>\n",
              "<style scoped>\n",
              "    .dataframe tbody tr th:only-of-type {\n",
              "        vertical-align: middle;\n",
              "    }\n",
              "\n",
              "    .dataframe tbody tr th {\n",
              "        vertical-align: top;\n",
              "    }\n",
              "\n",
              "    .dataframe thead th {\n",
              "        text-align: right;\n",
              "    }\n",
              "</style>\n",
              "<table border=\"1\" class=\"dataframe\">\n",
              "  <thead>\n",
              "    <tr style=\"text-align: right;\">\n",
              "      <th></th>\n",
              "      <th>Date</th>\n",
              "      <th>Open</th>\n",
              "      <th>High</th>\n",
              "      <th>Low</th>\n",
              "      <th>Close</th>\n",
              "      <th>Adj Close</th>\n",
              "      <th>Volume</th>\n",
              "    </tr>\n",
              "  </thead>\n",
              "  <tbody>\n",
              "    <tr>\n",
              "      <th>1485</th>\n",
              "      <td>2025-01-16</td>\n",
              "      <td>54200.0</td>\n",
              "      <td>55000.0</td>\n",
              "      <td>54100.0</td>\n",
              "      <td>54300.0</td>\n",
              "      <td>54300.0</td>\n",
              "      <td>18627298</td>\n",
              "    </tr>\n",
              "    <tr>\n",
              "      <th>1486</th>\n",
              "      <td>2025-01-17</td>\n",
              "      <td>53800.0</td>\n",
              "      <td>54100.0</td>\n",
              "      <td>53200.0</td>\n",
              "      <td>53700.0</td>\n",
              "      <td>53700.0</td>\n",
              "      <td>18805344</td>\n",
              "    </tr>\n",
              "    <tr>\n",
              "      <th>1487</th>\n",
              "      <td>2025-01-20</td>\n",
              "      <td>53600.0</td>\n",
              "      <td>53900.0</td>\n",
              "      <td>53300.0</td>\n",
              "      <td>53400.0</td>\n",
              "      <td>53400.0</td>\n",
              "      <td>11822531</td>\n",
              "    </tr>\n",
              "    <tr>\n",
              "      <th>1488</th>\n",
              "      <td>2025-01-21</td>\n",
              "      <td>53700.0</td>\n",
              "      <td>54300.0</td>\n",
              "      <td>53300.0</td>\n",
              "      <td>53500.0</td>\n",
              "      <td>53500.0</td>\n",
              "      <td>13535702</td>\n",
              "    </tr>\n",
              "    <tr>\n",
              "      <th>1489</th>\n",
              "      <td>2025-01-22</td>\n",
              "      <td>53400.0</td>\n",
              "      <td>54400.0</td>\n",
              "      <td>53100.0</td>\n",
              "      <td>54300.0</td>\n",
              "      <td>54300.0</td>\n",
              "      <td>18341991</td>\n",
              "    </tr>\n",
              "  </tbody>\n",
              "</table>\n",
              "</div>\n",
              "    <div class=\"colab-df-buttons\">\n",
              "\n",
              "  <div class=\"colab-df-container\">\n",
              "    <button class=\"colab-df-convert\" onclick=\"convertToInteractive('df-39be2038-ed63-4fe5-8f13-b45592c3f56e')\"\n",
              "            title=\"Convert this dataframe to an interactive table.\"\n",
              "            style=\"display:none;\">\n",
              "\n",
              "  <svg xmlns=\"http://www.w3.org/2000/svg\" height=\"24px\" viewBox=\"0 -960 960 960\">\n",
              "    <path d=\"M120-120v-720h720v720H120Zm60-500h600v-160H180v160Zm220 220h160v-160H400v160Zm0 220h160v-160H400v160ZM180-400h160v-160H180v160Zm440 0h160v-160H620v160ZM180-180h160v-160H180v160Zm440 0h160v-160H620v160Z\"/>\n",
              "  </svg>\n",
              "    </button>\n",
              "\n",
              "  <style>\n",
              "    .colab-df-container {\n",
              "      display:flex;\n",
              "      gap: 12px;\n",
              "    }\n",
              "\n",
              "    .colab-df-convert {\n",
              "      background-color: #E8F0FE;\n",
              "      border: none;\n",
              "      border-radius: 50%;\n",
              "      cursor: pointer;\n",
              "      display: none;\n",
              "      fill: #1967D2;\n",
              "      height: 32px;\n",
              "      padding: 0 0 0 0;\n",
              "      width: 32px;\n",
              "    }\n",
              "\n",
              "    .colab-df-convert:hover {\n",
              "      background-color: #E2EBFA;\n",
              "      box-shadow: 0px 1px 2px rgba(60, 64, 67, 0.3), 0px 1px 3px 1px rgba(60, 64, 67, 0.15);\n",
              "      fill: #174EA6;\n",
              "    }\n",
              "\n",
              "    .colab-df-buttons div {\n",
              "      margin-bottom: 4px;\n",
              "    }\n",
              "\n",
              "    [theme=dark] .colab-df-convert {\n",
              "      background-color: #3B4455;\n",
              "      fill: #D2E3FC;\n",
              "    }\n",
              "\n",
              "    [theme=dark] .colab-df-convert:hover {\n",
              "      background-color: #434B5C;\n",
              "      box-shadow: 0px 1px 3px 1px rgba(0, 0, 0, 0.15);\n",
              "      filter: drop-shadow(0px 1px 2px rgba(0, 0, 0, 0.3));\n",
              "      fill: #FFFFFF;\n",
              "    }\n",
              "  </style>\n",
              "\n",
              "    <script>\n",
              "      const buttonEl =\n",
              "        document.querySelector('#df-39be2038-ed63-4fe5-8f13-b45592c3f56e button.colab-df-convert');\n",
              "      buttonEl.style.display =\n",
              "        google.colab.kernel.accessAllowed ? 'block' : 'none';\n",
              "\n",
              "      async function convertToInteractive(key) {\n",
              "        const element = document.querySelector('#df-39be2038-ed63-4fe5-8f13-b45592c3f56e');\n",
              "        const dataTable =\n",
              "          await google.colab.kernel.invokeFunction('convertToInteractive',\n",
              "                                                    [key], {});\n",
              "        if (!dataTable) return;\n",
              "\n",
              "        const docLinkHtml = 'Like what you see? Visit the ' +\n",
              "          '<a target=\"_blank\" href=https://colab.research.google.com/notebooks/data_table.ipynb>data table notebook</a>'\n",
              "          + ' to learn more about interactive tables.';\n",
              "        element.innerHTML = '';\n",
              "        dataTable['output_type'] = 'display_data';\n",
              "        await google.colab.output.renderOutput(dataTable, element);\n",
              "        const docLink = document.createElement('div');\n",
              "        docLink.innerHTML = docLinkHtml;\n",
              "        element.appendChild(docLink);\n",
              "      }\n",
              "    </script>\n",
              "  </div>\n",
              "\n",
              "\n",
              "<div id=\"df-a131f528-6cd6-4883-b1e5-7f131abf1e82\">\n",
              "  <button class=\"colab-df-quickchart\" onclick=\"quickchart('df-a131f528-6cd6-4883-b1e5-7f131abf1e82')\"\n",
              "            title=\"Suggest charts\"\n",
              "            style=\"display:none;\">\n",
              "\n",
              "<svg xmlns=\"http://www.w3.org/2000/svg\" height=\"24px\"viewBox=\"0 0 24 24\"\n",
              "     width=\"24px\">\n",
              "    <g>\n",
              "        <path d=\"M19 3H5c-1.1 0-2 .9-2 2v14c0 1.1.9 2 2 2h14c1.1 0 2-.9 2-2V5c0-1.1-.9-2-2-2zM9 17H7v-7h2v7zm4 0h-2V7h2v10zm4 0h-2v-4h2v4z\"/>\n",
              "    </g>\n",
              "</svg>\n",
              "  </button>\n",
              "\n",
              "<style>\n",
              "  .colab-df-quickchart {\n",
              "      --bg-color: #E8F0FE;\n",
              "      --fill-color: #1967D2;\n",
              "      --hover-bg-color: #E2EBFA;\n",
              "      --hover-fill-color: #174EA6;\n",
              "      --disabled-fill-color: #AAA;\n",
              "      --disabled-bg-color: #DDD;\n",
              "  }\n",
              "\n",
              "  [theme=dark] .colab-df-quickchart {\n",
              "      --bg-color: #3B4455;\n",
              "      --fill-color: #D2E3FC;\n",
              "      --hover-bg-color: #434B5C;\n",
              "      --hover-fill-color: #FFFFFF;\n",
              "      --disabled-bg-color: #3B4455;\n",
              "      --disabled-fill-color: #666;\n",
              "  }\n",
              "\n",
              "  .colab-df-quickchart {\n",
              "    background-color: var(--bg-color);\n",
              "    border: none;\n",
              "    border-radius: 50%;\n",
              "    cursor: pointer;\n",
              "    display: none;\n",
              "    fill: var(--fill-color);\n",
              "    height: 32px;\n",
              "    padding: 0;\n",
              "    width: 32px;\n",
              "  }\n",
              "\n",
              "  .colab-df-quickchart:hover {\n",
              "    background-color: var(--hover-bg-color);\n",
              "    box-shadow: 0 1px 2px rgba(60, 64, 67, 0.3), 0 1px 3px 1px rgba(60, 64, 67, 0.15);\n",
              "    fill: var(--button-hover-fill-color);\n",
              "  }\n",
              "\n",
              "  .colab-df-quickchart-complete:disabled,\n",
              "  .colab-df-quickchart-complete:disabled:hover {\n",
              "    background-color: var(--disabled-bg-color);\n",
              "    fill: var(--disabled-fill-color);\n",
              "    box-shadow: none;\n",
              "  }\n",
              "\n",
              "  .colab-df-spinner {\n",
              "    border: 2px solid var(--fill-color);\n",
              "    border-color: transparent;\n",
              "    border-bottom-color: var(--fill-color);\n",
              "    animation:\n",
              "      spin 1s steps(1) infinite;\n",
              "  }\n",
              "\n",
              "  @keyframes spin {\n",
              "    0% {\n",
              "      border-color: transparent;\n",
              "      border-bottom-color: var(--fill-color);\n",
              "      border-left-color: var(--fill-color);\n",
              "    }\n",
              "    20% {\n",
              "      border-color: transparent;\n",
              "      border-left-color: var(--fill-color);\n",
              "      border-top-color: var(--fill-color);\n",
              "    }\n",
              "    30% {\n",
              "      border-color: transparent;\n",
              "      border-left-color: var(--fill-color);\n",
              "      border-top-color: var(--fill-color);\n",
              "      border-right-color: var(--fill-color);\n",
              "    }\n",
              "    40% {\n",
              "      border-color: transparent;\n",
              "      border-right-color: var(--fill-color);\n",
              "      border-top-color: var(--fill-color);\n",
              "    }\n",
              "    60% {\n",
              "      border-color: transparent;\n",
              "      border-right-color: var(--fill-color);\n",
              "    }\n",
              "    80% {\n",
              "      border-color: transparent;\n",
              "      border-right-color: var(--fill-color);\n",
              "      border-bottom-color: var(--fill-color);\n",
              "    }\n",
              "    90% {\n",
              "      border-color: transparent;\n",
              "      border-bottom-color: var(--fill-color);\n",
              "    }\n",
              "  }\n",
              "</style>\n",
              "\n",
              "  <script>\n",
              "    async function quickchart(key) {\n",
              "      const quickchartButtonEl =\n",
              "        document.querySelector('#' + key + ' button');\n",
              "      quickchartButtonEl.disabled = true;  // To prevent multiple clicks.\n",
              "      quickchartButtonEl.classList.add('colab-df-spinner');\n",
              "      try {\n",
              "        const charts = await google.colab.kernel.invokeFunction(\n",
              "            'suggestCharts', [key], {});\n",
              "      } catch (error) {\n",
              "        console.error('Error during call to suggestCharts:', error);\n",
              "      }\n",
              "      quickchartButtonEl.classList.remove('colab-df-spinner');\n",
              "      quickchartButtonEl.classList.add('colab-df-quickchart-complete');\n",
              "    }\n",
              "    (() => {\n",
              "      let quickchartButtonEl =\n",
              "        document.querySelector('#df-a131f528-6cd6-4883-b1e5-7f131abf1e82 button');\n",
              "      quickchartButtonEl.style.display =\n",
              "        google.colab.kernel.accessAllowed ? 'block' : 'none';\n",
              "    })();\n",
              "  </script>\n",
              "</div>\n",
              "\n",
              "    </div>\n",
              "  </div>\n"
            ],
            "application/vnd.google.colaboratory.intrinsic+json": {
              "type": "dataframe",
              "summary": "{\n  \"name\": \"data\",\n  \"rows\": 5,\n  \"fields\": [\n    {\n      \"column\": \"Date\",\n      \"properties\": {\n        \"dtype\": \"date\",\n        \"min\": \"2025-01-16 00:00:00\",\n        \"max\": \"2025-01-22 00:00:00\",\n        \"num_unique_values\": 5,\n        \"samples\": [\n          \"2025-01-17 00:00:00\",\n          \"2025-01-22 00:00:00\",\n          \"2025-01-20 00:00:00\"\n        ],\n        \"semantic_type\": \"\",\n        \"description\": \"\"\n      }\n    },\n    {\n      \"column\": \"Open\",\n      \"properties\": {\n        \"dtype\": \"number\",\n        \"std\": 296.6479394838265,\n        \"min\": 53400.0,\n        \"max\": 54200.0,\n        \"num_unique_values\": 5,\n        \"samples\": [\n          53800.0,\n          53400.0,\n          53600.0\n        ],\n        \"semantic_type\": \"\",\n        \"description\": \"\"\n      }\n    },\n    {\n      \"column\": \"High\",\n      \"properties\": {\n        \"dtype\": \"number\",\n        \"std\": 415.9326868617084,\n        \"min\": 53900.0,\n        \"max\": 55000.0,\n        \"num_unique_values\": 5,\n        \"samples\": [\n          54100.0,\n          54400.0,\n          53900.0\n        ],\n        \"semantic_type\": \"\",\n        \"description\": \"\"\n      }\n    },\n    {\n      \"column\": \"Low\",\n      \"properties\": {\n        \"dtype\": \"number\",\n        \"std\": 400.0,\n        \"min\": 53100.0,\n        \"max\": 54100.0,\n        \"num_unique_values\": 4,\n        \"samples\": [\n          53200.0,\n          53100.0,\n          54100.0\n        ],\n        \"semantic_type\": \"\",\n        \"description\": \"\"\n      }\n    },\n    {\n      \"column\": \"Close\",\n      \"properties\": {\n        \"dtype\": \"number\",\n        \"std\": 433.58966777357597,\n        \"min\": 53400.0,\n        \"max\": 54300.0,\n        \"num_unique_values\": 4,\n        \"samples\": [\n          53700.0,\n          53500.0,\n          54300.0\n        ],\n        \"semantic_type\": \"\",\n        \"description\": \"\"\n      }\n    },\n    {\n      \"column\": \"Adj Close\",\n      \"properties\": {\n        \"dtype\": \"number\",\n        \"std\": 433.58966777357597,\n        \"min\": 53400.0,\n        \"max\": 54300.0,\n        \"num_unique_values\": 4,\n        \"samples\": [\n          53700.0,\n          53500.0,\n          54300.0\n        ],\n        \"semantic_type\": \"\",\n        \"description\": \"\"\n      }\n    },\n    {\n      \"column\": \"Volume\",\n      \"properties\": {\n        \"dtype\": \"number\",\n        \"std\": 3298670,\n        \"min\": 11822531,\n        \"max\": 18805344,\n        \"num_unique_values\": 5,\n        \"samples\": [\n          18805344,\n          18341991,\n          11822531\n        ],\n        \"semantic_type\": \"\",\n        \"description\": \"\"\n      }\n    }\n  ]\n}"
            }
          },
          "metadata": {},
          "execution_count": 8
        }
      ]
    },
    {
      "cell_type": "markdown",
      "source": [
        "`data.describe() ` Memberikan statistik ringkas (Mean, std, min, max, dan kuarting) untuk kolom numerik, membantu memahami distribusi data."
      ],
      "metadata": {
        "id": "VgEkI8RelSpj"
      }
    },
    {
      "cell_type": "code",
      "source": [
        "data.describe()"
      ],
      "metadata": {
        "colab": {
          "base_uri": "https://localhost:8080/",
          "height": 301
        },
        "id": "dW5F5sMuTt4H",
        "outputId": "4c32ce2b-68be-4081-8152-baf2513c986c"
      },
      "execution_count": 9,
      "outputs": [
        {
          "output_type": "execute_result",
          "data": {
            "text/plain": [
              "                                Date          Open          High  \\\n",
              "count                           1490   1490.000000   1490.000000   \n",
              "mean   2022-01-08 21:27:18.120805632  64256.107383  64833.087248   \n",
              "min              2019-01-02 00:00:00  37450.000000  37600.000000   \n",
              "25%              2020-07-06 06:00:00  54825.000000  55625.000000   \n",
              "50%              2022-01-06 12:00:00  63900.000000  64300.000000   \n",
              "75%              2023-07-12 18:00:00  74075.000000  74675.000000   \n",
              "max              2025-01-22 00:00:00  90300.000000  96800.000000   \n",
              "std                              NaN  12288.376639  12342.010268   \n",
              "\n",
              "                Low         Close     Adj Close        Volume  \n",
              "count   1490.000000   1490.000000   1490.000000  1.490000e+03  \n",
              "mean   63647.583893  64206.711409  60393.584679  1.656670e+07  \n",
              "min    36850.000000  37450.000000  32170.554688  0.000000e+00  \n",
              "25%    54300.000000  55000.000000  50595.883789  1.118850e+07  \n",
              "50%    63250.000000  63650.000000  61299.328125  1.475962e+07  \n",
              "75%    73300.000000  73975.000000  71479.636719  1.988186e+07  \n",
              "max    89500.000000  91000.000000  87310.109375  9.030618e+07  \n",
              "std    12196.739353  12248.522283  13036.499415  8.718424e+06  "
            ],
            "text/html": [
              "\n",
              "  <div id=\"df-25065626-3063-4d4a-91b0-c3cce60e6acb\" class=\"colab-df-container\">\n",
              "    <div>\n",
              "<style scoped>\n",
              "    .dataframe tbody tr th:only-of-type {\n",
              "        vertical-align: middle;\n",
              "    }\n",
              "\n",
              "    .dataframe tbody tr th {\n",
              "        vertical-align: top;\n",
              "    }\n",
              "\n",
              "    .dataframe thead th {\n",
              "        text-align: right;\n",
              "    }\n",
              "</style>\n",
              "<table border=\"1\" class=\"dataframe\">\n",
              "  <thead>\n",
              "    <tr style=\"text-align: right;\">\n",
              "      <th></th>\n",
              "      <th>Date</th>\n",
              "      <th>Open</th>\n",
              "      <th>High</th>\n",
              "      <th>Low</th>\n",
              "      <th>Close</th>\n",
              "      <th>Adj Close</th>\n",
              "      <th>Volume</th>\n",
              "    </tr>\n",
              "  </thead>\n",
              "  <tbody>\n",
              "    <tr>\n",
              "      <th>count</th>\n",
              "      <td>1490</td>\n",
              "      <td>1490.000000</td>\n",
              "      <td>1490.000000</td>\n",
              "      <td>1490.000000</td>\n",
              "      <td>1490.000000</td>\n",
              "      <td>1490.000000</td>\n",
              "      <td>1.490000e+03</td>\n",
              "    </tr>\n",
              "    <tr>\n",
              "      <th>mean</th>\n",
              "      <td>2022-01-08 21:27:18.120805632</td>\n",
              "      <td>64256.107383</td>\n",
              "      <td>64833.087248</td>\n",
              "      <td>63647.583893</td>\n",
              "      <td>64206.711409</td>\n",
              "      <td>60393.584679</td>\n",
              "      <td>1.656670e+07</td>\n",
              "    </tr>\n",
              "    <tr>\n",
              "      <th>min</th>\n",
              "      <td>2019-01-02 00:00:00</td>\n",
              "      <td>37450.000000</td>\n",
              "      <td>37600.000000</td>\n",
              "      <td>36850.000000</td>\n",
              "      <td>37450.000000</td>\n",
              "      <td>32170.554688</td>\n",
              "      <td>0.000000e+00</td>\n",
              "    </tr>\n",
              "    <tr>\n",
              "      <th>25%</th>\n",
              "      <td>2020-07-06 06:00:00</td>\n",
              "      <td>54825.000000</td>\n",
              "      <td>55625.000000</td>\n",
              "      <td>54300.000000</td>\n",
              "      <td>55000.000000</td>\n",
              "      <td>50595.883789</td>\n",
              "      <td>1.118850e+07</td>\n",
              "    </tr>\n",
              "    <tr>\n",
              "      <th>50%</th>\n",
              "      <td>2022-01-06 12:00:00</td>\n",
              "      <td>63900.000000</td>\n",
              "      <td>64300.000000</td>\n",
              "      <td>63250.000000</td>\n",
              "      <td>63650.000000</td>\n",
              "      <td>61299.328125</td>\n",
              "      <td>1.475962e+07</td>\n",
              "    </tr>\n",
              "    <tr>\n",
              "      <th>75%</th>\n",
              "      <td>2023-07-12 18:00:00</td>\n",
              "      <td>74075.000000</td>\n",
              "      <td>74675.000000</td>\n",
              "      <td>73300.000000</td>\n",
              "      <td>73975.000000</td>\n",
              "      <td>71479.636719</td>\n",
              "      <td>1.988186e+07</td>\n",
              "    </tr>\n",
              "    <tr>\n",
              "      <th>max</th>\n",
              "      <td>2025-01-22 00:00:00</td>\n",
              "      <td>90300.000000</td>\n",
              "      <td>96800.000000</td>\n",
              "      <td>89500.000000</td>\n",
              "      <td>91000.000000</td>\n",
              "      <td>87310.109375</td>\n",
              "      <td>9.030618e+07</td>\n",
              "    </tr>\n",
              "    <tr>\n",
              "      <th>std</th>\n",
              "      <td>NaN</td>\n",
              "      <td>12288.376639</td>\n",
              "      <td>12342.010268</td>\n",
              "      <td>12196.739353</td>\n",
              "      <td>12248.522283</td>\n",
              "      <td>13036.499415</td>\n",
              "      <td>8.718424e+06</td>\n",
              "    </tr>\n",
              "  </tbody>\n",
              "</table>\n",
              "</div>\n",
              "    <div class=\"colab-df-buttons\">\n",
              "\n",
              "  <div class=\"colab-df-container\">\n",
              "    <button class=\"colab-df-convert\" onclick=\"convertToInteractive('df-25065626-3063-4d4a-91b0-c3cce60e6acb')\"\n",
              "            title=\"Convert this dataframe to an interactive table.\"\n",
              "            style=\"display:none;\">\n",
              "\n",
              "  <svg xmlns=\"http://www.w3.org/2000/svg\" height=\"24px\" viewBox=\"0 -960 960 960\">\n",
              "    <path d=\"M120-120v-720h720v720H120Zm60-500h600v-160H180v160Zm220 220h160v-160H400v160Zm0 220h160v-160H400v160ZM180-400h160v-160H180v160Zm440 0h160v-160H620v160ZM180-180h160v-160H180v160Zm440 0h160v-160H620v160Z\"/>\n",
              "  </svg>\n",
              "    </button>\n",
              "\n",
              "  <style>\n",
              "    .colab-df-container {\n",
              "      display:flex;\n",
              "      gap: 12px;\n",
              "    }\n",
              "\n",
              "    .colab-df-convert {\n",
              "      background-color: #E8F0FE;\n",
              "      border: none;\n",
              "      border-radius: 50%;\n",
              "      cursor: pointer;\n",
              "      display: none;\n",
              "      fill: #1967D2;\n",
              "      height: 32px;\n",
              "      padding: 0 0 0 0;\n",
              "      width: 32px;\n",
              "    }\n",
              "\n",
              "    .colab-df-convert:hover {\n",
              "      background-color: #E2EBFA;\n",
              "      box-shadow: 0px 1px 2px rgba(60, 64, 67, 0.3), 0px 1px 3px 1px rgba(60, 64, 67, 0.15);\n",
              "      fill: #174EA6;\n",
              "    }\n",
              "\n",
              "    .colab-df-buttons div {\n",
              "      margin-bottom: 4px;\n",
              "    }\n",
              "\n",
              "    [theme=dark] .colab-df-convert {\n",
              "      background-color: #3B4455;\n",
              "      fill: #D2E3FC;\n",
              "    }\n",
              "\n",
              "    [theme=dark] .colab-df-convert:hover {\n",
              "      background-color: #434B5C;\n",
              "      box-shadow: 0px 1px 3px 1px rgba(0, 0, 0, 0.15);\n",
              "      filter: drop-shadow(0px 1px 2px rgba(0, 0, 0, 0.3));\n",
              "      fill: #FFFFFF;\n",
              "    }\n",
              "  </style>\n",
              "\n",
              "    <script>\n",
              "      const buttonEl =\n",
              "        document.querySelector('#df-25065626-3063-4d4a-91b0-c3cce60e6acb button.colab-df-convert');\n",
              "      buttonEl.style.display =\n",
              "        google.colab.kernel.accessAllowed ? 'block' : 'none';\n",
              "\n",
              "      async function convertToInteractive(key) {\n",
              "        const element = document.querySelector('#df-25065626-3063-4d4a-91b0-c3cce60e6acb');\n",
              "        const dataTable =\n",
              "          await google.colab.kernel.invokeFunction('convertToInteractive',\n",
              "                                                    [key], {});\n",
              "        if (!dataTable) return;\n",
              "\n",
              "        const docLinkHtml = 'Like what you see? Visit the ' +\n",
              "          '<a target=\"_blank\" href=https://colab.research.google.com/notebooks/data_table.ipynb>data table notebook</a>'\n",
              "          + ' to learn more about interactive tables.';\n",
              "        element.innerHTML = '';\n",
              "        dataTable['output_type'] = 'display_data';\n",
              "        await google.colab.output.renderOutput(dataTable, element);\n",
              "        const docLink = document.createElement('div');\n",
              "        docLink.innerHTML = docLinkHtml;\n",
              "        element.appendChild(docLink);\n",
              "      }\n",
              "    </script>\n",
              "  </div>\n",
              "\n",
              "\n",
              "<div id=\"df-5cbc2a82-7029-45f4-aeb3-92926ecf52a8\">\n",
              "  <button class=\"colab-df-quickchart\" onclick=\"quickchart('df-5cbc2a82-7029-45f4-aeb3-92926ecf52a8')\"\n",
              "            title=\"Suggest charts\"\n",
              "            style=\"display:none;\">\n",
              "\n",
              "<svg xmlns=\"http://www.w3.org/2000/svg\" height=\"24px\"viewBox=\"0 0 24 24\"\n",
              "     width=\"24px\">\n",
              "    <g>\n",
              "        <path d=\"M19 3H5c-1.1 0-2 .9-2 2v14c0 1.1.9 2 2 2h14c1.1 0 2-.9 2-2V5c0-1.1-.9-2-2-2zM9 17H7v-7h2v7zm4 0h-2V7h2v10zm4 0h-2v-4h2v4z\"/>\n",
              "    </g>\n",
              "</svg>\n",
              "  </button>\n",
              "\n",
              "<style>\n",
              "  .colab-df-quickchart {\n",
              "      --bg-color: #E8F0FE;\n",
              "      --fill-color: #1967D2;\n",
              "      --hover-bg-color: #E2EBFA;\n",
              "      --hover-fill-color: #174EA6;\n",
              "      --disabled-fill-color: #AAA;\n",
              "      --disabled-bg-color: #DDD;\n",
              "  }\n",
              "\n",
              "  [theme=dark] .colab-df-quickchart {\n",
              "      --bg-color: #3B4455;\n",
              "      --fill-color: #D2E3FC;\n",
              "      --hover-bg-color: #434B5C;\n",
              "      --hover-fill-color: #FFFFFF;\n",
              "      --disabled-bg-color: #3B4455;\n",
              "      --disabled-fill-color: #666;\n",
              "  }\n",
              "\n",
              "  .colab-df-quickchart {\n",
              "    background-color: var(--bg-color);\n",
              "    border: none;\n",
              "    border-radius: 50%;\n",
              "    cursor: pointer;\n",
              "    display: none;\n",
              "    fill: var(--fill-color);\n",
              "    height: 32px;\n",
              "    padding: 0;\n",
              "    width: 32px;\n",
              "  }\n",
              "\n",
              "  .colab-df-quickchart:hover {\n",
              "    background-color: var(--hover-bg-color);\n",
              "    box-shadow: 0 1px 2px rgba(60, 64, 67, 0.3), 0 1px 3px 1px rgba(60, 64, 67, 0.15);\n",
              "    fill: var(--button-hover-fill-color);\n",
              "  }\n",
              "\n",
              "  .colab-df-quickchart-complete:disabled,\n",
              "  .colab-df-quickchart-complete:disabled:hover {\n",
              "    background-color: var(--disabled-bg-color);\n",
              "    fill: var(--disabled-fill-color);\n",
              "    box-shadow: none;\n",
              "  }\n",
              "\n",
              "  .colab-df-spinner {\n",
              "    border: 2px solid var(--fill-color);\n",
              "    border-color: transparent;\n",
              "    border-bottom-color: var(--fill-color);\n",
              "    animation:\n",
              "      spin 1s steps(1) infinite;\n",
              "  }\n",
              "\n",
              "  @keyframes spin {\n",
              "    0% {\n",
              "      border-color: transparent;\n",
              "      border-bottom-color: var(--fill-color);\n",
              "      border-left-color: var(--fill-color);\n",
              "    }\n",
              "    20% {\n",
              "      border-color: transparent;\n",
              "      border-left-color: var(--fill-color);\n",
              "      border-top-color: var(--fill-color);\n",
              "    }\n",
              "    30% {\n",
              "      border-color: transparent;\n",
              "      border-left-color: var(--fill-color);\n",
              "      border-top-color: var(--fill-color);\n",
              "      border-right-color: var(--fill-color);\n",
              "    }\n",
              "    40% {\n",
              "      border-color: transparent;\n",
              "      border-right-color: var(--fill-color);\n",
              "      border-top-color: var(--fill-color);\n",
              "    }\n",
              "    60% {\n",
              "      border-color: transparent;\n",
              "      border-right-color: var(--fill-color);\n",
              "    }\n",
              "    80% {\n",
              "      border-color: transparent;\n",
              "      border-right-color: var(--fill-color);\n",
              "      border-bottom-color: var(--fill-color);\n",
              "    }\n",
              "    90% {\n",
              "      border-color: transparent;\n",
              "      border-bottom-color: var(--fill-color);\n",
              "    }\n",
              "  }\n",
              "</style>\n",
              "\n",
              "  <script>\n",
              "    async function quickchart(key) {\n",
              "      const quickchartButtonEl =\n",
              "        document.querySelector('#' + key + ' button');\n",
              "      quickchartButtonEl.disabled = true;  // To prevent multiple clicks.\n",
              "      quickchartButtonEl.classList.add('colab-df-spinner');\n",
              "      try {\n",
              "        const charts = await google.colab.kernel.invokeFunction(\n",
              "            'suggestCharts', [key], {});\n",
              "      } catch (error) {\n",
              "        console.error('Error during call to suggestCharts:', error);\n",
              "      }\n",
              "      quickchartButtonEl.classList.remove('colab-df-spinner');\n",
              "      quickchartButtonEl.classList.add('colab-df-quickchart-complete');\n",
              "    }\n",
              "    (() => {\n",
              "      let quickchartButtonEl =\n",
              "        document.querySelector('#df-5cbc2a82-7029-45f4-aeb3-92926ecf52a8 button');\n",
              "      quickchartButtonEl.style.display =\n",
              "        google.colab.kernel.accessAllowed ? 'block' : 'none';\n",
              "    })();\n",
              "  </script>\n",
              "</div>\n",
              "\n",
              "    </div>\n",
              "  </div>\n"
            ],
            "application/vnd.google.colaboratory.intrinsic+json": {
              "type": "dataframe",
              "summary": "{\n  \"name\": \"data\",\n  \"rows\": 8,\n  \"fields\": [\n    {\n      \"column\": \"Date\",\n      \"properties\": {\n        \"dtype\": \"date\",\n        \"min\": \"1970-01-01 00:00:00.000001490\",\n        \"max\": \"2025-01-22 00:00:00\",\n        \"num_unique_values\": 7,\n        \"samples\": [\n          \"1490\",\n          \"2022-01-08 21:27:18.120805632\",\n          \"2023-07-12 18:00:00\"\n        ],\n        \"semantic_type\": \"\",\n        \"description\": \"\"\n      }\n    },\n    {\n      \"column\": \"Open\",\n      \"properties\": {\n        \"dtype\": \"number\",\n        \"std\": 30603.598116071702,\n        \"min\": 1490.0,\n        \"max\": 90300.0,\n        \"num_unique_values\": 8,\n        \"samples\": [\n          64256.10738255033,\n          74075.0,\n          1490.0\n        ],\n        \"semantic_type\": \"\",\n        \"description\": \"\"\n      }\n    },\n    {\n      \"column\": \"High\",\n      \"properties\": {\n        \"dtype\": \"number\",\n        \"std\": 32011.173948580756,\n        \"min\": 1490.0,\n        \"max\": 96800.0,\n        \"num_unique_values\": 8,\n        \"samples\": [\n          64833.08724832215,\n          74675.0,\n          1490.0\n        ],\n        \"semantic_type\": \"\",\n        \"description\": \"\"\n      }\n    },\n    {\n      \"column\": \"Low\",\n      \"properties\": {\n        \"dtype\": \"number\",\n        \"std\": 30319.592814043623,\n        \"min\": 1490.0,\n        \"max\": 89500.0,\n        \"num_unique_values\": 8,\n        \"samples\": [\n          63647.58389261745,\n          73300.0,\n          1490.0\n        ],\n        \"semantic_type\": \"\",\n        \"description\": \"\"\n      }\n    },\n    {\n      \"column\": \"Close\",\n      \"properties\": {\n        \"dtype\": \"number\",\n        \"std\": 30716.980997386305,\n        \"min\": 1490.0,\n        \"max\": 91000.0,\n        \"num_unique_values\": 8,\n        \"samples\": [\n          64206.711409395975,\n          73975.0,\n          1490.0\n        ],\n        \"semantic_type\": \"\",\n        \"description\": \"\"\n      }\n    },\n    {\n      \"column\": \"Adj Close\",\n      \"properties\": {\n        \"dtype\": \"number\",\n        \"std\": 29435.50973764891,\n        \"min\": 1490.0,\n        \"max\": 87310.109375,\n        \"num_unique_values\": 8,\n        \"samples\": [\n          60393.58467911074,\n          71479.63671875,\n          1490.0\n        ],\n        \"semantic_type\": \"\",\n        \"description\": \"\"\n      }\n    },\n    {\n      \"column\": \"Volume\",\n      \"properties\": {\n        \"dtype\": \"number\",\n        \"std\": 29244841.88784899,\n        \"min\": 0.0,\n        \"max\": 90306177.0,\n        \"num_unique_values\": 8,\n        \"samples\": [\n          16566696.734228188,\n          19881857.25,\n          1490.0\n        ],\n        \"semantic_type\": \"\",\n        \"description\": \"\"\n      }\n    }\n  ]\n}"
            }
          },
          "metadata": {},
          "execution_count": 9
        }
      ]
    },
    {
      "cell_type": "markdown",
      "source": [
        "## Data Hilang Atau Null"
      ],
      "metadata": {
        "id": "QmBatVNVTwfR"
      }
    },
    {
      "cell_type": "markdown",
      "source": [
        "`data.isnull().sum()` Untuk menghitung jumlai nilai yang hilang (null) disetiap kolom data. Hasilnya adalah jumlah total nilai kosong untuk setiap kolom, yang berguna untuk mengidentifikasi missing values dalam dataseat."
      ],
      "metadata": {
        "id": "4neLF6Utlczp"
      }
    },
    {
      "cell_type": "code",
      "source": [
        "data.isnull().sum()"
      ],
      "metadata": {
        "colab": {
          "base_uri": "https://localhost:8080/",
          "height": 304
        },
        "id": "L9tS2N-CT0Uo",
        "outputId": "ae761585-0f16-488f-c4bf-d550e04deab7"
      },
      "execution_count": 10,
      "outputs": [
        {
          "output_type": "execute_result",
          "data": {
            "text/plain": [
              "Date         0\n",
              "Open         0\n",
              "High         0\n",
              "Low          0\n",
              "Close        0\n",
              "Adj Close    0\n",
              "Volume       0\n",
              "dtype: int64"
            ],
            "text/html": [
              "<div>\n",
              "<style scoped>\n",
              "    .dataframe tbody tr th:only-of-type {\n",
              "        vertical-align: middle;\n",
              "    }\n",
              "\n",
              "    .dataframe tbody tr th {\n",
              "        vertical-align: top;\n",
              "    }\n",
              "\n",
              "    .dataframe thead th {\n",
              "        text-align: right;\n",
              "    }\n",
              "</style>\n",
              "<table border=\"1\" class=\"dataframe\">\n",
              "  <thead>\n",
              "    <tr style=\"text-align: right;\">\n",
              "      <th></th>\n",
              "      <th>0</th>\n",
              "    </tr>\n",
              "  </thead>\n",
              "  <tbody>\n",
              "    <tr>\n",
              "      <th>Date</th>\n",
              "      <td>0</td>\n",
              "    </tr>\n",
              "    <tr>\n",
              "      <th>Open</th>\n",
              "      <td>0</td>\n",
              "    </tr>\n",
              "    <tr>\n",
              "      <th>High</th>\n",
              "      <td>0</td>\n",
              "    </tr>\n",
              "    <tr>\n",
              "      <th>Low</th>\n",
              "      <td>0</td>\n",
              "    </tr>\n",
              "    <tr>\n",
              "      <th>Close</th>\n",
              "      <td>0</td>\n",
              "    </tr>\n",
              "    <tr>\n",
              "      <th>Adj Close</th>\n",
              "      <td>0</td>\n",
              "    </tr>\n",
              "    <tr>\n",
              "      <th>Volume</th>\n",
              "      <td>0</td>\n",
              "    </tr>\n",
              "  </tbody>\n",
              "</table>\n",
              "</div><br><label><b>dtype:</b> int64</label>"
            ]
          },
          "metadata": {},
          "execution_count": 10
        }
      ]
    },
    {
      "cell_type": "code",
      "source": [
        "duplicates = data[data.duplicated()]\n",
        "print(\"Jumlah duplikat data:\", duplicates.shape[0])\n",
        "print(duplicates)"
      ],
      "metadata": {
        "colab": {
          "base_uri": "https://localhost:8080/"
        },
        "id": "s7vNwYXdFOLZ",
        "outputId": "247484f3-23d2-4ee8-ec23-85e77f101600"
      },
      "execution_count": 11,
      "outputs": [
        {
          "output_type": "stream",
          "name": "stdout",
          "text": [
            "Jumlah duplikat data: 0\n",
            "Empty DataFrame\n",
            "Columns: [Date, Open, High, Low, Close, Adj Close, Volume]\n",
            "Index: []\n"
          ]
        }
      ]
    },
    {
      "cell_type": "code",
      "source": [
        "numerical_cols = ['Open', 'High', 'Low', 'Close', 'Adj Close', 'Volume']\n",
        "outliers = {}\n",
        "\n",
        "for col in numerical_cols:\n",
        "    Q1 = data[col].quantile(0.25)\n",
        "    Q3 = data[col].quantile(0.75)\n",
        "    IQR = Q3 - Q1\n",
        "    lower_bound = Q1 - 1.5 * IQR\n",
        "    upper_bound = Q3 + 1.5 * IQR\n",
        "    outliers[col] = data[(data[col] < lower_bound) | (data[col] > upper_bound)]\n",
        "    print(f\"Jumlah outlier di kolom {col}: {outliers[col].shape[0]}\")\n",
        "\n",
        "outliers['Volume']"
      ],
      "metadata": {
        "colab": {
          "base_uri": "https://localhost:8080/",
          "height": 528
        },
        "id": "A604aXIDFTzY",
        "outputId": "ea53f3a0-030d-4b9d-bca3-b86fb5b81ede"
      },
      "execution_count": 12,
      "outputs": [
        {
          "output_type": "stream",
          "name": "stdout",
          "text": [
            "Jumlah outlier di kolom Open: 0\n",
            "Jumlah outlier di kolom High: 0\n",
            "Jumlah outlier di kolom Low: 0\n",
            "Jumlah outlier di kolom Close: 0\n",
            "Jumlah outlier di kolom Adj Close: 0\n",
            "Jumlah outlier di kolom Volume: 65\n"
          ]
        },
        {
          "output_type": "execute_result",
          "data": {
            "text/plain": [
              "           Date     Open     High      Low    Close     Adj Close    Volume\n",
              "293  2020-03-11  54300.0  54400.0  52000.0  52100.0  46083.457031  45707281\n",
              "295  2020-03-13  47450.0  51600.0  46850.0  49950.0  44181.746094  59462933\n",
              "296  2020-03-16  50100.0  50900.0  48800.0  48900.0  43253.000000  33339821\n",
              "297  2020-03-17  46900.0  49650.0  46700.0  47300.0  41837.761719  51218151\n",
              "298  2020-03-18  47750.0  48350.0  45600.0  45600.0  40334.085938  40152623\n",
              "...         ...      ...      ...      ...      ...           ...       ...\n",
              "1443 2024-11-14  50200.0  51800.0  49900.0  49900.0  49900.000000  48510715\n",
              "1444 2024-11-15  50300.0  54200.0  50300.0  53500.0  53500.000000  46774485\n",
              "1445 2024-11-18  57000.0  57500.0  55900.0  56700.0  56700.000000  48095234\n",
              "1450 2024-11-25  57400.0  57900.0  56700.0  57900.0  57900.000000  36237325\n",
              "1463 2024-12-12  54000.0  56500.0  53900.0  55900.0  55900.000000  33476698\n",
              "\n",
              "[65 rows x 7 columns]"
            ],
            "text/html": [
              "\n",
              "  <div id=\"df-90e40838-b574-4d3b-b5ca-ae8cfe1ea0bf\" class=\"colab-df-container\">\n",
              "    <div>\n",
              "<style scoped>\n",
              "    .dataframe tbody tr th:only-of-type {\n",
              "        vertical-align: middle;\n",
              "    }\n",
              "\n",
              "    .dataframe tbody tr th {\n",
              "        vertical-align: top;\n",
              "    }\n",
              "\n",
              "    .dataframe thead th {\n",
              "        text-align: right;\n",
              "    }\n",
              "</style>\n",
              "<table border=\"1\" class=\"dataframe\">\n",
              "  <thead>\n",
              "    <tr style=\"text-align: right;\">\n",
              "      <th></th>\n",
              "      <th>Date</th>\n",
              "      <th>Open</th>\n",
              "      <th>High</th>\n",
              "      <th>Low</th>\n",
              "      <th>Close</th>\n",
              "      <th>Adj Close</th>\n",
              "      <th>Volume</th>\n",
              "    </tr>\n",
              "  </thead>\n",
              "  <tbody>\n",
              "    <tr>\n",
              "      <th>293</th>\n",
              "      <td>2020-03-11</td>\n",
              "      <td>54300.0</td>\n",
              "      <td>54400.0</td>\n",
              "      <td>52000.0</td>\n",
              "      <td>52100.0</td>\n",
              "      <td>46083.457031</td>\n",
              "      <td>45707281</td>\n",
              "    </tr>\n",
              "    <tr>\n",
              "      <th>295</th>\n",
              "      <td>2020-03-13</td>\n",
              "      <td>47450.0</td>\n",
              "      <td>51600.0</td>\n",
              "      <td>46850.0</td>\n",
              "      <td>49950.0</td>\n",
              "      <td>44181.746094</td>\n",
              "      <td>59462933</td>\n",
              "    </tr>\n",
              "    <tr>\n",
              "      <th>296</th>\n",
              "      <td>2020-03-16</td>\n",
              "      <td>50100.0</td>\n",
              "      <td>50900.0</td>\n",
              "      <td>48800.0</td>\n",
              "      <td>48900.0</td>\n",
              "      <td>43253.000000</td>\n",
              "      <td>33339821</td>\n",
              "    </tr>\n",
              "    <tr>\n",
              "      <th>297</th>\n",
              "      <td>2020-03-17</td>\n",
              "      <td>46900.0</td>\n",
              "      <td>49650.0</td>\n",
              "      <td>46700.0</td>\n",
              "      <td>47300.0</td>\n",
              "      <td>41837.761719</td>\n",
              "      <td>51218151</td>\n",
              "    </tr>\n",
              "    <tr>\n",
              "      <th>298</th>\n",
              "      <td>2020-03-18</td>\n",
              "      <td>47750.0</td>\n",
              "      <td>48350.0</td>\n",
              "      <td>45600.0</td>\n",
              "      <td>45600.0</td>\n",
              "      <td>40334.085938</td>\n",
              "      <td>40152623</td>\n",
              "    </tr>\n",
              "    <tr>\n",
              "      <th>...</th>\n",
              "      <td>...</td>\n",
              "      <td>...</td>\n",
              "      <td>...</td>\n",
              "      <td>...</td>\n",
              "      <td>...</td>\n",
              "      <td>...</td>\n",
              "      <td>...</td>\n",
              "    </tr>\n",
              "    <tr>\n",
              "      <th>1443</th>\n",
              "      <td>2024-11-14</td>\n",
              "      <td>50200.0</td>\n",
              "      <td>51800.0</td>\n",
              "      <td>49900.0</td>\n",
              "      <td>49900.0</td>\n",
              "      <td>49900.000000</td>\n",
              "      <td>48510715</td>\n",
              "    </tr>\n",
              "    <tr>\n",
              "      <th>1444</th>\n",
              "      <td>2024-11-15</td>\n",
              "      <td>50300.0</td>\n",
              "      <td>54200.0</td>\n",
              "      <td>50300.0</td>\n",
              "      <td>53500.0</td>\n",
              "      <td>53500.000000</td>\n",
              "      <td>46774485</td>\n",
              "    </tr>\n",
              "    <tr>\n",
              "      <th>1445</th>\n",
              "      <td>2024-11-18</td>\n",
              "      <td>57000.0</td>\n",
              "      <td>57500.0</td>\n",
              "      <td>55900.0</td>\n",
              "      <td>56700.0</td>\n",
              "      <td>56700.000000</td>\n",
              "      <td>48095234</td>\n",
              "    </tr>\n",
              "    <tr>\n",
              "      <th>1450</th>\n",
              "      <td>2024-11-25</td>\n",
              "      <td>57400.0</td>\n",
              "      <td>57900.0</td>\n",
              "      <td>56700.0</td>\n",
              "      <td>57900.0</td>\n",
              "      <td>57900.000000</td>\n",
              "      <td>36237325</td>\n",
              "    </tr>\n",
              "    <tr>\n",
              "      <th>1463</th>\n",
              "      <td>2024-12-12</td>\n",
              "      <td>54000.0</td>\n",
              "      <td>56500.0</td>\n",
              "      <td>53900.0</td>\n",
              "      <td>55900.0</td>\n",
              "      <td>55900.000000</td>\n",
              "      <td>33476698</td>\n",
              "    </tr>\n",
              "  </tbody>\n",
              "</table>\n",
              "<p>65 rows × 7 columns</p>\n",
              "</div>\n",
              "    <div class=\"colab-df-buttons\">\n",
              "\n",
              "  <div class=\"colab-df-container\">\n",
              "    <button class=\"colab-df-convert\" onclick=\"convertToInteractive('df-90e40838-b574-4d3b-b5ca-ae8cfe1ea0bf')\"\n",
              "            title=\"Convert this dataframe to an interactive table.\"\n",
              "            style=\"display:none;\">\n",
              "\n",
              "  <svg xmlns=\"http://www.w3.org/2000/svg\" height=\"24px\" viewBox=\"0 -960 960 960\">\n",
              "    <path d=\"M120-120v-720h720v720H120Zm60-500h600v-160H180v160Zm220 220h160v-160H400v160Zm0 220h160v-160H400v160ZM180-400h160v-160H180v160Zm440 0h160v-160H620v160ZM180-180h160v-160H180v160Zm440 0h160v-160H620v160Z\"/>\n",
              "  </svg>\n",
              "    </button>\n",
              "\n",
              "  <style>\n",
              "    .colab-df-container {\n",
              "      display:flex;\n",
              "      gap: 12px;\n",
              "    }\n",
              "\n",
              "    .colab-df-convert {\n",
              "      background-color: #E8F0FE;\n",
              "      border: none;\n",
              "      border-radius: 50%;\n",
              "      cursor: pointer;\n",
              "      display: none;\n",
              "      fill: #1967D2;\n",
              "      height: 32px;\n",
              "      padding: 0 0 0 0;\n",
              "      width: 32px;\n",
              "    }\n",
              "\n",
              "    .colab-df-convert:hover {\n",
              "      background-color: #E2EBFA;\n",
              "      box-shadow: 0px 1px 2px rgba(60, 64, 67, 0.3), 0px 1px 3px 1px rgba(60, 64, 67, 0.15);\n",
              "      fill: #174EA6;\n",
              "    }\n",
              "\n",
              "    .colab-df-buttons div {\n",
              "      margin-bottom: 4px;\n",
              "    }\n",
              "\n",
              "    [theme=dark] .colab-df-convert {\n",
              "      background-color: #3B4455;\n",
              "      fill: #D2E3FC;\n",
              "    }\n",
              "\n",
              "    [theme=dark] .colab-df-convert:hover {\n",
              "      background-color: #434B5C;\n",
              "      box-shadow: 0px 1px 3px 1px rgba(0, 0, 0, 0.15);\n",
              "      filter: drop-shadow(0px 1px 2px rgba(0, 0, 0, 0.3));\n",
              "      fill: #FFFFFF;\n",
              "    }\n",
              "  </style>\n",
              "\n",
              "    <script>\n",
              "      const buttonEl =\n",
              "        document.querySelector('#df-90e40838-b574-4d3b-b5ca-ae8cfe1ea0bf button.colab-df-convert');\n",
              "      buttonEl.style.display =\n",
              "        google.colab.kernel.accessAllowed ? 'block' : 'none';\n",
              "\n",
              "      async function convertToInteractive(key) {\n",
              "        const element = document.querySelector('#df-90e40838-b574-4d3b-b5ca-ae8cfe1ea0bf');\n",
              "        const dataTable =\n",
              "          await google.colab.kernel.invokeFunction('convertToInteractive',\n",
              "                                                    [key], {});\n",
              "        if (!dataTable) return;\n",
              "\n",
              "        const docLinkHtml = 'Like what you see? Visit the ' +\n",
              "          '<a target=\"_blank\" href=https://colab.research.google.com/notebooks/data_table.ipynb>data table notebook</a>'\n",
              "          + ' to learn more about interactive tables.';\n",
              "        element.innerHTML = '';\n",
              "        dataTable['output_type'] = 'display_data';\n",
              "        await google.colab.output.renderOutput(dataTable, element);\n",
              "        const docLink = document.createElement('div');\n",
              "        docLink.innerHTML = docLinkHtml;\n",
              "        element.appendChild(docLink);\n",
              "      }\n",
              "    </script>\n",
              "  </div>\n",
              "\n",
              "\n",
              "<div id=\"df-94365253-6eed-450a-ade8-4715bdb3771a\">\n",
              "  <button class=\"colab-df-quickchart\" onclick=\"quickchart('df-94365253-6eed-450a-ade8-4715bdb3771a')\"\n",
              "            title=\"Suggest charts\"\n",
              "            style=\"display:none;\">\n",
              "\n",
              "<svg xmlns=\"http://www.w3.org/2000/svg\" height=\"24px\"viewBox=\"0 0 24 24\"\n",
              "     width=\"24px\">\n",
              "    <g>\n",
              "        <path d=\"M19 3H5c-1.1 0-2 .9-2 2v14c0 1.1.9 2 2 2h14c1.1 0 2-.9 2-2V5c0-1.1-.9-2-2-2zM9 17H7v-7h2v7zm4 0h-2V7h2v10zm4 0h-2v-4h2v4z\"/>\n",
              "    </g>\n",
              "</svg>\n",
              "  </button>\n",
              "\n",
              "<style>\n",
              "  .colab-df-quickchart {\n",
              "      --bg-color: #E8F0FE;\n",
              "      --fill-color: #1967D2;\n",
              "      --hover-bg-color: #E2EBFA;\n",
              "      --hover-fill-color: #174EA6;\n",
              "      --disabled-fill-color: #AAA;\n",
              "      --disabled-bg-color: #DDD;\n",
              "  }\n",
              "\n",
              "  [theme=dark] .colab-df-quickchart {\n",
              "      --bg-color: #3B4455;\n",
              "      --fill-color: #D2E3FC;\n",
              "      --hover-bg-color: #434B5C;\n",
              "      --hover-fill-color: #FFFFFF;\n",
              "      --disabled-bg-color: #3B4455;\n",
              "      --disabled-fill-color: #666;\n",
              "  }\n",
              "\n",
              "  .colab-df-quickchart {\n",
              "    background-color: var(--bg-color);\n",
              "    border: none;\n",
              "    border-radius: 50%;\n",
              "    cursor: pointer;\n",
              "    display: none;\n",
              "    fill: var(--fill-color);\n",
              "    height: 32px;\n",
              "    padding: 0;\n",
              "    width: 32px;\n",
              "  }\n",
              "\n",
              "  .colab-df-quickchart:hover {\n",
              "    background-color: var(--hover-bg-color);\n",
              "    box-shadow: 0 1px 2px rgba(60, 64, 67, 0.3), 0 1px 3px 1px rgba(60, 64, 67, 0.15);\n",
              "    fill: var(--button-hover-fill-color);\n",
              "  }\n",
              "\n",
              "  .colab-df-quickchart-complete:disabled,\n",
              "  .colab-df-quickchart-complete:disabled:hover {\n",
              "    background-color: var(--disabled-bg-color);\n",
              "    fill: var(--disabled-fill-color);\n",
              "    box-shadow: none;\n",
              "  }\n",
              "\n",
              "  .colab-df-spinner {\n",
              "    border: 2px solid var(--fill-color);\n",
              "    border-color: transparent;\n",
              "    border-bottom-color: var(--fill-color);\n",
              "    animation:\n",
              "      spin 1s steps(1) infinite;\n",
              "  }\n",
              "\n",
              "  @keyframes spin {\n",
              "    0% {\n",
              "      border-color: transparent;\n",
              "      border-bottom-color: var(--fill-color);\n",
              "      border-left-color: var(--fill-color);\n",
              "    }\n",
              "    20% {\n",
              "      border-color: transparent;\n",
              "      border-left-color: var(--fill-color);\n",
              "      border-top-color: var(--fill-color);\n",
              "    }\n",
              "    30% {\n",
              "      border-color: transparent;\n",
              "      border-left-color: var(--fill-color);\n",
              "      border-top-color: var(--fill-color);\n",
              "      border-right-color: var(--fill-color);\n",
              "    }\n",
              "    40% {\n",
              "      border-color: transparent;\n",
              "      border-right-color: var(--fill-color);\n",
              "      border-top-color: var(--fill-color);\n",
              "    }\n",
              "    60% {\n",
              "      border-color: transparent;\n",
              "      border-right-color: var(--fill-color);\n",
              "    }\n",
              "    80% {\n",
              "      border-color: transparent;\n",
              "      border-right-color: var(--fill-color);\n",
              "      border-bottom-color: var(--fill-color);\n",
              "    }\n",
              "    90% {\n",
              "      border-color: transparent;\n",
              "      border-bottom-color: var(--fill-color);\n",
              "    }\n",
              "  }\n",
              "</style>\n",
              "\n",
              "  <script>\n",
              "    async function quickchart(key) {\n",
              "      const quickchartButtonEl =\n",
              "        document.querySelector('#' + key + ' button');\n",
              "      quickchartButtonEl.disabled = true;  // To prevent multiple clicks.\n",
              "      quickchartButtonEl.classList.add('colab-df-spinner');\n",
              "      try {\n",
              "        const charts = await google.colab.kernel.invokeFunction(\n",
              "            'suggestCharts', [key], {});\n",
              "      } catch (error) {\n",
              "        console.error('Error during call to suggestCharts:', error);\n",
              "      }\n",
              "      quickchartButtonEl.classList.remove('colab-df-spinner');\n",
              "      quickchartButtonEl.classList.add('colab-df-quickchart-complete');\n",
              "    }\n",
              "    (() => {\n",
              "      let quickchartButtonEl =\n",
              "        document.querySelector('#df-94365253-6eed-450a-ade8-4715bdb3771a button');\n",
              "      quickchartButtonEl.style.display =\n",
              "        google.colab.kernel.accessAllowed ? 'block' : 'none';\n",
              "    })();\n",
              "  </script>\n",
              "</div>\n",
              "\n",
              "    </div>\n",
              "  </div>\n"
            ],
            "application/vnd.google.colaboratory.intrinsic+json": {
              "type": "dataframe",
              "summary": "{\n  \"name\": \"outliers['Volume']\",\n  \"rows\": 65,\n  \"fields\": [\n    {\n      \"column\": \"Date\",\n      \"properties\": {\n        \"dtype\": \"date\",\n        \"min\": \"2020-03-11 00:00:00\",\n        \"max\": \"2024-12-12 00:00:00\",\n        \"num_unique_values\": 65,\n        \"samples\": [\n          \"2024-09-19 00:00:00\",\n          \"2024-11-14 00:00:00\",\n          \"2020-03-11 00:00:00\"\n        ],\n        \"semantic_type\": \"\",\n        \"description\": \"\"\n      }\n    },\n    {\n      \"column\": \"Open\",\n      \"properties\": {\n        \"dtype\": \"number\",\n        \"std\": 14903.287905177685,\n        \"min\": 42600.0,\n        \"max\": 90300.0,\n        \"num_unique_values\": 59,\n        \"samples\": [\n          54300.0,\n          46400.0,\n          77100.0\n        ],\n        \"semantic_type\": \"\",\n        \"description\": \"\"\n      }\n    },\n    {\n      \"column\": \"High\",\n      \"properties\": {\n        \"dtype\": \"number\",\n        \"std\": 15139.76861613149,\n        \"min\": 43550.0,\n        \"max\": 96800.0,\n        \"num_unique_values\": 63,\n        \"samples\": [\n          57900.0,\n          53000.0,\n          54400.0\n        ],\n        \"semantic_type\": \"\",\n        \"description\": \"\"\n      }\n    },\n    {\n      \"column\": \"Low\",\n      \"properties\": {\n        \"dtype\": \"number\",\n        \"std\": 14881.709540444399,\n        \"min\": 42300.0,\n        \"max\": 89500.0,\n        \"num_unique_values\": 61,\n        \"samples\": [\n          52000.0,\n          42300.0,\n          72300.0\n        ],\n        \"semantic_type\": \"\",\n        \"description\": \"\"\n      }\n    },\n    {\n      \"column\": \"Close\",\n      \"properties\": {\n        \"dtype\": \"number\",\n        \"std\": 15069.51631988846,\n        \"min\": 42500.0,\n        \"max\": 91000.0,\n        \"num_unique_values\": 63,\n        \"samples\": [\n          57900.0,\n          50600.0,\n          52100.0\n        ],\n        \"semantic_type\": \"\",\n        \"description\": \"\"\n      }\n    },\n    {\n      \"column\": \"Adj Close\",\n      \"properties\": {\n        \"dtype\": \"number\",\n        \"std\": 14828.900967284153,\n        \"min\": 37592.07421875,\n        \"max\": 86614.015625,\n        \"num_unique_values\": 65,\n        \"samples\": [\n          62747.9296875,\n          49900.0,\n          46083.45703125\n        ],\n        \"semantic_type\": \"\",\n        \"description\": \"\"\n      }\n    },\n    {\n      \"column\": \"Volume\",\n      \"properties\": {\n        \"dtype\": \"number\",\n        \"std\": 9520028,\n        \"min\": 33178936,\n        \"max\": 90306177,\n        \"num_unique_values\": 65,\n        \"samples\": [\n          49402713,\n          48510715,\n          45707281\n        ],\n        \"semantic_type\": \"\",\n        \"description\": \"\"\n      }\n    }\n  ]\n}"
            }
          },
          "metadata": {},
          "execution_count": 12
        }
      ]
    },
    {
      "cell_type": "markdown",
      "source": [
        "## Time Series Decomposition"
      ],
      "metadata": {
        "id": "4Qfe16V8T3Ue"
      }
    },
    {
      "cell_type": "markdown",
      "source": [
        "Code ini membantu dalam menganalisis pola musiman, tren, dan sisa error dari data.\n",
        "1. `seasonal_decompose`, memisahkan data time series menjadi komponen **trend**, **seasonal**(musiman), dan **residual**.\n",
        "2. `result.plot()`, memvisualisasikan hasil dekomposisi, menampilkan grafik terpisah untuk setiap komponen.\n",
        "3. `plt.show()`, menampilkan plot dekomposisi secara lengkap."
      ],
      "metadata": {
        "id": "_9HqqciGlpHR"
      }
    },
    {
      "cell_type": "code",
      "source": [
        "result = seasonal_decompose(data['Adj Close'], model='multiplicative', period=30)\n",
        "result.plot()\n",
        "plt.show()"
      ],
      "metadata": {
        "colab": {
          "base_uri": "https://localhost:8080/",
          "height": 487
        },
        "id": "XoJBoj3IT1bH",
        "outputId": "eec08146-6be6-4bd3-b50e-88078b18f219"
      },
      "execution_count": 13,
      "outputs": [
        {
          "output_type": "display_data",
          "data": {
            "text/plain": [
              "<Figure size 640x480 with 4 Axes>"
            ],
            "image/png": "[encoded data removed]"
          },
          "metadata": {}
        }
      ]
    },
    {
      "cell_type": "markdown",
      "source": [
        "## Visualisasi Data"
      ],
      "metadata": {
        "id": "tswoIQhJUFPW"
      }
    },
    {
      "cell_type": "markdown",
      "source": [
        "Grafik ini untuk melihat trend harga Adj Close seiring waktu.\n",
        "1. `data['Adj Close'].plot(...)`: Memplot harga `Adj Close` untuk melihat perubahan harga dari waktu ke waktu, dengan ukuran gambar yang diatur menjadi 10x6 inci.\n",
        "2. `title='Adjusted Close Price Over Time'`: Menambahkan judul pada grafik.\n",
        "3. `plt.xlabel('Date')` dan` plt.ylabel('Adj Close Price')`: Menambahkan label sumbu-x dan sumbu-y untuk konteks yang jelas.\n",
        "4. `plt.show()`: Menampilkan plot."
      ],
      "metadata": {
        "id": "lYkYqpQZmFeJ"
      }
    },
    {
      "cell_type": "code",
      "source": [
        "data['Adj Close'].plot(title='Adjusted Close Price Over Time', figsize=(10, 6))\n",
        "plt.xlabel('Date')\n",
        "plt.ylabel('Adj Close Price')\n",
        "plt.show()"
      ],
      "metadata": {
        "colab": {
          "base_uri": "https://localhost:8080/",
          "height": 564
        },
        "id": "xD-gEIHXUDDQ",
        "outputId": "12753ab3-d6a5-467d-ae5b-cb2d18a9c4fd"
      },
      "execution_count": 14,
      "outputs": [
        {
          "output_type": "display_data",
          "data": {
            "text/plain": [
              "<Figure size 1000x600 with 1 Axes>"
            ],
            "image/png": "[encoded data removed]"
          },
          "metadata": {}
        }
      ]
    },
    {
      "cell_type": "markdown",
      "source": [
        "Grafik ini berguna untuk menganalisis tren dan pola dalam volume perdagangan sepanjang waktu.\n",
        "1. `data['Volume'].plot(...)`: Memplot volume perdagangan untuk melihat perubahan volume dari waktu ke waktu, dengan ukuran gambar diatur menjadi 10x6 inci.\n",
        "2.` title='Trading Volume Over Time'`: Menambahkan judul pada grafik.\n",
        "3.` plt.xlabel('Date')` dan `plt.ylabel('Volume')`: Menambahkan label untuk sumbu-x (tanggal) dan sumbu-y (volume) agar lebih mudah dipahami.\n",
        "4. `plt.show()`: Menampilkan plot.\n"
      ],
      "metadata": {
        "id": "AuYfbUg_mU-S"
      }
    },
    {
      "cell_type": "code",
      "source": [
        "data['Volume'].plot(title='Trading Volume Over Time', figsize=(10, 6))\n",
        "plt.xlabel('Date')\n",
        "plt.ylabel('Volume')\n",
        "plt.show()"
      ],
      "metadata": {
        "colab": {
          "base_uri": "https://localhost:8080/",
          "height": 564
        },
        "id": "RJWH30vrUH8e",
        "outputId": "b04e8066-3f8b-41da-9b68-5d1111d8356d"
      },
      "execution_count": 15,
      "outputs": [
        {
          "output_type": "display_data",
          "data": {
            "text/plain": [
              "<Figure size 1000x600 with 1 Axes>"
            ],
            "image/png": "[encoded data removed]"
          },
          "metadata": {}
        }
      ]
    },
    {
      "cell_type": "markdown",
      "source": [
        "## Korelasi Antar Kolom"
      ],
      "metadata": {
        "id": "fx8C2GtyUU5H"
      }
    },
    {
      "cell_type": "markdown",
      "source": [
        "Visualisasi ini membantu untuk memahami hubungan antara variabel dalam dataset, mengidentifikasi variabel yang memiliki korelasi tinggi atau rendah.\n",
        "1. `plt.figure(figsize = (10, 8))`: Menetapkan ukuran gambar untuk grafik menjadi 10x8 inci.\n",
        "2. `sns.heatmap(data.corr(), annot=True, cmap='coolwarm')`: Membuat heatmap untuk matriks korelasi dari dataset menggunakan seaborn. Parameter:\n",
        "    - `data.corr()`: Menghitung matriks korelasi antar kolom.\n",
        "    - `annot=True`: Menampilkan nilai korelasi di atas setiap sel dalam heatmap.\n",
        "    - `cmap='coolwarm'`: Menentukan skema warna untuk heatmap, dengan warna yang bergradasi dari dingin ke hangat.\n",
        "3. `plt.title('Correlation Matrix')`: Menambahkan judul pada heatmap.\n",
        "4. `plt.show()`: Menampilkan heatmap."
      ],
      "metadata": {
        "id": "rrNRFza9mr0g"
      }
    },
    {
      "cell_type": "code",
      "source": [
        "plt.figure(figsize = (10, 8))\n",
        "sns.heatmap(data.corr(), annot=True, cmap='coolwarm')\n",
        "plt.title('Correlation Matrix')\n",
        "plt.show()"
      ],
      "metadata": {
        "colab": {
          "base_uri": "https://localhost:8080/",
          "height": 699
        },
        "id": "bV7OsSrYUW4G",
        "outputId": "b5beb6a6-c19e-4dc0-ab24-d9ec5fe553d2"
      },
      "execution_count": 16,
      "outputs": [
        {
          "output_type": "display_data",
          "data": {
            "text/plain": [
              "<Figure size 1000x800 with 2 Axes>"
            ],
            "image/png": "[encoded data removed]"
          },
          "metadata": {}
        }
      ]
    },
    {
      "cell_type": "markdown",
      "source": [
        "# Facebook Prophet Forecasting"
      ],
      "metadata": {
        "id": "Qx0VzyAtWnVw"
      }
    },
    {
      "cell_type": "markdown",
      "source": [
        "## Library Forecast"
      ],
      "metadata": {
        "id": "7rzWUaAbYiHv"
      }
    },
    {
      "cell_type": "markdown",
      "source": [
        "1. `import pandas as pd`: Mengimpor library Pandas, yang digunakan untuk manipulasi dan analisis data, khususnya untuk bekerja dengan DataFrame.\n",
        "2. `from prophet import Prophet`: Mengimpor model Prophet dari library prophet, yang digunakan untuk melakukan peramalan time series dengan pendekatan yang berbasis pada komponen musiman dan tren.\n",
        "3. `from sklearn.metrics import mean_absolute_error, mean_squared_error`: Mengimpor metrik dari sklearn untuk mengevaluasi model prediksi.\n",
        "  - `mean_absolute_error`: Menghitung rata-rata kesalahan absolut antara nilai yang diprediksi dan nilai aktual.\n",
        "  - `mean_squared_error`: Menghitung rata-rata kesalahan kuadrat antara nilai yang diprediksi dan nilai aktual.\n",
        "4. `import plotly.express as px`: Mengimpor Plotly Express, library untuk visualisasi data interaktif yang memudahkan pembuatan berbagai jenis grafik.\n",
        "5. `import numpy as np`: Mengimpor NumPy, library untuk operasi numerik dan manipulasi array, sering digunakan dalam analisis data dan pemrosesan matematis.\n",
        "6. `import joblib`: Mengimpor Joblib, yang digunakan untuk menyimpan dan memuat model machine learning atau objek Python lainnya, sehingga memudahkan dalam melakukan penyimpanan dan pemulihan model.\n"
      ],
      "metadata": {
        "id": "v61wgD0ynD5o"
      }
    },
    {
      "cell_type": "code",
      "source": [
        "import pandas as pd\n",
        "from prophet import Prophet\n",
        "from sklearn.metrics import mean_absolute_error, mean_squared_error\n",
        "import plotly.express as px\n",
        "import numpy as np\n",
        "import joblib"
      ],
      "metadata": {
        "id": "oQPxcsSmWpRX"
      },
      "execution_count": 17,
      "outputs": []
    },
    {
      "cell_type": "markdown",
      "source": [
        "## Data Prep"
      ],
      "metadata": {
        "id": "qZqPE3L7YvcH"
      }
    },
    {
      "cell_type": "markdown",
      "source": [
        "Dilakukan pembagian data untuk training dan untuk test.\n",
        "1. `train_data = data[data['Date'] < '2024-09-21']`: Membuat subset train_data yang berisi semua baris dari data di mana kolom Date kurang dari 21 September 2024.\n",
        "2. `test_data = data[data['Date'] >= '2024-09-21']`: Membuat subset test_data yang berisi semua baris dari data di mana kolom Date sama dengan atau lebih besar dari 21 September 2024."
      ],
      "metadata": {
        "id": "125E__rFnu0h"
      }
    },
    {
      "cell_type": "code",
      "source": [
        "train_data = data[data['Date'] < '2024-09-25']\n",
        "test_data = data[data['Date'] >= '2024-09-25']"
      ],
      "metadata": {
        "id": "4BwqDWMlYw8v"
      },
      "execution_count": 18,
      "outputs": []
    },
    {
      "cell_type": "markdown",
      "source": [
        "Penggantian nama kolom agar model prophet dapat mengenali kolom yang berisi tanggal dan nilai yang akan di prediksi.\n",
        "1. ` train_data = train_data.rename(columns={'Date': 'ds', 'Adj Close': 'y'})`: Mengganti nama kolom `Date` menjadi `ds` dan kolom `Adj Close` menjadi `y` pada dataset pelatihan, sesuai dengan format input yang diperlukan oleh model Prophet.\n",
        "2. `test_data = test_data.rename(columns={'Date': 'ds', 'Adj Close': 'y'})`: Melakukan hal yang sama untuk dataset pengujian.\n"
      ],
      "metadata": {
        "id": "F0809sBtnfZy"
      }
    },
    {
      "cell_type": "code",
      "source": [
        "train_data = train_data.rename(columns={'Date': 'ds', 'Adj Close': 'y'})\n",
        "test_data = test_data.rename(columns={'Date': 'ds', 'Adj Close': 'y'})"
      ],
      "metadata": {
        "id": "u0DS3BqPbZMW"
      },
      "execution_count": 19,
      "outputs": []
    },
    {
      "cell_type": "markdown",
      "source": [
        "## Model Prophet"
      ],
      "metadata": {
        "id": "Fugm75XOZUkH"
      }
    },
    {
      "cell_type": "markdown",
      "source": [
        "Langkah ini mempersiapkan model untuk melakukan prediksi berdasarkan data historis dan variable yang mempengaruhi harganya.\n",
        "1. `model = Prophet(...)`: Membuat objek model Prophet dengan parameter yang ditentukan:\n",
        "  - `yearly_seasonality=True`: Mengaktifkan komponen musiman tahunan.\n",
        "  - `weekly_seasonality=True`: Mengaktifkan komponen musiman mingguan.\n",
        "  - `daily_seasonality=True`: Mengaktifkan komponen musiman harian.\n",
        "  - `seasonality_mode='multiplicative'`: Menggunakan model musiman multiplikatif.\n",
        "  - `changepoint_prior_scale=0.5`: Menentukan kekuatan penyesuaian perubahan tren.\n",
        "  - `seasonality_prior_scale=0.01`: Menentukan kekuatan penyesuaian komponen musiman.\n",
        "  - `n_changepoints=30` : Menetapkan hingga 30 titik perubahan untuk menangkap perubahan tren dalam data.\n",
        "2. `model.add_regressor('Open')`, `model.add_regressor('High')`, `model.add_regressor('Low')`, `model.add_regressor('Close')`: Menambahkan kolom `Open`, `High`, `Low`, dan `Close` sebagai regresor untuk membantu model dalam membuat prediksi lebih akurat berdasarkan variabel-variabel tersebut.\n",
        "3.` model.fit(train_data[['ds', 'y', 'Open', 'High', 'Low', 'Close']])`: Melatih model menggunakan data pelatihan yang berisi kolom `ds` (tanggal), `y` (nilai yang diprediksi), dan regresor yang telah ditambahkan."
      ],
      "metadata": {
        "id": "Yap2InKtn82o"
      }
    },
    {
      "cell_type": "code",
      "source": [
        "model = Prophet(\n",
        "    yearly_seasonality=True,\n",
        "    weekly_seasonality=True,\n",
        "    daily_seasonality=True,\n",
        "    seasonality_mode='multiplicative',\n",
        "    changepoint_prior_scale=0.5,\n",
        "    seasonality_prior_scale=0.01,\n",
        "    n_changepoints=30\n",
        ")\n",
        "\n",
        "model.add_regressor('Open')\n",
        "model.add_regressor('High')\n",
        "model.add_regressor('Low')\n",
        "model.add_regressor('Close')\n",
        "model.fit(train_data[['ds', 'y', 'Open', 'High', 'Low', 'Close']])"
      ],
      "metadata": {
        "colab": {
          "base_uri": "https://localhost:8080/"
        },
        "id": "7L4cn5EhZeFH",
        "outputId": "6687d626-328f-4247-da13-0d7485eb728d"
      },
      "execution_count": 20,
      "outputs": [
        {
          "output_type": "stream",
          "name": "stderr",
          "text": [
            "DEBUG:cmdstanpy:input tempfile: /tmp/tmpq4kgzjzg/jjwwng6p.json\n",
            "DEBUG:cmdstanpy:input tempfile: /tmp/tmpq4kgzjzg/29qzmafk.json\n",
            "DEBUG:cmdstanpy:idx 0\n",
            "DEBUG:cmdstanpy:running CmdStan, num_threads: None\n",
            "DEBUG:cmdstanpy:CmdStan args: ['/usr/local/lib/python3.11/dist-packages/prophet/stan_model/prophet_model.bin', 'random', 'seed=89046', 'data', 'file=/tmp/tmpq4kgzjzg/jjwwng6p.json', 'init=/tmp/tmpq4kgzjzg/29qzmafk.json', 'output', 'file=/tmp/tmpq4kgzjzg/prophet_modelgavlrolx/prophet_model-20250123070508.csv', 'method=optimize', 'algorithm=lbfgs', 'iter=10000']\n",
            "07:05:08 - cmdstanpy - INFO - Chain [1] start processing\n",
            "INFO:cmdstanpy:Chain [1] start processing\n",
            "07:05:10 - cmdstanpy - INFO - Chain [1] done processing\n",
            "INFO:cmdstanpy:Chain [1] done processing\n"
          ]
        },
        {
          "output_type": "execute_result",
          "data": {
            "text/plain": [
              "<prophet.forecaster.Prophet at 0x7ddde1265ed0>"
            ]
          },
          "metadata": {},
          "execution_count": 20
        }
      ]
    },
    {
      "cell_type": "markdown",
      "source": [
        "Langkah ini memungkikan model untuk menghasilkan prediksi harga berdasarkan data historis dan faktor - faktor yang mempengaruhi harga.\n",
        "1. `future = model.make_future_dataframe(periods=len(test_data))`: Membuat DataFrame future yang berisi tanggal masa depan berdasarkan jumlah baris dalam `test_data`. Ini menambahkan periode waktu yang diperlukan untuk prediksi ke model.\n",
        "2. `future = pd.concat([future,data[['Open', 'High', 'Low', 'Close']]], axis=1)`: Menggabungkan DataFrame future dengan kolom `Open`, `High`, `Low`, dan `Close` dari dataset asli. Ini memastikan bahwa semua variabel regresor yang diperlukan untuk prediksi tersedia dalam DataFrame masa depan.\n",
        "3. `forecast = model.predict(future)`: Menggunakan model Prophet untuk memprediksi nilai masa depan berdasarkan DataFrame `future`, yang sekarang berisi tanggal dan regresor. Hasil prediksi disimpan dalam variabel `forecast`.\n"
      ],
      "metadata": {
        "id": "z5qHSEb5og8_"
      }
    },
    {
      "cell_type": "code",
      "source": [
        "future = model.make_future_dataframe(periods=len(test_data))\n",
        "future = pd.concat([future,data[['Open', 'High', 'Low', 'Close']]], axis=1)\n",
        "forecast = model.predict(future)"
      ],
      "metadata": {
        "id": "sHAqMJMnZ28u"
      },
      "execution_count": 21,
      "outputs": []
    },
    {
      "cell_type": "markdown",
      "source": [
        "Dengan langkah ini, `forecast_test` siap digunakan untuk membandingkan prediksi dengan nilai aktual dalam data pengujian, sehingga evaluasi model dapat dilakukan.\n",
        "1. `forecast_test = forecast[-len(test_data):]`: Mengambil bagian akhir dari DataFrame forecast yang sesuai dengan panjang dataset pengujian (`test_data`). Ini memastikan bahwa hanya prediksi yang relevan untuk periode pengujian yang diambil.\n",
        "2. `forecast_test['ds'] = test_data['ds']`: Menambahkan kolom `ds` (tanggal) dari `test_data` ke `forecast_test`. Hal ini memastikan bahwa DataFrame `forecast_test` sekarang mencakup tanggal yang sesuai untuk setiap prediksi.\n",
        "\n"
      ],
      "metadata": {
        "id": "P4AlluGoo1W3"
      }
    },
    {
      "cell_type": "code",
      "source": [
        "forecast_test = forecast[-len(test_data):]\n",
        "forecast_test['ds'] = test_data['ds']"
      ],
      "metadata": {
        "colab": {
          "base_uri": "https://localhost:8080/"
        },
        "id": "BJpoJCcTdkXy",
        "outputId": "ef71cc63-e15b-475f-ec5c-73348e6ccb0c"
      },
      "execution_count": 22,
      "outputs": [
        {
          "output_type": "stream",
          "name": "stderr",
          "text": [
            "<ipython-input-22-f5b9271afe73>:2: SettingWithCopyWarning: \n",
            "A value is trying to be set on a copy of a slice from a DataFrame.\n",
            "Try using .loc[row_indexer,col_indexer] = value instead\n",
            "\n",
            "See the caveats in the documentation: https://pandas.pydata.org/pandas-docs/stable/user_guide/indexing.html#returning-a-view-versus-a-copy\n",
            "  forecast_test['ds'] = test_data['ds']\n"
          ]
        }
      ]
    },
    {
      "cell_type": "markdown",
      "source": [
        "## Hasil MAE, RMSE, dan Visual"
      ],
      "metadata": {
        "id": "CmWO5atvbCm3"
      }
    },
    {
      "cell_type": "markdown",
      "source": [
        "Langkah ini penting untuk mengevaluasi seberapa baik model dalam memprediksi nilai di dataset pengujian.\n",
        "1. `mae = mean_absolute_error(test_data['y'], forecast_test['yhat'])`: Menghitung Mean Absolute Error (MAE) antara nilai aktual (`y` dari `test_data`) dan nilai yang diprediksi (`yhat` dari `forecast_test`). MAE memberikan ukuran rata-rata kesalahan absolut dari prediksi.\n",
        "2.` rmse = np.sqrt(mean_squared_error(test_data['y'], forecast_test['yhat']))`: Menghitung Root Mean Squared Error (RMSE) dengan mengambil akar kuadrat dari Mean Squared Error (MSE) antara nilai aktual dan prediksi. RMSE memberikan ukuran kesalahan kuadrat yang lebih sensitif terhadap outlier.\n",
        "3. `print(f'Prophet with Best Regression and Parameters - MAE: {mae}, RMSE: {rmse}')`: Mencetak hasil MAE dan RMSE, memberikan informasi tentang kinerja model Prophet dengan regresor dan parameter terbaik yang digunakan."
      ],
      "metadata": {
        "id": "CBNbySCFpHAY"
      }
    },
    {
      "cell_type": "code",
      "source": [
        "mae = mean_absolute_error(test_data['y'], forecast_test['yhat'])\n",
        "rmse = np.sqrt(mean_squared_error(test_data['y'], forecast_test['yhat']))\n",
        "print(f'Prophet Regression and Parameters - MAE: {mae}, RMSE: {rmse}')"
      ],
      "metadata": {
        "colab": {
          "base_uri": "https://localhost:8080/"
        },
        "id": "rD9HJYRYdygW",
        "outputId": "e93b5277-91d2-437e-f1ba-6735646d7eb0"
      },
      "execution_count": 23,
      "outputs": [
        {
          "output_type": "stream",
          "name": "stdout",
          "text": [
            "Prophet Regression and Parameters - MAE: 210.43327849517783, RMSE: 231.60260885744373\n"
          ]
        }
      ]
    },
    {
      "cell_type": "markdown",
      "source": [
        "Visualisasi ini memungkikan perbandingan langsung antara hasil prediksi dan nilai aktual, memberikan gambaran yang jelas tenang kinerja model.\n",
        "1. `fig = px.line()`: Membuat objek figure baru untuk plot garis.\n",
        "2. `fig.add_scatter(...)`:\n",
        "  - Menambahkan garis untuk prediksi (`yhat`) dengan tanggal dari `forecast_test`, diwarnai biru dan diberi label 'Forecast'.\n",
        "  - Menambahkan garis untuk nilai aktual (`y`) dengan tanggal dari `test_data`, diwarnai hijau dan diberi label 'Actual'.\n",
        "3. `fig.update_layout(...)`: Mengatur tata letak plot dengan:\n",
        "  - `title`: Judul plot.\n",
        "  - `xaxis_title` dan `yaxis_title`: Label untuk sumbu-x (Tanggal) dan sumbu-y (Harga Penutupan yang Disesuaikan).\n",
        "  - `xaxis_range`: Menentukan rentang sumbu-x dari 21 September 2024 hingga 21 Oktober 2024.\n",
        "  - `hovermode='x unified'`: Mengatur mode hover untuk menampilkan nilai secara bersamaan saat kursor berada di atas sumbu-x.\n",
        "4. `fig.show()`: Menampilkan plot interaktif."
      ],
      "metadata": {
        "id": "rHyEvrO6peeH"
      }
    },
    {
      "cell_type": "code",
      "source": [
        "fig = px.line()\n",
        "fig.add_scatter(x=forecast_test['ds'], y=forecast_test['yhat'], mode='lines', name='Forecast', line=dict(color='blue'))\n",
        "fig.add_scatter(x=test_data['ds'], y=test_data['y'], mode='lines', name='Actual', line=dict(color='green'))\n",
        "fig.update_layout(title='Prophet with Best Regression and Parameters Forecast vs Actual',\n",
        "                  xaxis_title='Date',\n",
        "                  yaxis_title='Adjusted Close Price',\n",
        "                  xaxis_range=['2024-09-25', '2024-10-25'],\n",
        "                  hovermode='x unified')\n",
        "fig.show()"
      ],
      "metadata": {
        "colab": {
          "base_uri": "https://localhost:8080/",
          "height": 542
        },
        "id": "hY3sgHE_d0oO",
        "outputId": "f1419f87-f183-4c0c-8670-01668e1668cd"
      },
      "execution_count": 24,
      "outputs": [
        {
          "output_type": "display_data",
          "data": {
            "text/html": [
              "<html>\n",
              "<head><meta charset=\"utf-8\" /></head>\n",
              "<body>\n",
              "    <div>            <script src=\"https://cdnjs.cloudflare.com/ajax/libs/mathjax/2.7.5/MathJax.js?config=TeX-AMS-MML_SVG\"></script><script type=\"text/javascript\">if (window.MathJax && window.MathJax.Hub && window.MathJax.Hub.Config) {window.MathJax.Hub.Config({SVG: {font: \"STIX-Web\"}});}</script>                <script type=\"text/javascript\">window.PlotlyConfig = {MathJaxConfig: 'local'};</script>\n",
              "        <script charset=\"utf-8\" src=\"https://cdn.plot.ly/plotly-2.35.2.min.js\"></script>                <div id=\"2f0898c1-f2dd-4c57-926f-40fea31496ab\" class=\"plotly-graph-div\" style=\"height:525px; width:100%;\"></div>            <script type=\"text/javascript\">                                    window.PLOTLYENV=window.PLOTLYENV || {};                                    if (document.getElementById(\"2f0898c1-f2dd-4c57-926f-40fea31496ab\")) {                    Plotly.newPlot(                        \"2f0898c1-f2dd-4c57-926f-40fea31496ab\",                        [{\"hovertemplate\":\"\\u003cextra\\u003e\\u003c\\u002fextra\\u003e\",\"legendgroup\":\"\",\"line\":{\"color\":\"#636efa\",\"dash\":\"solid\"},\"marker\":{\"symbol\":\"circle\"},\"mode\":\"lines\",\"name\":\"\",\"orientation\":\"v\",\"showlegend\":false,\"xaxis\":\"x\",\"yaxis\":\"y\",\"type\":\"scatter\"},{\"line\":{\"color\":\"blue\"},\"mode\":\"lines\",\"name\":\"Forecast\",\"x\":[\"2024-09-25T00:00:00\",\"2024-09-26T00:00:00\",\"2024-09-27T00:00:00\",\"2024-09-30T00:00:00\",\"2024-10-02T00:00:00\",\"2024-10-04T00:00:00\",\"2024-10-07T00:00:00\",\"2024-10-08T00:00:00\",\"2024-10-10T00:00:00\",\"2024-10-11T00:00:00\",\"2024-10-14T00:00:00\",\"2024-10-15T00:00:00\",\"2024-10-16T00:00:00\",\"2024-10-17T00:00:00\",\"2024-10-18T00:00:00\",\"2024-10-21T00:00:00\",\"2024-10-22T00:00:00\",\"2024-10-23T00:00:00\",\"2024-10-24T00:00:00\",\"2024-10-25T00:00:00\",\"2024-10-28T00:00:00\",\"2024-10-29T00:00:00\",\"2024-10-30T00:00:00\",\"2024-10-31T00:00:00\",\"2024-11-01T00:00:00\",\"2024-11-04T00:00:00\",\"2024-11-05T00:00:00\",\"2024-11-06T00:00:00\",\"2024-11-07T00:00:00\",\"2024-11-08T00:00:00\",\"2024-11-11T00:00:00\",\"2024-11-12T00:00:00\",\"2024-11-13T00:00:00\",\"2024-11-14T00:00:00\",\"2024-11-15T00:00:00\",\"2024-11-18T00:00:00\",\"2024-11-19T00:00:00\",\"2024-11-20T00:00:00\",\"2024-11-21T00:00:00\",\"2024-11-22T00:00:00\",\"2024-11-25T00:00:00\",\"2024-11-26T00:00:00\",\"2024-11-27T00:00:00\",\"2024-11-28T00:00:00\",\"2024-11-29T00:00:00\",\"2024-12-02T00:00:00\",\"2024-12-03T00:00:00\",\"2024-12-04T00:00:00\",\"2024-12-05T00:00:00\",\"2024-12-06T00:00:00\",\"2024-12-09T00:00:00\",\"2024-12-10T00:00:00\",\"2024-12-11T00:00:00\",\"2024-12-12T00:00:00\",\"2024-12-13T00:00:00\",\"2024-12-16T00:00:00\",\"2024-12-17T00:00:00\",\"2024-12-18T00:00:00\",\"2024-12-19T00:00:00\",\"2024-12-20T00:00:00\",\"2024-12-23T00:00:00\",\"2024-12-24T00:00:00\",\"2024-12-26T00:00:00\",\"2024-12-27T00:00:00\",\"2024-12-30T00:00:00\",\"2025-01-02T00:00:00\",\"2025-01-03T00:00:00\",\"2025-01-06T00:00:00\",\"2025-01-07T00:00:00\",\"2025-01-08T00:00:00\",\"2025-01-09T00:00:00\",\"2025-01-10T00:00:00\",\"2025-01-13T00:00:00\",\"2025-01-14T00:00:00\",\"2025-01-15T00:00:00\",\"2025-01-16T00:00:00\",\"2025-01-17T00:00:00\",\"2025-01-20T00:00:00\",\"2025-01-21T00:00:00\",\"2025-01-22T00:00:00\"],\"y\":[61919.562931851746,64414.698636046145,63943.090564067694,61227.65217812583,61013.22403425353,60371.65122695575,60818.5028613468,60108.79844284088,58722.33031429075,59138.68386683002,59126.015890901515,60801.3201567978,59359.49076565568,59579.13831502113,59093.38053311094,58903.10339386307,57609.99359844995,59003.73665291605,56476.37423467131,55811.60225735844,58061.67377992794,59547.112052495926,59032.589438323696,59195.447506359575,58173.99108279747,58558.24684493908,57490.90476525954,57203.037775410274,57205.543408251106,56896.00541345661,54889.933042924196,52802.78288566974,50417.37052913545,49749.990340428645,53398.14353821573,56547.62940315291,56151.61892260865,55134.18535639553,56185.49217536043,55749.80867216378,57701.319951189034,58123.159055899945,56121.76811916435,55301.60981723543,53996.65301164049,53321.36927214587,53333.92719150895,52877.92276340451,53488.34208571719,53886.16763140652,53199.97608468093,53772.09674933201,53711.2666704759,55672.61821875773,55874.67159149377,55392.76466500472,53983.84329269136,54688.720748282016,52855.253127563104,52684.56861697397,53184.05901523366,54134.42859289306,53335.35924298324,53423.832619137895,52919.17367477646,53107.58002164672,54078.31318986865,55561.384926491715,55112.33632739683,57028.66230532414,55792.599868874706,54971.2755186123,53743.8103001589,53469.666200763335,53273.10641918735,53920.14869547762,53307.65674258943,53006.01178294852,53122.175103872294,53928.454635995615],\"type\":\"scatter\"},{\"line\":{\"color\":\"green\"},\"mode\":\"lines\",\"name\":\"Actual\",\"x\":[\"2024-09-25T00:00:00\",\"2024-09-26T00:00:00\",\"2024-09-27T00:00:00\",\"2024-09-30T00:00:00\",\"2024-10-02T00:00:00\",\"2024-10-04T00:00:00\",\"2024-10-07T00:00:00\",\"2024-10-08T00:00:00\",\"2024-10-10T00:00:00\",\"2024-10-11T00:00:00\",\"2024-10-14T00:00:00\",\"2024-10-15T00:00:00\",\"2024-10-16T00:00:00\",\"2024-10-17T00:00:00\",\"2024-10-18T00:00:00\",\"2024-10-21T00:00:00\",\"2024-10-22T00:00:00\",\"2024-10-23T00:00:00\",\"2024-10-24T00:00:00\",\"2024-10-25T00:00:00\",\"2024-10-28T00:00:00\",\"2024-10-29T00:00:00\",\"2024-10-30T00:00:00\",\"2024-10-31T00:00:00\",\"2024-11-01T00:00:00\",\"2024-11-04T00:00:00\",\"2024-11-05T00:00:00\",\"2024-11-06T00:00:00\",\"2024-11-07T00:00:00\",\"2024-11-08T00:00:00\",\"2024-11-11T00:00:00\",\"2024-11-12T00:00:00\",\"2024-11-13T00:00:00\",\"2024-11-14T00:00:00\",\"2024-11-15T00:00:00\",\"2024-11-18T00:00:00\",\"2024-11-19T00:00:00\",\"2024-11-20T00:00:00\",\"2024-11-21T00:00:00\",\"2024-11-22T00:00:00\",\"2024-11-25T00:00:00\",\"2024-11-26T00:00:00\",\"2024-11-27T00:00:00\",\"2024-11-28T00:00:00\",\"2024-11-29T00:00:00\",\"2024-12-02T00:00:00\",\"2024-12-03T00:00:00\",\"2024-12-04T00:00:00\",\"2024-12-05T00:00:00\",\"2024-12-06T00:00:00\",\"2024-12-09T00:00:00\",\"2024-12-10T00:00:00\",\"2024-12-11T00:00:00\",\"2024-12-12T00:00:00\",\"2024-12-13T00:00:00\",\"2024-12-16T00:00:00\",\"2024-12-17T00:00:00\",\"2024-12-18T00:00:00\",\"2024-12-19T00:00:00\",\"2024-12-20T00:00:00\",\"2024-12-23T00:00:00\",\"2024-12-24T00:00:00\",\"2024-12-26T00:00:00\",\"2024-12-27T00:00:00\",\"2024-12-30T00:00:00\",\"2025-01-02T00:00:00\",\"2025-01-03T00:00:00\",\"2025-01-06T00:00:00\",\"2025-01-07T00:00:00\",\"2025-01-08T00:00:00\",\"2025-01-09T00:00:00\",\"2025-01-10T00:00:00\",\"2025-01-13T00:00:00\",\"2025-01-14T00:00:00\",\"2025-01-15T00:00:00\",\"2025-01-16T00:00:00\",\"2025-01-17T00:00:00\",\"2025-01-20T00:00:00\",\"2025-01-21T00:00:00\",\"2025-01-22T00:00:00\"],\"y\":[61852.94921875,64339.0,64200.0,61500.0,61300.0,60600.0,61000.0,60300.0,58900.0,59300.0,59300.0,61000.0,59500.0,59700.0,59200.0,59000.0,57700.0,59100.0,56600.0,55900.0,58100.0,59600.0,59100.0,59200.0,58300.0,58700.0,57600.0,57300.0,57300.0,57000.0,55000.0,53000.0,50600.0,49900.0,53500.0,56700.0,56300.0,55300.0,56400.0,56000.0,57900.0,58300.0,56300.0,55500.0,54200.0,53600.0,53600.0,53100.0,53700.0,54100.0,53400.0,54000.0,54000.0,55900.0,56100.0,55600.0,54200.0,54900.0,53100.0,53000.0,53500.0,54400.0,53600.0,53700.0,53200.0,53400.0,54400.0,55900.0,55400.0,57300.0,56100.0,55300.0,54100.0,53900.0,53700.0,54300.0,53700.0,53400.0,53500.0,54300.0],\"type\":\"scatter\"}],                        {\"template\":{\"data\":{\"histogram2dcontour\":[{\"type\":\"histogram2dcontour\",\"colorbar\":{\"outlinewidth\":0,\"ticks\":\"\"},\"colorscale\":[[0.0,\"#0d0887\"],[0.1111111111111111,\"#46039f\"],[0.2222222222222222,\"#7201a8\"],[0.3333333333333333,\"#9c179e\"],[0.4444444444444444,\"#bd3786\"],[0.5555555555555556,\"#d8576b\"],[0.6666666666666666,\"#ed7953\"],[0.7777777777777778,\"#fb9f3a\"],[0.8888888888888888,\"#fdca26\"],[1.0,\"#f0f921\"]]}],\"choropleth\":[{\"type\":\"choropleth\",\"colorbar\":{\"outlinewidth\":0,\"ticks\":\"\"}}],\"histogram2d\":[{\"type\":\"histogram2d\",\"colorbar\":{\"outlinewidth\":0,\"ticks\":\"\"},\"colorscale\":[[0.0,\"#0d0887\"],[0.1111111111111111,\"#46039f\"],[0.2222222222222222,\"#7201a8\"],[0.3333333333333333,\"#9c179e\"],[0.4444444444444444,\"#bd3786\"],[0.5555555555555556,\"#d8576b\"],[0.6666666666666666,\"#ed7953\"],[0.7777777777777778,\"#fb9f3a\"],[0.8888888888888888,\"#fdca26\"],[1.0,\"#f0f921\"]]}],\"heatmap\":[{\"type\":\"heatmap\",\"colorbar\":{\"outlinewidth\":0,\"ticks\":\"\"},\"colorscale\":[[0.0,\"#0d0887\"],[0.1111111111111111,\"#46039f\"],[0.2222222222222222,\"#7201a8\"],[0.3333333333333333,\"#9c179e\"],[0.4444444444444444,\"#bd3786\"],[0.5555555555555556,\"#d8576b\"],[0.6666666666666666,\"#ed7953\"],[0.7777777777777778,\"#fb9f3a\"],[0.8888888888888888,\"#fdca26\"],[1.0,\"#f0f921\"]]}],\"heatmapgl\":[{\"type\":\"heatmapgl\",\"colorbar\":{\"outlinewidth\":0,\"ticks\":\"\"},\"colorscale\":[[0.0,\"#0d0887\"],[0.1111111111111111,\"#46039f\"],[0.2222222222222222,\"#7201a8\"],[0.3333333333333333,\"#9c179e\"],[0.4444444444444444,\"#bd3786\"],[0.5555555555555556,\"#d8576b\"],[0.6666666666666666,\"#ed7953\"],[0.7777777777777778,\"#fb9f3a\"],[0.8888888888888888,\"#fdca26\"],[1.0,\"#f0f921\"]]}],\"contourcarpet\":[{\"type\":\"contourcarpet\",\"colorbar\":{\"outlinewidth\":0,\"ticks\":\"\"}}],\"contour\":[{\"type\":\"contour\",\"colorbar\":{\"outlinewidth\":0,\"ticks\":\"\"},\"colorscale\":[[0.0,\"#0d0887\"],[0.1111111111111111,\"#46039f\"],[0.2222222222222222,\"#7201a8\"],[0.3333333333333333,\"#9c179e\"],[0.4444444444444444,\"#bd3786\"],[0.5555555555555556,\"#d8576b\"],[0.6666666666666666,\"#ed7953\"],[0.7777777777777778,\"#fb9f3a\"],[0.8888888888888888,\"#fdca26\"],[1.0,\"#f0f921\"]]}],\"surface\":[{\"type\":\"surface\",\"colorbar\":{\"outlinewidth\":0,\"ticks\":\"\"},\"colorscale\":[[0.0,\"#0d0887\"],[0.1111111111111111,\"#46039f\"],[0.2222222222222222,\"#7201a8\"],[0.3333333333333333,\"#9c179e\"],[0.4444444444444444,\"#bd3786\"],[0.5555555555555556,\"#d8576b\"],[0.6666666666666666,\"#ed7953\"],[0.7777777777777778,\"#fb9f3a\"],[0.8888888888888888,\"#fdca26\"],[1.0,\"#f0f921\"]]}],\"mesh3d\":[{\"type\":\"mesh3d\",\"colorbar\":{\"outlinewidth\":0,\"ticks\":\"\"}}],\"scatter\":[{\"fillpattern\":{\"fillmode\":\"overlay\",\"size\":10,\"solidity\":0.2},\"type\":\"scatter\"}],\"parcoords\":[{\"type\":\"parcoords\",\"line\":{\"colorbar\":{\"outlinewidth\":0,\"ticks\":\"\"}}}],\"scatterpolargl\":[{\"type\":\"scatterpolargl\",\"marker\":{\"colorbar\":{\"outlinewidth\":0,\"ticks\":\"\"}}}],\"bar\":[{\"error_x\":{\"color\":\"#2a3f5f\"},\"error_y\":{\"color\":\"#2a3f5f\"},\"marker\":{\"line\":{\"color\":\"#E5ECF6\",\"width\":0.5},\"pattern\":{\"fillmode\":\"overlay\",\"size\":10,\"solidity\":0.2}},\"type\":\"bar\"}],\"scattergeo\":[{\"type\":\"scattergeo\",\"marker\":{\"colorbar\":{\"outlinewidth\":0,\"ticks\":\"\"}}}],\"scatterpolar\":[{\"type\":\"scatterpolar\",\"marker\":{\"colorbar\":{\"outlinewidth\":0,\"ticks\":\"\"}}}],\"histogram\":[{\"marker\":{\"pattern\":{\"fillmode\":\"overlay\",\"size\":10,\"solidity\":0.2}},\"type\":\"histogram\"}],\"scattergl\":[{\"type\":\"scattergl\",\"marker\":{\"colorbar\":{\"outlinewidth\":0,\"ticks\":\"\"}}}],\"scatter3d\":[{\"type\":\"scatter3d\",\"line\":{\"colorbar\":{\"outlinewidth\":0,\"ticks\":\"\"}},\"marker\":{\"colorbar\":{\"outlinewidth\":0,\"ticks\":\"\"}}}],\"scattermapbox\":[{\"type\":\"scattermapbox\",\"marker\":{\"colorbar\":{\"outlinewidth\":0,\"ticks\":\"\"}}}],\"scatterternary\":[{\"type\":\"scatterternary\",\"marker\":{\"colorbar\":{\"outlinewidth\":0,\"ticks\":\"\"}}}],\"scattercarpet\":[{\"type\":\"scattercarpet\",\"marker\":{\"colorbar\":{\"outlinewidth\":0,\"ticks\":\"\"}}}],\"carpet\":[{\"aaxis\":{\"endlinecolor\":\"#2a3f5f\",\"gridcolor\":\"white\",\"linecolor\":\"white\",\"minorgridcolor\":\"white\",\"startlinecolor\":\"#2a3f5f\"},\"baxis\":{\"endlinecolor\":\"#2a3f5f\",\"gridcolor\":\"white\",\"linecolor\":\"white\",\"minorgridcolor\":\"white\",\"startlinecolor\":\"#2a3f5f\"},\"type\":\"carpet\"}],\"table\":[{\"cells\":{\"fill\":{\"color\":\"#EBF0F8\"},\"line\":{\"color\":\"white\"}},\"header\":{\"fill\":{\"color\":\"#C8D4E3\"},\"line\":{\"color\":\"white\"}},\"type\":\"table\"}],\"barpolar\":[{\"marker\":{\"line\":{\"color\":\"#E5ECF6\",\"width\":0.5},\"pattern\":{\"fillmode\":\"overlay\",\"size\":10,\"solidity\":0.2}},\"type\":\"barpolar\"}],\"pie\":[{\"automargin\":true,\"type\":\"pie\"}]},\"layout\":{\"autotypenumbers\":\"strict\",\"colorway\":[\"#636efa\",\"#EF553B\",\"#00cc96\",\"#ab63fa\",\"#FFA15A\",\"#19d3f3\",\"#FF6692\",\"#B6E880\",\"#FF97FF\",\"#FECB52\"],\"font\":{\"color\":\"#2a3f5f\"},\"hovermode\":\"closest\",\"hoverlabel\":{\"align\":\"left\"},\"paper_bgcolor\":\"white\",\"plot_bgcolor\":\"#E5ECF6\",\"polar\":{\"bgcolor\":\"#E5ECF6\",\"angularaxis\":{\"gridcolor\":\"white\",\"linecolor\":\"white\",\"ticks\":\"\"},\"radialaxis\":{\"gridcolor\":\"white\",\"linecolor\":\"white\",\"ticks\":\"\"}},\"ternary\":{\"bgcolor\":\"#E5ECF6\",\"aaxis\":{\"gridcolor\":\"white\",\"linecolor\":\"white\",\"ticks\":\"\"},\"baxis\":{\"gridcolor\":\"white\",\"linecolor\":\"white\",\"ticks\":\"\"},\"caxis\":{\"gridcolor\":\"white\",\"linecolor\":\"white\",\"ticks\":\"\"}},\"coloraxis\":{\"colorbar\":{\"outlinewidth\":0,\"ticks\":\"\"}},\"colorscale\":{\"sequential\":[[0.0,\"#0d0887\"],[0.1111111111111111,\"#46039f\"],[0.2222222222222222,\"#7201a8\"],[0.3333333333333333,\"#9c179e\"],[0.4444444444444444,\"#bd3786\"],[0.5555555555555556,\"#d8576b\"],[0.6666666666666666,\"#ed7953\"],[0.7777777777777778,\"#fb9f3a\"],[0.8888888888888888,\"#fdca26\"],[1.0,\"#f0f921\"]],\"sequentialminus\":[[0.0,\"#0d0887\"],[0.1111111111111111,\"#46039f\"],[0.2222222222222222,\"#7201a8\"],[0.3333333333333333,\"#9c179e\"],[0.4444444444444444,\"#bd3786\"],[0.5555555555555556,\"#d8576b\"],[0.6666666666666666,\"#ed7953\"],[0.7777777777777778,\"#fb9f3a\"],[0.8888888888888888,\"#fdca26\"],[1.0,\"#f0f921\"]],\"diverging\":[[0,\"#8e0152\"],[0.1,\"#c51b7d\"],[0.2,\"#de77ae\"],[0.3,\"#f1b6da\"],[0.4,\"#fde0ef\"],[0.5,\"#f7f7f7\"],[0.6,\"#e6f5d0\"],[0.7,\"#b8e186\"],[0.8,\"#7fbc41\"],[0.9,\"#4d9221\"],[1,\"#276419\"]]},\"xaxis\":{\"gridcolor\":\"white\",\"linecolor\":\"white\",\"ticks\":\"\",\"title\":{\"standoff\":15},\"zerolinecolor\":\"white\",\"automargin\":true,\"zerolinewidth\":2},\"yaxis\":{\"gridcolor\":\"white\",\"linecolor\":\"white\",\"ticks\":\"\",\"title\":{\"standoff\":15},\"zerolinecolor\":\"white\",\"automargin\":true,\"zerolinewidth\":2},\"scene\":{\"xaxis\":{\"backgroundcolor\":\"#E5ECF6\",\"gridcolor\":\"white\",\"linecolor\":\"white\",\"showbackground\":true,\"ticks\":\"\",\"zerolinecolor\":\"white\",\"gridwidth\":2},\"yaxis\":{\"backgroundcolor\":\"#E5ECF6\",\"gridcolor\":\"white\",\"linecolor\":\"white\",\"showbackground\":true,\"ticks\":\"\",\"zerolinecolor\":\"white\",\"gridwidth\":2},\"zaxis\":{\"backgroundcolor\":\"#E5ECF6\",\"gridcolor\":\"white\",\"linecolor\":\"white\",\"showbackground\":true,\"ticks\":\"\",\"zerolinecolor\":\"white\",\"gridwidth\":2}},\"shapedefaults\":{\"line\":{\"color\":\"#2a3f5f\"}},\"annotationdefaults\":{\"arrowcolor\":\"#2a3f5f\",\"arrowhead\":0,\"arrowwidth\":1},\"geo\":{\"bgcolor\":\"white\",\"landcolor\":\"#E5ECF6\",\"subunitcolor\":\"white\",\"showland\":true,\"showlakes\":true,\"lakecolor\":\"white\"},\"title\":{\"x\":0.05},\"mapbox\":{\"style\":\"light\"}}},\"xaxis\":{\"anchor\":\"y\",\"domain\":[0.0,1.0],\"title\":{\"text\":\"Date\"},\"range\":[\"2024-09-25\",\"2024-10-25\"]},\"yaxis\":{\"anchor\":\"x\",\"domain\":[0.0,1.0],\"title\":{\"text\":\"Adjusted Close Price\"}},\"legend\":{\"tracegroupgap\":0},\"margin\":{\"t\":60},\"title\":{\"text\":\"Prophet with Best Regression and Parameters Forecast vs Actual\"},\"hovermode\":\"x unified\"},                        {\"responsive\": true}                    ).then(function(){\n",
              "                            \n",
              "var gd = document.getElementById('2f0898c1-f2dd-4c57-926f-40fea31496ab');\n",
              "var x = new MutationObserver(function (mutations, observer) {{\n",
              "        var display = window.getComputedStyle(gd).display;\n",
              "        if (!display || display === 'none') {{\n",
              "            console.log([gd, 'removed!']);\n",
              "            Plotly.purge(gd);\n",
              "            observer.disconnect();\n",
              "        }}\n",
              "}});\n",
              "\n",
              "// Listen for the removal of the full notebook cells\n",
              "var notebookContainer = gd.closest('#notebook-container');\n",
              "if (notebookContainer) {{\n",
              "    x.observe(notebookContainer, {childList: true});\n",
              "}}\n",
              "\n",
              "// Listen for the clearing of the current output cell\n",
              "var outputEl = gd.closest('.output');\n",
              "if (outputEl) {{\n",
              "    x.observe(outputEl, {childList: true});\n",
              "}}\n",
              "\n",
              "                        })                };                            </script>        </div>\n",
              "</body>\n",
              "</html>"
            ]
          },
          "metadata": {}
        }
      ]
    },
    {
      "cell_type": "markdown",
      "source": [
        "## Menyimpan Model"
      ],
      "metadata": {
        "id": "o85YnOgWa_6G"
      }
    },
    {
      "cell_type": "markdown",
      "source": [
        "Menyimpan model ini berguna untuk menghindari proses latihan yang memakan waktu dan memudahkan penggunaan model.\n",
        "1. `joblib.dump(...)`: Fungsi ini menyimpan objek Python (dalam hal ini, model) ke dalam format file yang efisien, sehingga model dapat dipulihkan (loaded) kembali di lain waktu tanpa perlu melatih ulang."
      ],
      "metadata": {
        "id": "nirzbTFXp_nY"
      }
    },
    {
      "cell_type": "code",
      "source": [
        "joblib.dump(model, 'Samsung_Prophet.pkl')"
      ],
      "metadata": {
        "colab": {
          "base_uri": "https://localhost:8080/"
        },
        "id": "cYEeXYJRbHD-",
        "outputId": "ef31d6d2-2901-446a-c9b5-17b06505055c"
      },
      "execution_count": 25,
      "outputs": [
        {
          "output_type": "execute_result",
          "data": {
            "text/plain": [
              "['Samsung_Prophet.pkl']"
            ]
          },
          "metadata": {},
          "execution_count": 25
        }
      ]
    }
  ]
}